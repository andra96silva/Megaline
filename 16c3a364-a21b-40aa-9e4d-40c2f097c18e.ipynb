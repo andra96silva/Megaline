{
 "cells": [
  {
   "cell_type": "markdown",
   "metadata": {},
   "source": [
    "**¡Hola Andrea! 😊**\n",
    "\n",
    "Mi nombre es **Alejandro Castellanos** y hoy tengo el placer de ser el revisor de tu proyecto.\n",
    "\n",
    "Voy a revisar todo tu código con detalle, buscando tanto los puntos fuertes como aquellos en los que podrías mejorar. Te dejaré comentarios a lo largo del notebook, destacando lo que has hecho bien y sugiriendo ajustes donde sea necesario. Si encuentro algún error, no te preocupes, te lo haré saber de forma clara y te daré información útil para que puedas corregirlo en la próxima iteración. Si en algún punto tienes comentarios, siéntete libre de dejarlos también.\n",
    "\n",
    "\n",
    "Encontrarás mis comentarios específicos dentro de cajas verdes, amarillas o rojas, es muy importante que no muevas, modifiques o borres mis comentarios, con el fin de tener un seguimiento adecuado de tu proceso:\n",
    "\n",
    "\n",
    "<div class=\"alert alert-block alert-success\">\n",
    "<b>Comentario del revisor</b> <a class=“tocSkip”></a>\n",
    "Si todo está perfecto.\n",
    "</div>\n",
    "\n",
    "<div class=\"alert alert-block alert-warning\">\n",
    "<b>Comentario del revisor</b> <a class=“tocSkip”></a>\n",
    "Si tu código está bien pero se puede mejorar o hay algún detalle que le hace falta.\n",
    "</div>\n",
    "\n",
    "<div class=\"alert alert-block alert-danger\">\n",
    "<b>Comentario del revisor</b> <a class=“tocSkip”></a>\n",
    "Si de pronto hace falta algo o existe algún problema con tu código o conclusiones.\n",
    "</div>\n",
    "\n",
    "Puedes responderme de esta forma:\n",
    "<div class=\"alert alert-block alert-info\">\n",
    "<b>Respuesta del estudiante</b> <a class=“tocSkip”></a>\n",
    "</div>\n",
    "\n",
    "A continuación te dejaré un comentario general con mi valoración del proyecto. **¡Mi objetivo es que sigas aprendiendo y mejorando con cada paso!**"
   ]
  },
  {
   "cell_type": "markdown",
   "metadata": {},
   "source": [
    "----"
   ]
  },
  {
   "cell_type": "markdown",
   "metadata": {},
   "source": [
    "<div class=\"alert alert-block alert-warning\">\n",
    "<b>Comentario del revisor (1ra Iteración)</b> <a class=“tocSkip”></a>\n",
    "\n",
    "Andrea has realizado un EDA muy cuidadoso, preparando meticulosamente la información y asegurando un estudio riguroso, lo que demuestra tu compromiso con la calidad metodológica. En el apartado de visualización, utilizaste herramientas efectivas para comprender el comportamiento de consumo de los usuarios en diferentes planes, mostrando habilidad para representar datos complejos. Además, tu enfoque en las pruebas de hipótesis refleja un buen dominio de la metodología para realizar comparaciones estadísticas en diferentes conjuntos de datos. \n",
    "\n",
    "Sin embargo, es necesario ajustar el cálculo del consumo de minutos e internet para determinar con mayor precisión el cobro mensual por usuario, además de complementar tus conclusiones. ¡No te preocupes! Cada ajuste que haces es una oportunidad para aprender y mejorar. Vas por buen camino, y estoy seguro de que en la siguiente versión harás un gran trabajo y lograrás completar el proyecto con éxito. ¡Sigue adelante! \n",
    "\n",
    "Estaré atento a tu próxima iteración 👀\n",
    "\n",
    "\n",
    "\n",
    "</div>"
   ]
  },
  {
   "cell_type": "markdown",
   "metadata": {},
   "source": [
    "<div class=\"alert alert-block alert-warning\">\n",
    "<b>Comentario General del revisor (2da Iteración)</b> <a class=“tocSkip”></a>\n",
    "\n",
    "Andrea hiciste un gran trabajo con los ajustes en esta iteración, solo hay error en el cálculo del consumo de internet. Estás usando las operaciones adecuadas pero no en el orden correcto, por esta razón el cobro mensual aún no es válido. Te deje un comentario específico que te ayudará a completar este proyecto de manera satisfactoria, lo podrás identificar con el este símbolo 2️⃣\n",
    "    \n",
    "Quedo atento a tu siguiente iteración 🦾\n",
    "    \n",
    "</div>"
   ]
  },
  {
   "cell_type": "markdown",
   "metadata": {},
   "source": [
    "<div class=\"alert alert-block alert-warning\">\n",
    "<b>Comentario General del revisor (3ra Iteración)</b> <a class=“tocSkip”></a>\n",
    "\n",
    "Andrea estás muy cerca, debes revisar el orden en el que estás haciendo el calculo de consumo de internet. En este caso, el orden en el que se haga el análisis si influye en el resultado. Te deje un comentario (3️⃣) detallando el paso a paso para que puedas hacer el ajuste respectivo.\n",
    "    \n",
    "Estoy seguro que la próxima iteración será la definitiva, ánimo 💯!!    \n",
    "    \n",
    "\n",
    "</div>"
   ]
  },
  {
   "cell_type": "markdown",
   "metadata": {},
   "source": [
    "<div class=\"alert alert-block alert-success\">\n",
    "<b>Comentario Genral del revisor (4ta Iteración)</b> <a class=“tocSkip”></a>\n",
    "\n",
    "¡Andrea excelente trabajo con los ajustes! Tu proyecto ahora cumple con todos los objetivos propuestos. Estoy seguro de que lo que aprendiste aquí te será muy útil en futuros proyectos. ¡Éxito en tu próximo sprint! 🚀\n",
    "\n",
    "*Estado del Proyecto:* **Aprobado**\n",
    "\n",
    "</div>"
   ]
  },
  {
   "cell_type": "markdown",
   "metadata": {},
   "source": [
    "----"
   ]
  },
  {
   "cell_type": "markdown",
   "metadata": {
    "id": "3rYiDeEH0q0f"
   },
   "source": [
    "# ¿Cuál es la mejor tarifa?\n",
    "\n",
    "Trabajas como analista para el operador de telecomunicaciones Megaline. La empresa ofrece a sus clientes dos tarifas de prepago, Surf y Ultimate. El departamento comercial quiere saber cuál de las tarifas genera más ingresos para poder ajustar el presupuesto de publicidad.\n",
    "\n",
    "Vas a realizar un análisis preliminar de las tarifas basado en una selección de clientes relativamente pequeña. Tendrás los datos de 500 clientes de Megaline: quiénes son los clientes, de dónde son, qué tarifa usan, así como la cantidad de llamadas que hicieron y los mensajes de texto que enviaron en 2018. Tu trabajo es analizar el comportamiento de los clientes y determinar qué tarifa de prepago genera más ingresos."
   ]
  },
  {
   "cell_type": "markdown",
   "metadata": {
    "id": "VNddPNRQ0q0w"
   },
   "source": [
    "[Te proporcionamos algunos comentarios para orientarte mientras completas este proyecto. Pero debes asegurarte de eliminar todos los comentarios entre corchetes antes de entregar tu proyecto.]\n",
    "\n",
    "[Antes de sumergirte en el análisis de datos, explica por tu propia cuenta el propósito del proyecto y las acciones que planeas realizar.]\n",
    "\n",
    "[Ten en cuenta que estudiar, modificar y analizar datos es un proceso iterativo. Es normal volver a los pasos anteriores y corregirlos/ampliarlos para permitir nuevos pasos.]"
   ]
  },
  {
   "cell_type": "markdown",
   "metadata": {
    "id": "MQi4IPy70q0y"
   },
   "source": [
    "## Inicialización"
   ]
  },
  {
   "cell_type": "code",
   "execution_count": 1,
   "metadata": {
    "id": "MtYIuBxu0q0z"
   },
   "outputs": [],
   "source": [
    "# Cargar todas las librerías\n",
    "import pandas as pd\n",
    "import numpy as np\n",
    "import seaborn as sns\n",
    "from matplotlib import pyplot as plt\n",
    "from scipy import stats as st\n",
    "from datetime import datetime\n",
    "import scipy.stats as stats"
   ]
  },
  {
   "cell_type": "markdown",
   "metadata": {
    "id": "4ysWWC5i0q00"
   },
   "source": [
    "## Cargar datos"
   ]
  },
  {
   "cell_type": "code",
   "execution_count": 2,
   "metadata": {
    "id": "CCqPW7rS0q01"
   },
   "outputs": [],
   "source": [
    "# Carga los archivos de datos en diferentes DataFrames\n",
    "\n",
    "calls=pd.read_csv('/datasets/megaline_calls.csv') \n",
    "\n",
    "internet=pd.read_csv('/datasets/megaline_internet.csv')\n",
    "\n",
    "messages=pd.read_csv('/datasets/megaline_messages.csv') \n",
    "\n",
    "plans=pd.read_csv('/datasets/megaline_plans.csv') \n",
    "\n",
    "users=pd.read_csv('/datasets/megaline_users.csv')\n",
    "\n"
   ]
  },
  {
   "cell_type": "markdown",
   "metadata": {
    "id": "69qqoJ3r0q01"
   },
   "source": [
    "## Preparar los datos"
   ]
  },
  {
   "cell_type": "markdown",
   "metadata": {
    "id": "vUuZw80S0q01"
   },
   "source": [
    "[Los datos para este proyecto se dividen en varias tablas. Explora cada una para tener una comprensión inicial de los datos. Si es necesario, haz las correcciones requeridas en cada tabla.]"
   ]
  },
  {
   "cell_type": "markdown",
   "metadata": {
    "id": "ohBhimvH0q01"
   },
   "source": [
    "## Tarifas"
   ]
  },
  {
   "cell_type": "code",
   "execution_count": 3,
   "metadata": {
    "id": "GptqP3Q40q02"
   },
   "outputs": [
    {
     "name": "stdout",
     "output_type": "stream",
     "text": [
      "<class 'pandas.core.frame.DataFrame'>\n",
      "RangeIndex: 2 entries, 0 to 1\n",
      "Data columns (total 8 columns):\n",
      " #   Column                 Non-Null Count  Dtype  \n",
      "---  ------                 --------------  -----  \n",
      " 0   messages_included      2 non-null      int64  \n",
      " 1   mb_per_month_included  2 non-null      int64  \n",
      " 2   minutes_included       2 non-null      int64  \n",
      " 3   usd_monthly_pay        2 non-null      int64  \n",
      " 4   usd_per_gb             2 non-null      int64  \n",
      " 5   usd_per_message        2 non-null      float64\n",
      " 6   usd_per_minute         2 non-null      float64\n",
      " 7   plan_name              2 non-null      object \n",
      "dtypes: float64(2), int64(5), object(1)\n",
      "memory usage: 256.0+ bytes\n"
     ]
    }
   ],
   "source": [
    "# Imprime la información general/resumida sobre el DataFrame de las tarifas\n",
    "\n",
    "plans.info()"
   ]
  },
  {
   "cell_type": "code",
   "execution_count": 4,
   "metadata": {
    "id": "64xzjwL70q02"
   },
   "outputs": [
    {
     "data": {
      "text/html": [
       "<div>\n",
       "<style scoped>\n",
       "    .dataframe tbody tr th:only-of-type {\n",
       "        vertical-align: middle;\n",
       "    }\n",
       "\n",
       "    .dataframe tbody tr th {\n",
       "        vertical-align: top;\n",
       "    }\n",
       "\n",
       "    .dataframe thead th {\n",
       "        text-align: right;\n",
       "    }\n",
       "</style>\n",
       "<table border=\"1\" class=\"dataframe\">\n",
       "  <thead>\n",
       "    <tr style=\"text-align: right;\">\n",
       "      <th></th>\n",
       "      <th>messages_included</th>\n",
       "      <th>mb_per_month_included</th>\n",
       "      <th>minutes_included</th>\n",
       "      <th>usd_monthly_pay</th>\n",
       "      <th>usd_per_gb</th>\n",
       "      <th>usd_per_message</th>\n",
       "      <th>usd_per_minute</th>\n",
       "      <th>plan_name</th>\n",
       "    </tr>\n",
       "  </thead>\n",
       "  <tbody>\n",
       "    <tr>\n",
       "      <th>0</th>\n",
       "      <td>50</td>\n",
       "      <td>15360</td>\n",
       "      <td>500</td>\n",
       "      <td>20</td>\n",
       "      <td>10</td>\n",
       "      <td>0.03</td>\n",
       "      <td>0.03</td>\n",
       "      <td>surf</td>\n",
       "    </tr>\n",
       "    <tr>\n",
       "      <th>1</th>\n",
       "      <td>1000</td>\n",
       "      <td>30720</td>\n",
       "      <td>3000</td>\n",
       "      <td>70</td>\n",
       "      <td>7</td>\n",
       "      <td>0.01</td>\n",
       "      <td>0.01</td>\n",
       "      <td>ultimate</td>\n",
       "    </tr>\n",
       "  </tbody>\n",
       "</table>\n",
       "</div>"
      ],
      "text/plain": [
       "   messages_included  mb_per_month_included  minutes_included  \\\n",
       "0                 50                  15360               500   \n",
       "1               1000                  30720              3000   \n",
       "\n",
       "   usd_monthly_pay  usd_per_gb  usd_per_message  usd_per_minute plan_name  \n",
       "0               20          10             0.03            0.03      surf  \n",
       "1               70           7             0.01            0.01  ultimate  "
      ]
     },
     "execution_count": 4,
     "metadata": {},
     "output_type": "execute_result"
    }
   ],
   "source": [
    "# Imprime una muestra de los datos para las tarifas\n",
    "\n",
    "plans.head()"
   ]
  },
  {
   "cell_type": "markdown",
   "metadata": {
    "id": "mEc_3_hs0q02"
   },
   "source": [
    "[Describe lo que ves y observas en la información general y en la muestra de datos impresa para el precio de datos anterior. ¿Hay algún problema (tipos de datos no adecuados, datos ausentes, etc.) que pudieran necesitar investigación y cambios adicionales? ¿Cómo se puede arreglar?]"
   ]
  },
  {
   "cell_type": "markdown",
   "metadata": {},
   "source": [
    "- Hasta el momento los datos se observan bien, ya que el tipo de datos corresponde al contenido de lo que hay enn cada columna."
   ]
  },
  {
   "cell_type": "markdown",
   "metadata": {
    "id": "R3C05i1l0q03"
   },
   "source": [
    "## Corregir datos"
   ]
  },
  {
   "cell_type": "markdown",
   "metadata": {
    "id": "bIi8StZI0q03"
   },
   "source": [
    "[Corrige los problemas obvios con los datos basándote en las observaciones iniciales.]"
   ]
  },
  {
   "cell_type": "code",
   "execution_count": 5,
   "metadata": {
    "id": "Y7SVmjGn0q03"
   },
   "outputs": [
    {
     "data": {
      "text/plain": [
       "messages_included        0\n",
       "mb_per_month_included    0\n",
       "minutes_included         0\n",
       "usd_monthly_pay          0\n",
       "usd_per_gb               0\n",
       "usd_per_message          0\n",
       "usd_per_minute           0\n",
       "plan_name                0\n",
       "dtype: int64"
      ]
     },
     "execution_count": 5,
     "metadata": {},
     "output_type": "execute_result"
    }
   ],
   "source": [
    "plans.isnull().sum()"
   ]
  },
  {
   "cell_type": "code",
   "execution_count": 6,
   "metadata": {},
   "outputs": [
    {
     "data": {
      "text/plain": [
       "0"
      ]
     },
     "execution_count": 6,
     "metadata": {},
     "output_type": "execute_result"
    }
   ],
   "source": [
    "plans.duplicated().sum()"
   ]
  },
  {
   "cell_type": "markdown",
   "metadata": {},
   "source": [
    "- Realizamos uso de los métodos isnull y duplicated para verificar la limpieza de los datos lo cual aarrojo que estan bien en este sentido ya que no hay datos ausentes ni duplicados."
   ]
  },
  {
   "cell_type": "markdown",
   "metadata": {
    "id": "LJir7bml0q03"
   },
   "source": [
    "## Enriquecer los datos"
   ]
  },
  {
   "cell_type": "markdown",
   "metadata": {
    "id": "eqADpCfg0q04"
   },
   "source": [
    "[Agrega factores adicionales a los datos si crees que pudieran ser útiles.]"
   ]
  },
  {
   "cell_type": "code",
   "execution_count": null,
   "metadata": {
    "id": "gfcIEuXV0q04"
   },
   "outputs": [],
   "source": []
  },
  {
   "cell_type": "markdown",
   "metadata": {
    "id": "1n2X6WXf0q04"
   },
   "source": [
    "## Usuarios/as"
   ]
  },
  {
   "cell_type": "code",
   "execution_count": 7,
   "metadata": {
    "id": "2NgjWFqx0q05"
   },
   "outputs": [
    {
     "name": "stdout",
     "output_type": "stream",
     "text": [
      "<class 'pandas.core.frame.DataFrame'>\n",
      "RangeIndex: 500 entries, 0 to 499\n",
      "Data columns (total 8 columns):\n",
      " #   Column      Non-Null Count  Dtype \n",
      "---  ------      --------------  ----- \n",
      " 0   user_id     500 non-null    int64 \n",
      " 1   first_name  500 non-null    object\n",
      " 2   last_name   500 non-null    object\n",
      " 3   age         500 non-null    int64 \n",
      " 4   city        500 non-null    object\n",
      " 5   reg_date    500 non-null    object\n",
      " 6   plan        500 non-null    object\n",
      " 7   churn_date  34 non-null     object\n",
      "dtypes: int64(2), object(6)\n",
      "memory usage: 31.4+ KB\n"
     ]
    }
   ],
   "source": [
    "# Imprime la información general/resumida sobre el DataFrame de usuarios\n",
    "\n",
    "users.info()"
   ]
  },
  {
   "cell_type": "code",
   "execution_count": 8,
   "metadata": {
    "id": "1IN1L9uh0q05"
   },
   "outputs": [
    {
     "data": {
      "text/html": [
       "<div>\n",
       "<style scoped>\n",
       "    .dataframe tbody tr th:only-of-type {\n",
       "        vertical-align: middle;\n",
       "    }\n",
       "\n",
       "    .dataframe tbody tr th {\n",
       "        vertical-align: top;\n",
       "    }\n",
       "\n",
       "    .dataframe thead th {\n",
       "        text-align: right;\n",
       "    }\n",
       "</style>\n",
       "<table border=\"1\" class=\"dataframe\">\n",
       "  <thead>\n",
       "    <tr style=\"text-align: right;\">\n",
       "      <th></th>\n",
       "      <th>user_id</th>\n",
       "      <th>first_name</th>\n",
       "      <th>last_name</th>\n",
       "      <th>age</th>\n",
       "      <th>city</th>\n",
       "      <th>reg_date</th>\n",
       "      <th>plan</th>\n",
       "      <th>churn_date</th>\n",
       "    </tr>\n",
       "  </thead>\n",
       "  <tbody>\n",
       "    <tr>\n",
       "      <th>0</th>\n",
       "      <td>1000</td>\n",
       "      <td>Anamaria</td>\n",
       "      <td>Bauer</td>\n",
       "      <td>45</td>\n",
       "      <td>Atlanta-Sandy Springs-Roswell, GA MSA</td>\n",
       "      <td>2018-12-24</td>\n",
       "      <td>ultimate</td>\n",
       "      <td>NaN</td>\n",
       "    </tr>\n",
       "    <tr>\n",
       "      <th>1</th>\n",
       "      <td>1001</td>\n",
       "      <td>Mickey</td>\n",
       "      <td>Wilkerson</td>\n",
       "      <td>28</td>\n",
       "      <td>Seattle-Tacoma-Bellevue, WA MSA</td>\n",
       "      <td>2018-08-13</td>\n",
       "      <td>surf</td>\n",
       "      <td>NaN</td>\n",
       "    </tr>\n",
       "    <tr>\n",
       "      <th>2</th>\n",
       "      <td>1002</td>\n",
       "      <td>Carlee</td>\n",
       "      <td>Hoffman</td>\n",
       "      <td>36</td>\n",
       "      <td>Las Vegas-Henderson-Paradise, NV MSA</td>\n",
       "      <td>2018-10-21</td>\n",
       "      <td>surf</td>\n",
       "      <td>NaN</td>\n",
       "    </tr>\n",
       "    <tr>\n",
       "      <th>3</th>\n",
       "      <td>1003</td>\n",
       "      <td>Reynaldo</td>\n",
       "      <td>Jenkins</td>\n",
       "      <td>52</td>\n",
       "      <td>Tulsa, OK MSA</td>\n",
       "      <td>2018-01-28</td>\n",
       "      <td>surf</td>\n",
       "      <td>NaN</td>\n",
       "    </tr>\n",
       "    <tr>\n",
       "      <th>4</th>\n",
       "      <td>1004</td>\n",
       "      <td>Leonila</td>\n",
       "      <td>Thompson</td>\n",
       "      <td>40</td>\n",
       "      <td>Seattle-Tacoma-Bellevue, WA MSA</td>\n",
       "      <td>2018-05-23</td>\n",
       "      <td>surf</td>\n",
       "      <td>NaN</td>\n",
       "    </tr>\n",
       "  </tbody>\n",
       "</table>\n",
       "</div>"
      ],
      "text/plain": [
       "   user_id first_name  last_name  age                                   city  \\\n",
       "0     1000   Anamaria      Bauer   45  Atlanta-Sandy Springs-Roswell, GA MSA   \n",
       "1     1001     Mickey  Wilkerson   28        Seattle-Tacoma-Bellevue, WA MSA   \n",
       "2     1002     Carlee    Hoffman   36   Las Vegas-Henderson-Paradise, NV MSA   \n",
       "3     1003   Reynaldo    Jenkins   52                          Tulsa, OK MSA   \n",
       "4     1004    Leonila   Thompson   40        Seattle-Tacoma-Bellevue, WA MSA   \n",
       "\n",
       "     reg_date      plan churn_date  \n",
       "0  2018-12-24  ultimate        NaN  \n",
       "1  2018-08-13      surf        NaN  \n",
       "2  2018-10-21      surf        NaN  \n",
       "3  2018-01-28      surf        NaN  \n",
       "4  2018-05-23      surf        NaN  "
      ]
     },
     "execution_count": 8,
     "metadata": {},
     "output_type": "execute_result"
    }
   ],
   "source": [
    "# Imprime una muestra de datos para usuarios\n",
    "\n",
    "users.head()"
   ]
  },
  {
   "cell_type": "markdown",
   "metadata": {
    "id": "dCZoUq4f0q06"
   },
   "source": [
    "[Describe lo que ves y observas en la información general y en la muestra de datos impresa para el precio de datos anterior. ¿Hay algún problema (tipos de datos no adecuados, datos ausentes, etc.) que pudieran necesitar investigación y cambios adicionales? ¿Cómo se puede arreglar?]"
   ]
  },
  {
   "cell_type": "markdown",
   "metadata": {},
   "source": [
    "- bueno en este punto este df si contiene valores ausentes, los observamos a simple vista en la información general y lo verificamos en la impresión de para te los datos con el head.\n",
    "\n",
    "- También la tipología de datos no corresponde en ciertas columnas, por ejemplo en la que corresponde a la fecha  \"reg_date\" y \"churn_date\"; así que debemos organizar estas columnas con lo correspondiente para en un futuro poder trabajar con los datos de ser necesario."
   ]
  },
  {
   "cell_type": "markdown",
   "metadata": {
    "id": "BX5FQh_I0q06"
   },
   "source": [
    "### Corregir los datos"
   ]
  },
  {
   "cell_type": "markdown",
   "metadata": {
    "id": "8OdKMwJv0q06"
   },
   "source": [
    "[Corrige los problemas obvios con los datos basándote en las observaciones iniciales.]"
   ]
  },
  {
   "cell_type": "code",
   "execution_count": 9,
   "metadata": {
    "id": "yUqX-K0C0q07"
   },
   "outputs": [
    {
     "data": {
      "text/plain": [
       "user_id         0\n",
       "first_name      0\n",
       "last_name       0\n",
       "age             0\n",
       "city            0\n",
       "reg_date        0\n",
       "plan            0\n",
       "churn_date    466\n",
       "dtype: int64"
      ]
     },
     "execution_count": 9,
     "metadata": {},
     "output_type": "execute_result"
    }
   ],
   "source": [
    "users.isnull().sum()"
   ]
  },
  {
   "cell_type": "code",
   "execution_count": 10,
   "metadata": {},
   "outputs": [],
   "source": [
    "# bueno aquí hay valores ausentes en la columna churn_date asi que de una vez lo vamos a corregir,\n",
    "#con la ayuda de nuestro método fillna()\n",
    "\n",
    "users['churn_date'].fillna(000, inplace=True)"
   ]
  },
  {
   "cell_type": "code",
   "execution_count": 11,
   "metadata": {},
   "outputs": [
    {
     "data": {
      "text/plain": [
       "user_id       0\n",
       "first_name    0\n",
       "last_name     0\n",
       "age           0\n",
       "city          0\n",
       "reg_date      0\n",
       "plan          0\n",
       "churn_date    0\n",
       "dtype: int64"
      ]
     },
     "execution_count": 11,
     "metadata": {},
     "output_type": "execute_result"
    }
   ],
   "source": [
    "users.isnull().sum()"
   ]
  },
  {
   "cell_type": "code",
   "execution_count": 12,
   "metadata": {},
   "outputs": [
    {
     "data": {
      "text/plain": [
       "0"
      ]
     },
     "execution_count": 12,
     "metadata": {},
     "output_type": "execute_result"
    }
   ],
   "source": [
    "users.duplicated().sum()"
   ]
  },
  {
   "cell_type": "markdown",
   "metadata": {},
   "source": [
    "# noo hay valores duplicados; con ayuda de nuestro método depuramos la columna en cuestión de este df.\n",
    "para que ya queden listos en este campo."
   ]
  },
  {
   "cell_type": "markdown",
   "metadata": {
    "id": "ycwuARJp0q07"
   },
   "source": [
    "### Enriquecer los datos"
   ]
  },
  {
   "cell_type": "markdown",
   "metadata": {
    "id": "96NIh4CJ0q08"
   },
   "source": [
    "[Agrega factores adicionales a los datos si crees que pudieran ser útiles.]"
   ]
  },
  {
   "cell_type": "code",
   "execution_count": 13,
   "metadata": {
    "id": "iq0AaBS90q08"
   },
   "outputs": [],
   "source": [
    "users[['reg_date','churn_date']]=users[['reg_date','churn_date']].apply(pd.to_datetime)"
   ]
  },
  {
   "cell_type": "code",
   "execution_count": 14,
   "metadata": {},
   "outputs": [
    {
     "name": "stdout",
     "output_type": "stream",
     "text": [
      "<class 'pandas.core.frame.DataFrame'>\n",
      "RangeIndex: 500 entries, 0 to 499\n",
      "Data columns (total 8 columns):\n",
      " #   Column      Non-Null Count  Dtype         \n",
      "---  ------      --------------  -----         \n",
      " 0   user_id     500 non-null    int64         \n",
      " 1   first_name  500 non-null    object        \n",
      " 2   last_name   500 non-null    object        \n",
      " 3   age         500 non-null    int64         \n",
      " 4   city        500 non-null    object        \n",
      " 5   reg_date    500 non-null    datetime64[ns]\n",
      " 6   plan        500 non-null    object        \n",
      " 7   churn_date  500 non-null    datetime64[ns]\n",
      "dtypes: datetime64[ns](2), int64(2), object(4)\n",
      "memory usage: 31.4+ KB\n"
     ]
    }
   ],
   "source": [
    "users.info()"
   ]
  },
  {
   "cell_type": "markdown",
   "metadata": {},
   "source": [
    "- corrección de la tipologia de datos a la adecuada de a cuerdo al tipo datetime."
   ]
  },
  {
   "cell_type": "markdown",
   "metadata": {
    "id": "o7MeKCid0q08"
   },
   "source": [
    "## Llamadas"
   ]
  },
  {
   "cell_type": "code",
   "execution_count": 15,
   "metadata": {
    "id": "6dDlnoDm0q08"
   },
   "outputs": [
    {
     "name": "stdout",
     "output_type": "stream",
     "text": [
      "<class 'pandas.core.frame.DataFrame'>\n",
      "RangeIndex: 137735 entries, 0 to 137734\n",
      "Data columns (total 4 columns):\n",
      " #   Column     Non-Null Count   Dtype  \n",
      "---  ------     --------------   -----  \n",
      " 0   id         137735 non-null  object \n",
      " 1   user_id    137735 non-null  int64  \n",
      " 2   call_date  137735 non-null  object \n",
      " 3   duration   137735 non-null  float64\n",
      "dtypes: float64(1), int64(1), object(2)\n",
      "memory usage: 4.2+ MB\n"
     ]
    }
   ],
   "source": [
    "# Imprime la información general/resumida sobre el DataFrame de las llamadas\n",
    "\n",
    "calls.info()"
   ]
  },
  {
   "cell_type": "code",
   "execution_count": 16,
   "metadata": {
    "id": "kuh1vlNB0q09"
   },
   "outputs": [
    {
     "data": {
      "text/html": [
       "<div>\n",
       "<style scoped>\n",
       "    .dataframe tbody tr th:only-of-type {\n",
       "        vertical-align: middle;\n",
       "    }\n",
       "\n",
       "    .dataframe tbody tr th {\n",
       "        vertical-align: top;\n",
       "    }\n",
       "\n",
       "    .dataframe thead th {\n",
       "        text-align: right;\n",
       "    }\n",
       "</style>\n",
       "<table border=\"1\" class=\"dataframe\">\n",
       "  <thead>\n",
       "    <tr style=\"text-align: right;\">\n",
       "      <th></th>\n",
       "      <th>id</th>\n",
       "      <th>user_id</th>\n",
       "      <th>call_date</th>\n",
       "      <th>duration</th>\n",
       "    </tr>\n",
       "  </thead>\n",
       "  <tbody>\n",
       "    <tr>\n",
       "      <th>0</th>\n",
       "      <td>1000_93</td>\n",
       "      <td>1000</td>\n",
       "      <td>2018-12-27</td>\n",
       "      <td>8.52</td>\n",
       "    </tr>\n",
       "    <tr>\n",
       "      <th>1</th>\n",
       "      <td>1000_145</td>\n",
       "      <td>1000</td>\n",
       "      <td>2018-12-27</td>\n",
       "      <td>13.66</td>\n",
       "    </tr>\n",
       "    <tr>\n",
       "      <th>2</th>\n",
       "      <td>1000_247</td>\n",
       "      <td>1000</td>\n",
       "      <td>2018-12-27</td>\n",
       "      <td>14.48</td>\n",
       "    </tr>\n",
       "    <tr>\n",
       "      <th>3</th>\n",
       "      <td>1000_309</td>\n",
       "      <td>1000</td>\n",
       "      <td>2018-12-28</td>\n",
       "      <td>5.76</td>\n",
       "    </tr>\n",
       "    <tr>\n",
       "      <th>4</th>\n",
       "      <td>1000_380</td>\n",
       "      <td>1000</td>\n",
       "      <td>2018-12-30</td>\n",
       "      <td>4.22</td>\n",
       "    </tr>\n",
       "  </tbody>\n",
       "</table>\n",
       "</div>"
      ],
      "text/plain": [
       "         id  user_id   call_date  duration\n",
       "0   1000_93     1000  2018-12-27      8.52\n",
       "1  1000_145     1000  2018-12-27     13.66\n",
       "2  1000_247     1000  2018-12-27     14.48\n",
       "3  1000_309     1000  2018-12-28      5.76\n",
       "4  1000_380     1000  2018-12-30      4.22"
      ]
     },
     "execution_count": 16,
     "metadata": {},
     "output_type": "execute_result"
    }
   ],
   "source": [
    "# Imprime una muestra de datos para las llamadas\n",
    "calls.head()\n"
   ]
  },
  {
   "cell_type": "markdown",
   "metadata": {
    "id": "DOAxYJSx0q09"
   },
   "source": [
    "[Describe lo que ves y observas en la información general y en la muestra de datos impresa para el precio de datos anterior. ¿Hay algún problema (tipos de datos no adecuados, datos ausentes, etc.) que pudieran necesitar investigación y cambios adicionales? ¿Cómo se puede arreglar?]"
   ]
  },
  {
   "cell_type": "markdown",
   "metadata": {},
   "source": [
    "- aquí nuevamente, se observa que hay columna con contenido de fechas que requiere converción al tipo correspondiente, \"call_date\".\n",
    "- el resto de columnas no requiere cambios en est sentido.\n",
    "- no tiene valores ausentes pues a primera vista en la información general se observa."
   ]
  },
  {
   "cell_type": "markdown",
   "metadata": {
    "id": "S7hzxmbX0q0-"
   },
   "source": [
    "### Corregir los datos"
   ]
  },
  {
   "cell_type": "markdown",
   "metadata": {
    "id": "YxWyAjD20q0-"
   },
   "source": [
    "[Corrige los problemas obvios con los datos basándote en las observaciones iniciales.]"
   ]
  },
  {
   "cell_type": "code",
   "execution_count": 17,
   "metadata": {
    "id": "S2r8xA4f0q0-"
   },
   "outputs": [
    {
     "data": {
      "text/plain": [
       "id           0\n",
       "user_id      0\n",
       "call_date    0\n",
       "duration     0\n",
       "dtype: int64"
      ]
     },
     "execution_count": 17,
     "metadata": {},
     "output_type": "execute_result"
    }
   ],
   "source": [
    "calls.isnull().sum()"
   ]
  },
  {
   "cell_type": "code",
   "execution_count": 18,
   "metadata": {},
   "outputs": [
    {
     "data": {
      "text/plain": [
       "0"
      ]
     },
     "execution_count": 18,
     "metadata": {},
     "output_type": "execute_result"
    }
   ],
   "source": [
    "calls.duplicated().sum()"
   ]
  },
  {
   "cell_type": "markdown",
   "metadata": {},
   "source": [
    "# vamos a realizar una conversión en la columna \"duration\" de float a int\n",
    "\n",
    "calls['duration']=calls['duration'].astype(int)\n",
    "\n",
    "\n",
    "# revisor aqui tuve que dejar esta celda como comentario ya que, no me dejaba operar la función en los resultados, para el redondeo hacia arriba por lo que ya estaba conversa a int."
   ]
  },
  {
   "cell_type": "markdown",
   "metadata": {},
   "source": [
    "<div class=\"alert alert-block alert-warning\">\n",
    "<b>Comentario del revisor (1ra Iteración)</b> <a class=“tocSkip”></a>\n",
    "\n",
    "Aunque tu idea va alineada con el cobro que hace Megaline para las llamadas, el redondeo no es correcto. Ya que Megaline cobra por minuto completo, es decir que siempre se redondea hacia arriba, en tu caso al usar la función `int`, el redondeo no se hace de forma correcta, realmente debes usar funciones como `np.ceil` que redondea hacia arriba.\n",
    "    \n",
    "Te pongo un ejemplo, si un usuario hizo una llamada de 10.2 minutos, con `int` se le registrará un timpo de 10 minutos, pero si redondeamos hacia arria daria 11, que seria el valor correcto a cobrar.\n",
    "\n",
    "</div>"
   ]
  },
  {
   "cell_type": "markdown",
   "metadata": {},
   "source": [
    "<div class=\"alert alert-block alert-success\">\n",
    "<b>Comentario del revisor (2da Iteración)</b> <a class=“tocSkip”></a>\n",
    "\n",
    "Buena decisión\n",
    "\n",
    "</div>"
   ]
  },
  {
   "cell_type": "code",
   "execution_count": 19,
   "metadata": {},
   "outputs": [
    {
     "name": "stdout",
     "output_type": "stream",
     "text": [
      "0          9\n",
      "1         14\n",
      "2         15\n",
      "3          6\n",
      "4          5\n",
      "          ..\n",
      "137730     9\n",
      "137731    11\n",
      "137732     9\n",
      "137733     1\n",
      "137734    14\n",
      "Name: duration, Length: 137735, dtype: int64\n"
     ]
    }
   ],
   "source": [
    "# corrección \n",
    "calls['duration']=np.ceil(calls['duration']).astype(int)\n",
    "print(calls['duration'])"
   ]
  },
  {
   "cell_type": "markdown",
   "metadata": {
    "id": "KrMgTrlG0q0_"
   },
   "source": [
    "### Enriquecer los datos"
   ]
  },
  {
   "cell_type": "markdown",
   "metadata": {
    "id": "a9MbmEvE0q0_"
   },
   "source": [
    "[Agrega factores adicionales a los datos si crees que pudieran ser útiles.]"
   ]
  },
  {
   "cell_type": "code",
   "execution_count": 20,
   "metadata": {
    "id": "iZ1avpA_0q0_"
   },
   "outputs": [
    {
     "name": "stdout",
     "output_type": "stream",
     "text": [
      "<class 'pandas.core.frame.DataFrame'>\n",
      "RangeIndex: 137735 entries, 0 to 137734\n",
      "Data columns (total 4 columns):\n",
      " #   Column     Non-Null Count   Dtype         \n",
      "---  ------     --------------   -----         \n",
      " 0   id         137735 non-null  object        \n",
      " 1   user_id    137735 non-null  int64         \n",
      " 2   call_date  137735 non-null  datetime64[ns]\n",
      " 3   duration   137735 non-null  int64         \n",
      "dtypes: datetime64[ns](1), int64(2), object(1)\n",
      "memory usage: 4.2+ MB\n"
     ]
    }
   ],
   "source": [
    "calls['call_date']=pd.to_datetime(calls['call_date'])\n",
    "\n",
    "calls.info()"
   ]
  },
  {
   "cell_type": "markdown",
   "metadata": {
    "id": "mOUZSi180q0_"
   },
   "source": [
    "## Mensajes"
   ]
  },
  {
   "cell_type": "code",
   "execution_count": 21,
   "metadata": {
    "id": "R-bYJpdV0q1A"
   },
   "outputs": [
    {
     "name": "stdout",
     "output_type": "stream",
     "text": [
      "<class 'pandas.core.frame.DataFrame'>\n",
      "RangeIndex: 76051 entries, 0 to 76050\n",
      "Data columns (total 3 columns):\n",
      " #   Column        Non-Null Count  Dtype \n",
      "---  ------        --------------  ----- \n",
      " 0   id            76051 non-null  object\n",
      " 1   user_id       76051 non-null  int64 \n",
      " 2   message_date  76051 non-null  object\n",
      "dtypes: int64(1), object(2)\n",
      "memory usage: 1.7+ MB\n"
     ]
    }
   ],
   "source": [
    "# Imprime la información general/resumida sobre el DataFrame de los mensajes\n",
    "\n",
    "messages.info()"
   ]
  },
  {
   "cell_type": "code",
   "execution_count": 22,
   "metadata": {
    "id": "mCEl2iGE0q1A"
   },
   "outputs": [
    {
     "data": {
      "text/html": [
       "<div>\n",
       "<style scoped>\n",
       "    .dataframe tbody tr th:only-of-type {\n",
       "        vertical-align: middle;\n",
       "    }\n",
       "\n",
       "    .dataframe tbody tr th {\n",
       "        vertical-align: top;\n",
       "    }\n",
       "\n",
       "    .dataframe thead th {\n",
       "        text-align: right;\n",
       "    }\n",
       "</style>\n",
       "<table border=\"1\" class=\"dataframe\">\n",
       "  <thead>\n",
       "    <tr style=\"text-align: right;\">\n",
       "      <th></th>\n",
       "      <th>id</th>\n",
       "      <th>user_id</th>\n",
       "      <th>message_date</th>\n",
       "    </tr>\n",
       "  </thead>\n",
       "  <tbody>\n",
       "    <tr>\n",
       "      <th>0</th>\n",
       "      <td>1000_125</td>\n",
       "      <td>1000</td>\n",
       "      <td>2018-12-27</td>\n",
       "    </tr>\n",
       "    <tr>\n",
       "      <th>1</th>\n",
       "      <td>1000_160</td>\n",
       "      <td>1000</td>\n",
       "      <td>2018-12-31</td>\n",
       "    </tr>\n",
       "    <tr>\n",
       "      <th>2</th>\n",
       "      <td>1000_223</td>\n",
       "      <td>1000</td>\n",
       "      <td>2018-12-31</td>\n",
       "    </tr>\n",
       "    <tr>\n",
       "      <th>3</th>\n",
       "      <td>1000_251</td>\n",
       "      <td>1000</td>\n",
       "      <td>2018-12-27</td>\n",
       "    </tr>\n",
       "    <tr>\n",
       "      <th>4</th>\n",
       "      <td>1000_255</td>\n",
       "      <td>1000</td>\n",
       "      <td>2018-12-26</td>\n",
       "    </tr>\n",
       "  </tbody>\n",
       "</table>\n",
       "</div>"
      ],
      "text/plain": [
       "         id  user_id message_date\n",
       "0  1000_125     1000   2018-12-27\n",
       "1  1000_160     1000   2018-12-31\n",
       "2  1000_223     1000   2018-12-31\n",
       "3  1000_251     1000   2018-12-27\n",
       "4  1000_255     1000   2018-12-26"
      ]
     },
     "execution_count": 22,
     "metadata": {},
     "output_type": "execute_result"
    }
   ],
   "source": [
    "# Imprime una muestra de datos para los mensajes\n",
    "messages.head()\n"
   ]
  },
  {
   "cell_type": "markdown",
   "metadata": {
    "id": "04xDj7KH0q1A"
   },
   "source": [
    "[Describe lo que ves y observas en la información general y en la muestra de datos impresa para el precio de datos anterior. ¿Hay algún problema (tipos de datos no adecuados, datos ausentes, etc.) que pudieran necesitar investigación y cambios adicionales? ¿Cómo se puede arreglar?]"
   ]
  },
  {
   "cell_type": "markdown",
   "metadata": {},
   "source": [
    "- valores ausentes no hay, se debe corregir el tipo de datos de la columna message_date con el método datetime.\n"
   ]
  },
  {
   "cell_type": "markdown",
   "metadata": {
    "id": "Sprfak900q1B"
   },
   "source": [
    "### Corregir los datos"
   ]
  },
  {
   "cell_type": "markdown",
   "metadata": {
    "id": "eGw7d9j10q1B"
   },
   "source": [
    "[Corrige los problemas obvios con los datos basándote en las observaciones iniciales.]"
   ]
  },
  {
   "cell_type": "code",
   "execution_count": 23,
   "metadata": {
    "id": "vsllvkoa0q1B"
   },
   "outputs": [
    {
     "data": {
      "text/plain": [
       "0"
      ]
     },
     "execution_count": 23,
     "metadata": {},
     "output_type": "execute_result"
    }
   ],
   "source": [
    "messages.duplicated().sum()"
   ]
  },
  {
   "cell_type": "markdown",
   "metadata": {},
   "source": [
    "- no hay valores duplicados."
   ]
  },
  {
   "cell_type": "markdown",
   "metadata": {
    "id": "HvLid7iD0q1B"
   },
   "source": [
    "### Enriquecer los datos"
   ]
  },
  {
   "cell_type": "markdown",
   "metadata": {
    "id": "8nhPFKIe0q1C"
   },
   "source": [
    "[Agrega factores adicionales a los datos si crees que pudieran ser útiles.]"
   ]
  },
  {
   "cell_type": "code",
   "execution_count": 24,
   "metadata": {
    "id": "zYEXZac10q1C"
   },
   "outputs": [
    {
     "name": "stdout",
     "output_type": "stream",
     "text": [
      "<class 'pandas.core.frame.DataFrame'>\n",
      "RangeIndex: 76051 entries, 0 to 76050\n",
      "Data columns (total 3 columns):\n",
      " #   Column        Non-Null Count  Dtype         \n",
      "---  ------        --------------  -----         \n",
      " 0   id            76051 non-null  object        \n",
      " 1   user_id       76051 non-null  int64         \n",
      " 2   message_date  76051 non-null  datetime64[ns]\n",
      "dtypes: datetime64[ns](1), int64(1), object(1)\n",
      "memory usage: 1.7+ MB\n"
     ]
    }
   ],
   "source": [
    "messages['message_date']=pd.to_datetime(messages['message_date'])\n",
    "\n",
    "messages.info()"
   ]
  },
  {
   "cell_type": "markdown",
   "metadata": {
    "id": "bStkaxn40q1C"
   },
   "source": [
    "## Internet"
   ]
  },
  {
   "cell_type": "code",
   "execution_count": 25,
   "metadata": {
    "id": "e-Uz5qyn0q1C"
   },
   "outputs": [
    {
     "name": "stdout",
     "output_type": "stream",
     "text": [
      "<class 'pandas.core.frame.DataFrame'>\n",
      "RangeIndex: 104825 entries, 0 to 104824\n",
      "Data columns (total 4 columns):\n",
      " #   Column        Non-Null Count   Dtype  \n",
      "---  ------        --------------   -----  \n",
      " 0   id            104825 non-null  object \n",
      " 1   user_id       104825 non-null  int64  \n",
      " 2   session_date  104825 non-null  object \n",
      " 3   mb_used       104825 non-null  float64\n",
      "dtypes: float64(1), int64(1), object(2)\n",
      "memory usage: 3.2+ MB\n"
     ]
    }
   ],
   "source": [
    "# Imprime la información general/resumida sobre el DataFrame de internet\n",
    "\n",
    "internet.info()"
   ]
  },
  {
   "cell_type": "code",
   "execution_count": 26,
   "metadata": {
    "id": "9r3x_XLw0q1C"
   },
   "outputs": [
    {
     "data": {
      "text/html": [
       "<div>\n",
       "<style scoped>\n",
       "    .dataframe tbody tr th:only-of-type {\n",
       "        vertical-align: middle;\n",
       "    }\n",
       "\n",
       "    .dataframe tbody tr th {\n",
       "        vertical-align: top;\n",
       "    }\n",
       "\n",
       "    .dataframe thead th {\n",
       "        text-align: right;\n",
       "    }\n",
       "</style>\n",
       "<table border=\"1\" class=\"dataframe\">\n",
       "  <thead>\n",
       "    <tr style=\"text-align: right;\">\n",
       "      <th></th>\n",
       "      <th>id</th>\n",
       "      <th>user_id</th>\n",
       "      <th>session_date</th>\n",
       "      <th>mb_used</th>\n",
       "    </tr>\n",
       "  </thead>\n",
       "  <tbody>\n",
       "    <tr>\n",
       "      <th>0</th>\n",
       "      <td>1000_13</td>\n",
       "      <td>1000</td>\n",
       "      <td>2018-12-29</td>\n",
       "      <td>89.86</td>\n",
       "    </tr>\n",
       "    <tr>\n",
       "      <th>1</th>\n",
       "      <td>1000_204</td>\n",
       "      <td>1000</td>\n",
       "      <td>2018-12-31</td>\n",
       "      <td>0.00</td>\n",
       "    </tr>\n",
       "    <tr>\n",
       "      <th>2</th>\n",
       "      <td>1000_379</td>\n",
       "      <td>1000</td>\n",
       "      <td>2018-12-28</td>\n",
       "      <td>660.40</td>\n",
       "    </tr>\n",
       "    <tr>\n",
       "      <th>3</th>\n",
       "      <td>1000_413</td>\n",
       "      <td>1000</td>\n",
       "      <td>2018-12-26</td>\n",
       "      <td>270.99</td>\n",
       "    </tr>\n",
       "    <tr>\n",
       "      <th>4</th>\n",
       "      <td>1000_442</td>\n",
       "      <td>1000</td>\n",
       "      <td>2018-12-27</td>\n",
       "      <td>880.22</td>\n",
       "    </tr>\n",
       "  </tbody>\n",
       "</table>\n",
       "</div>"
      ],
      "text/plain": [
       "         id  user_id session_date  mb_used\n",
       "0   1000_13     1000   2018-12-29    89.86\n",
       "1  1000_204     1000   2018-12-31     0.00\n",
       "2  1000_379     1000   2018-12-28   660.40\n",
       "3  1000_413     1000   2018-12-26   270.99\n",
       "4  1000_442     1000   2018-12-27   880.22"
      ]
     },
     "execution_count": 26,
     "metadata": {},
     "output_type": "execute_result"
    }
   ],
   "source": [
    "# Imprime una muestra de datos para el tráfico de internet\n",
    "\n",
    "internet.head()"
   ]
  },
  {
   "cell_type": "markdown",
   "metadata": {
    "id": "EzOG5ik30q1D"
   },
   "source": [
    "[Describe lo que ves y observas en la información general y en la muestra de datos impresa para el precio de datos anterior. ¿Hay algún problema (tipos de datos no adecuados, datos ausentes, etc.) que pudieran necesitar investigación y cambios adicionales? ¿Cómo se puede arreglar?]"
   ]
  },
  {
   "cell_type": "markdown",
   "metadata": {},
   "source": [
    "- valores ausentes no se observan.\n",
    "- en la columna session_date se debe corregir con el datetime."
   ]
  },
  {
   "cell_type": "markdown",
   "metadata": {
    "id": "yA0tkPFg0q1D"
   },
   "source": [
    "### Corregir los datos"
   ]
  },
  {
   "cell_type": "markdown",
   "metadata": {
    "id": "zlZMuIEK0q1D"
   },
   "source": [
    "[Corrige los problemas obvios con los datos basándote en las observaciones iniciales.]"
   ]
  },
  {
   "cell_type": "code",
   "execution_count": 27,
   "metadata": {
    "id": "zVeanzdd0q1E"
   },
   "outputs": [
    {
     "data": {
      "text/plain": [
       "0"
      ]
     },
     "execution_count": 27,
     "metadata": {},
     "output_type": "execute_result"
    }
   ],
   "source": [
    "internet.duplicated().sum()"
   ]
  },
  {
   "cell_type": "markdown",
   "metadata": {},
   "source": [
    "#vamos a realizar la conversión de la columna \"mb_used\" a entero\n",
    "\n",
    "internet['mb_used']=internet['mb_used'].astype(int)\n",
    "\n",
    "# nuevamente la deje como comentario para que no operar en los resultados de la correción de la nueva conversión"
   ]
  },
  {
   "cell_type": "markdown",
   "metadata": {},
   "source": [
    "<div class=\"alert alert-block alert-warnig\">\n",
    "<b>Comentario del revisor (1ra Iteración)</b> <a class=“tocSkip”></a>\n",
    "\n",
    "Acá ocurre el mismo problema que en el caso de las llamdas, aunque hay que tener en cuenta que de acuerdo con el enunciado:\n",
    "    \n",
    "    Para el tráfico web, las sesiones web individuales no se redondean. En vez de esto, el total del mes se redondea hacia arriba. Si alguien usa 1025 megabytes este mes, se le cobrarán 2 gigabytes.\n",
    "    \n",
    "Más abajo te explico como lo debes hacer.\n",
    "\n",
    "</div>"
   ]
  },
  {
   "cell_type": "markdown",
   "metadata": {},
   "source": [
    "<div class=\"alert alert-block alert-success\">\n",
    "<b>Comentario del revisor (2da Iteración)</b> <a class=“tocSkip”></a>\n",
    "\n",
    "Buena decisión\n",
    "\n",
    "</div>"
   ]
  },
  {
   "cell_type": "code",
   "execution_count": 28,
   "metadata": {},
   "outputs": [
    {
     "name": "stdout",
     "output_type": "stream",
     "text": [
      "0     90.0\n",
      "1      0.0\n",
      "2    661.0\n",
      "3    271.0\n",
      "4    881.0\n",
      "Name: mb_used, dtype: float64\n"
     ]
    }
   ],
   "source": [
    "# corrección \n",
    "internet['mb_used']=np.ceil(internet['mb_used'])\n",
    "print(internet['mb_used'].head())"
   ]
  },
  {
   "cell_type": "markdown",
   "metadata": {
    "id": "e8_mLF4a0q1E"
   },
   "source": [
    "### Enriquecer los datos"
   ]
  },
  {
   "cell_type": "markdown",
   "metadata": {
    "id": "xhNdn2tE0q1E"
   },
   "source": [
    "[Agrega factores adicionales a los datos si crees que pudieran ser útiles.]"
   ]
  },
  {
   "cell_type": "code",
   "execution_count": 29,
   "metadata": {
    "id": "ESiYPIEK0q1E"
   },
   "outputs": [
    {
     "name": "stdout",
     "output_type": "stream",
     "text": [
      "<class 'pandas.core.frame.DataFrame'>\n",
      "RangeIndex: 104825 entries, 0 to 104824\n",
      "Data columns (total 4 columns):\n",
      " #   Column        Non-Null Count   Dtype         \n",
      "---  ------        --------------   -----         \n",
      " 0   id            104825 non-null  object        \n",
      " 1   user_id       104825 non-null  int64         \n",
      " 2   session_date  104825 non-null  datetime64[ns]\n",
      " 3   mb_used       104825 non-null  float64       \n",
      "dtypes: datetime64[ns](1), float64(1), int64(1), object(1)\n",
      "memory usage: 3.2+ MB\n"
     ]
    }
   ],
   "source": [
    "internet['session_date']=pd.to_datetime(internet['session_date'])\n",
    "\n",
    "internet.info()"
   ]
  },
  {
   "cell_type": "markdown",
   "metadata": {},
   "source": [
    "<div class=\"alert alert-block alert-success\">\n",
    "<b>Comentario del revisor (1ra Iteración)</b> <a class=“tocSkip”></a>\n",
    "\n",
    "¡Excelente trabajo en el análisis exploratorio de datos! Usaste correctamente las funciones `info` y `head` para revisar la estructura y el contenido de los datos, lo que te permitió realizar los ajustes necesarios. Esto facilitará el análisis de los datos y el desarrollo de las demás etapas del proyecto.\n",
    "\n",
    "\n",
    "</div>"
   ]
  },
  {
   "cell_type": "markdown",
   "metadata": {
    "id": "3UA2cqIW0q1E"
   },
   "source": [
    "## Estudiar las condiciones de las tarifas"
   ]
  },
  {
   "cell_type": "markdown",
   "metadata": {
    "id": "T86Sqltq0q1F"
   },
   "source": [
    "[Es sumamente importante entender cómo funcionan las tarifas, cómo se les cobra a los usuarios en función de su plan de suscripción. Así que te sugerimos imprimir la información de la tarifa para ver una vez más sus condiciones.]"
   ]
  },
  {
   "cell_type": "code",
   "execution_count": 30,
   "metadata": {
    "id": "i409op8p0q1F",
    "scrolled": true
   },
   "outputs": [
    {
     "name": "stdout",
     "output_type": "stream",
     "text": [
      "<class 'pandas.core.frame.DataFrame'>\n",
      "RangeIndex: 2 entries, 0 to 1\n",
      "Data columns (total 8 columns):\n",
      " #   Column                 Non-Null Count  Dtype  \n",
      "---  ------                 --------------  -----  \n",
      " 0   messages_included      2 non-null      int64  \n",
      " 1   mb_per_month_included  2 non-null      int64  \n",
      " 2   minutes_included       2 non-null      int64  \n",
      " 3   usd_monthly_pay        2 non-null      int64  \n",
      " 4   usd_per_gb             2 non-null      int64  \n",
      " 5   usd_per_message        2 non-null      float64\n",
      " 6   usd_per_minute         2 non-null      float64\n",
      " 7   plan_name              2 non-null      object \n",
      "dtypes: float64(2), int64(5), object(1)\n",
      "memory usage: 256.0+ bytes\n"
     ]
    }
   ],
   "source": [
    "# Imprime las condiciones de la tarifa y asegúrate de que te quedan claras\n",
    "\n",
    "plans.info()"
   ]
  },
  {
   "cell_type": "markdown",
   "metadata": {
    "id": "hMR1tP5d0q1F"
   },
   "source": [
    "## Agregar datos por usuario\n",
    "\n",
    "[Ahora que los datos están limpios, agrega los datos por usuario y por periodo para que solo haya un registro por usuario y por periodo. Esto facilitará mucho el análisis posterior.]"
   ]
  },
  {
   "cell_type": "code",
   "execution_count": 31,
   "metadata": {
    "id": "A332cedB0q1G"
   },
   "outputs": [
    {
     "name": "stdout",
     "output_type": "stream",
     "text": [
      "      user_id  month  call_count  call_sum\n",
      "0        1000     12          16       124\n",
      "1        1001      8          27       182\n",
      "2        1001      9          49       315\n",
      "3        1001     10          65       393\n",
      "4        1001     11          64       426\n",
      "...       ...    ...         ...       ...\n",
      "2253     1498     12          39       339\n",
      "2254     1499      9          41       346\n",
      "2255     1499     10          53       385\n",
      "2256     1499     11          45       308\n",
      "2257     1499     12          65       496\n",
      "\n",
      "[2258 rows x 4 columns]\n"
     ]
    }
   ],
   "source": [
    "# Calcula el número de llamadas hechas por cada usuario al mes. Guarda el resultado.\n",
    "calls['call_date']=pd.to_datetime(calls['call_date'])\n",
    "calls['month']=calls['call_date'].dt.month\n",
    "\n",
    "\n",
    "call_user=calls.groupby(['user_id', 'month']).agg(\n",
    "    call_count=('duration', 'count'),\n",
    "    call_sum=('duration','sum')).reset_index()\n",
    "\n",
    "\n",
    "print(call_user)\n",
    "\n",
    "\n"
   ]
  },
  {
   "cell_type": "code",
   "execution_count": 32,
   "metadata": {},
   "outputs": [
    {
     "data": {
      "text/html": [
       "<div>\n",
       "<style scoped>\n",
       "    .dataframe tbody tr th:only-of-type {\n",
       "        vertical-align: middle;\n",
       "    }\n",
       "\n",
       "    .dataframe tbody tr th {\n",
       "        vertical-align: top;\n",
       "    }\n",
       "\n",
       "    .dataframe thead th {\n",
       "        text-align: right;\n",
       "    }\n",
       "</style>\n",
       "<table border=\"1\" class=\"dataframe\">\n",
       "  <thead>\n",
       "    <tr style=\"text-align: right;\">\n",
       "      <th></th>\n",
       "      <th>id</th>\n",
       "      <th>user_id</th>\n",
       "      <th>call_date</th>\n",
       "      <th>duration</th>\n",
       "      <th>month</th>\n",
       "    </tr>\n",
       "  </thead>\n",
       "  <tbody>\n",
       "    <tr>\n",
       "      <th>0</th>\n",
       "      <td>1000_93</td>\n",
       "      <td>1000</td>\n",
       "      <td>2018-12-27</td>\n",
       "      <td>9</td>\n",
       "      <td>12</td>\n",
       "    </tr>\n",
       "    <tr>\n",
       "      <th>1</th>\n",
       "      <td>1000_145</td>\n",
       "      <td>1000</td>\n",
       "      <td>2018-12-27</td>\n",
       "      <td>14</td>\n",
       "      <td>12</td>\n",
       "    </tr>\n",
       "    <tr>\n",
       "      <th>2</th>\n",
       "      <td>1000_247</td>\n",
       "      <td>1000</td>\n",
       "      <td>2018-12-27</td>\n",
       "      <td>15</td>\n",
       "      <td>12</td>\n",
       "    </tr>\n",
       "    <tr>\n",
       "      <th>3</th>\n",
       "      <td>1000_309</td>\n",
       "      <td>1000</td>\n",
       "      <td>2018-12-28</td>\n",
       "      <td>6</td>\n",
       "      <td>12</td>\n",
       "    </tr>\n",
       "    <tr>\n",
       "      <th>4</th>\n",
       "      <td>1000_380</td>\n",
       "      <td>1000</td>\n",
       "      <td>2018-12-30</td>\n",
       "      <td>5</td>\n",
       "      <td>12</td>\n",
       "    </tr>\n",
       "    <tr>\n",
       "      <th>...</th>\n",
       "      <td>...</td>\n",
       "      <td>...</td>\n",
       "      <td>...</td>\n",
       "      <td>...</td>\n",
       "      <td>...</td>\n",
       "    </tr>\n",
       "    <tr>\n",
       "      <th>137730</th>\n",
       "      <td>1499_199</td>\n",
       "      <td>1499</td>\n",
       "      <td>2018-11-21</td>\n",
       "      <td>9</td>\n",
       "      <td>11</td>\n",
       "    </tr>\n",
       "    <tr>\n",
       "      <th>137731</th>\n",
       "      <td>1499_200</td>\n",
       "      <td>1499</td>\n",
       "      <td>2018-10-20</td>\n",
       "      <td>11</td>\n",
       "      <td>10</td>\n",
       "    </tr>\n",
       "    <tr>\n",
       "      <th>137732</th>\n",
       "      <td>1499_201</td>\n",
       "      <td>1499</td>\n",
       "      <td>2018-09-21</td>\n",
       "      <td>9</td>\n",
       "      <td>9</td>\n",
       "    </tr>\n",
       "    <tr>\n",
       "      <th>137733</th>\n",
       "      <td>1499_202</td>\n",
       "      <td>1499</td>\n",
       "      <td>2018-10-10</td>\n",
       "      <td>1</td>\n",
       "      <td>10</td>\n",
       "    </tr>\n",
       "    <tr>\n",
       "      <th>137734</th>\n",
       "      <td>1499_203</td>\n",
       "      <td>1499</td>\n",
       "      <td>2018-12-29</td>\n",
       "      <td>14</td>\n",
       "      <td>12</td>\n",
       "    </tr>\n",
       "  </tbody>\n",
       "</table>\n",
       "<p>137735 rows × 5 columns</p>\n",
       "</div>"
      ],
      "text/plain": [
       "              id  user_id  call_date  duration  month\n",
       "0        1000_93     1000 2018-12-27         9     12\n",
       "1       1000_145     1000 2018-12-27        14     12\n",
       "2       1000_247     1000 2018-12-27        15     12\n",
       "3       1000_309     1000 2018-12-28         6     12\n",
       "4       1000_380     1000 2018-12-30         5     12\n",
       "...          ...      ...        ...       ...    ...\n",
       "137730  1499_199     1499 2018-11-21         9     11\n",
       "137731  1499_200     1499 2018-10-20        11     10\n",
       "137732  1499_201     1499 2018-09-21         9      9\n",
       "137733  1499_202     1499 2018-10-10         1     10\n",
       "137734  1499_203     1499 2018-12-29        14     12\n",
       "\n",
       "[137735 rows x 5 columns]"
      ]
     },
     "execution_count": 32,
     "metadata": {},
     "output_type": "execute_result"
    }
   ],
   "source": [
    "calls"
   ]
  },
  {
   "cell_type": "code",
   "execution_count": 33,
   "metadata": {
    "id": "aw2cmuql0q1G"
   },
   "outputs": [
    {
     "name": "stdout",
     "output_type": "stream",
     "text": [
      "      user_id  month  minutes_used\n",
      "0        1000     12           124\n",
      "1        1001      8           182\n",
      "2        1001      9           315\n",
      "3        1001     10           393\n",
      "4        1001     11           426\n",
      "...       ...    ...           ...\n",
      "2253     1498     12           339\n",
      "2254     1499      9           346\n",
      "2255     1499     10           385\n",
      "2256     1499     11           308\n",
      "2257     1499     12           496\n",
      "\n",
      "[2258 rows x 3 columns]\n"
     ]
    }
   ],
   "source": [
    "# Calcula la cantidad de minutos usados por cada usuario al mes. Guarda el resultado.\n",
    "user_min = calls.groupby(['user_id', 'month'])['duration'].sum().reset_index()\n",
    "user_min.columns=['user_id','month', 'minutes_used']\n",
    "print(user_min)\n",
    "\n",
    "\n",
    "\n"
   ]
  },
  {
   "cell_type": "code",
   "execution_count": 34,
   "metadata": {
    "id": "CcQvNHn60q1G",
    "scrolled": true
   },
   "outputs": [
    {
     "name": "stdout",
     "output_type": "stream",
     "text": [
      "      user_id  month  id\n",
      "0        1000     12  11\n",
      "1        1001      8  30\n",
      "2        1001      9  44\n",
      "3        1001     10  53\n",
      "4        1001     11  36\n",
      "...       ...    ...  ..\n",
      "1801     1496      9  21\n",
      "1802     1496     10  18\n",
      "1803     1496     11  13\n",
      "1804     1496     12  11\n",
      "1805     1497     12  50\n",
      "\n",
      "[1806 rows x 3 columns]\n"
     ]
    },
    {
     "name": "stderr",
     "output_type": "stream",
     "text": [
      "/tmp/ipykernel_32/3679532643.py:7: UserWarning: Pandas doesn't allow columns to be created via a new attribute name - see https://pandas.pydata.org/pandas-docs/stable/indexing.html#attribute-access\n",
      "  user_message.colummns=['user_id', 'month', 'num_messages']\n"
     ]
    }
   ],
   "source": [
    "# Calcula el número de mensajes enviados por cada usuario al mes. Guarda el resultado.\n",
    "\n",
    "messages['month']=messages['message_date'].dt.month\n",
    "\n",
    "\n",
    "user_message=messages.groupby(['user_id', 'month'])['id'].count().reset_index()\n",
    "user_message.colummns=['user_id', 'month', 'num_messages']\n",
    "print(user_message)\n",
    "\n",
    "\n",
    "\n"
   ]
  },
  {
   "cell_type": "code",
   "execution_count": 35,
   "metadata": {
    "id": "H1AqN2eG0q1H"
   },
   "outputs": [
    {
     "name": "stdout",
     "output_type": "stream",
     "text": [
      "      user_id  year  month  traffic_volume\n",
      "0        1000  2018     12          1903.0\n",
      "1        1001  2018      8          6929.0\n",
      "2        1001  2018      9         13333.0\n",
      "3        1001  2018     10         22356.0\n",
      "4        1001  2018     11         18524.0\n",
      "...       ...   ...    ...             ...\n",
      "2272     1498  2018     12         23160.0\n",
      "2273     1499  2018      9         13004.0\n",
      "2274     1499  2018     10         19515.0\n",
      "2275     1499  2018     11         16834.0\n",
      "2276     1499  2018     12         22091.0\n",
      "\n",
      "[2277 rows x 4 columns]\n"
     ]
    }
   ],
   "source": [
    "# Calcula el volumen del tráfico de Internet usado por cada usuario al mes. Guarda el resultado.\n",
    "\n",
    "internet['month']=internet['session_date'].dt.month\n",
    "internet['year']=internet['session_date'].dt.year\n",
    "\n",
    "internet_user=internet.groupby(['user_id','year', 'month'])['mb_used'].sum().reset_index()\n",
    "internet_user.columns=['user_id','year','month', 'traffic_volume']\n",
    "print(internet_user)"
   ]
  },
  {
   "cell_type": "markdown",
   "metadata": {},
   "source": [
    "<div class=\"alert alert-block alert-danger\">\n",
    "<b>Comentario del revisor (1ra Iteración)</b> <a class=“tocSkip”></a>\n",
    "\n",
    "Hiciste una correcta agrupación de los datos combinando `groupby`  y `merge`, pero recuerda que, según el enunciado del proyecto, los valores de consumo de internet deben redondearse hacia arriba, ya que el cobro se hace por GB completo. Para esto debes tener en cuenta lo siguiente: Primero sumas el consumo total en MB para cada usuario por mes, luego conviertes ese valor a GB y finalmente realizas el redondeo hacia arriba.\n",
    "\n",
    "Los valores finales que obtienes para cada usuario, los comparas con GB incluidos en cada plan, con el fin de establecer si hubo un exceso en el consumo y hacer el cobro respectivo.\n",
    "\n",
    "</div>"
   ]
  },
  {
   "cell_type": "markdown",
   "metadata": {},
   "source": [
    "# revisor, buenas tardes se realizaron las correcciones pertinentes en las observaciones dispuestas, lo que condujo que el calculo de acuerdo al redondeo de cada columna, produjo el cambio en los resultado que se menciona en la correción previa."
   ]
  },
  {
   "cell_type": "markdown",
   "metadata": {
    "id": "VDfYXnj80q1H"
   },
   "source": [
    "[Junta los datos agregados en un DataFrame para que haya un registro que represente lo que consumió un usuario único en un mes determinado.]"
   ]
  },
  {
   "cell_type": "code",
   "execution_count": 36,
   "metadata": {
    "id": "FW99ykyf0q1H"
   },
   "outputs": [
    {
     "name": "stdout",
     "output_type": "stream",
     "text": [
      "   user_id  month  call_count  call_sum  minutes_used    id    year  \\\n",
      "0     1000     12        16.0     124.0         124.0  11.0  2018.0   \n",
      "1     1001      8        27.0     182.0         182.0  30.0  2018.0   \n",
      "2     1001      9        49.0     315.0         315.0  44.0  2018.0   \n",
      "3     1001     10        65.0     393.0         393.0  53.0  2018.0   \n",
      "4     1001     11        64.0     426.0         426.0  36.0  2018.0   \n",
      "\n",
      "   traffic_volume  \n",
      "0          1903.0  \n",
      "1          6929.0  \n",
      "2         13333.0  \n",
      "3         22356.0  \n",
      "4         18524.0  \n",
      "   user_id  month  call_count  call_sum  minutes_used    id    year  \\\n",
      "0     1000     12        16.0     124.0         124.0  11.0  2018.0   \n",
      "1     1001      8        27.0     182.0         182.0  30.0  2018.0   \n",
      "2     1001      9        49.0     315.0         315.0  44.0  2018.0   \n",
      "3     1001     10        65.0     393.0         393.0  53.0  2018.0   \n",
      "4     1001     11        64.0     426.0         426.0  36.0  2018.0   \n",
      "\n",
      "   traffic_volume  \n",
      "0          1903.0  \n",
      "1          6929.0  \n",
      "2         13333.0  \n",
      "3         22356.0  \n",
      "4         18524.0  \n"
     ]
    },
    {
     "name": "stderr",
     "output_type": "stream",
     "text": [
      "/opt/conda/envs/python3/lib/python3.9/site-packages/pandas/core/series.py:4463: SettingWithCopyWarning: \n",
      "A value is trying to be set on a copy of a slice from a DataFrame\n",
      "\n",
      "See the caveats in the documentation: https://pandas.pydata.org/pandas-docs/stable/user_guide/indexing.html#returning-a-view-versus-a-copy\n",
      "  return super().fillna(\n"
     ]
    }
   ],
   "source": [
    "# Fusiona los datos de llamadas, minutos, mensajes e Internet con base en user_id y month\n",
    "\n",
    "merge_calls=call_user.merge(user_min, how='outer', on=['user_id','month'])\n",
    "merge_menssages=merge_calls.merge(user_message, how='outer', on=['user_id','month'])\n",
    "merge_internet=merge_menssages.merge(internet_user, how='outer', on=['user_id','month'])\n",
    "\n",
    "print(merge_internet.head())\n",
    "\n",
    "df_format=merge_internet[['user_id','month','id','minutes_used','id','traffic_volume']]\n",
    "df_format.columns=['user_id','month','llamadas','minutos','mensajes','internet']\n",
    "df_format['llamadas'].fillna(0, inplace=True)\n",
    "df_format['minutos'].fillna(0, inplace=True)\n",
    "df_format['mensajes'].fillna(0, inplace=True)\n",
    "df_format['internet'].fillna(0, inplace=True)\n",
    "\n",
    "\n",
    "print(merge_internet.head())\n",
    "\n",
    "\n"
   ]
  },
  {
   "cell_type": "code",
   "execution_count": 37,
   "metadata": {
    "id": "0dNOXHag0q1H"
   },
   "outputs": [
    {
     "name": "stdout",
     "output_type": "stream",
     "text": [
      "      user_id  month  llamadas  minutos  mensajes  internet      plan  \\\n",
      "0        1000     12      11.0    124.0      11.0    1903.0  ultimate   \n",
      "720      1001      8      30.0    182.0      30.0    6929.0      surf   \n",
      "721      1001      9      44.0    315.0      44.0   13333.0      surf   \n",
      "722      1001     10      53.0    393.0      53.0   22356.0      surf   \n",
      "723      1001     11      36.0    426.0      36.0   18524.0      surf   \n",
      "...       ...    ...       ...      ...       ...       ...       ...   \n",
      "2261     1498     12       0.0    339.0       0.0   23160.0      surf   \n",
      "2262     1499      9       0.0    346.0       0.0   13004.0      surf   \n",
      "2263     1499     10       0.0    385.0       0.0   19515.0      surf   \n",
      "2264     1499     11       0.0    308.0       0.0   16834.0      surf   \n",
      "2265     1499     12       0.0    496.0       0.0   22091.0      surf   \n",
      "\n",
      "      messages_included  mb_per_month_included  minutes_included  \\\n",
      "0                  1000                  30720              3000   \n",
      "720                  50                  15360               500   \n",
      "721                  50                  15360               500   \n",
      "722                  50                  15360               500   \n",
      "723                  50                  15360               500   \n",
      "...                 ...                    ...               ...   \n",
      "2261                 50                  15360               500   \n",
      "2262                 50                  15360               500   \n",
      "2263                 50                  15360               500   \n",
      "2264                 50                  15360               500   \n",
      "2265                 50                  15360               500   \n",
      "\n",
      "      usd_monthly_pay  usd_per_gb  usd_per_message  usd_per_minute  \n",
      "0                  70           7             0.01            0.01  \n",
      "720                20          10             0.03            0.03  \n",
      "721                20          10             0.03            0.03  \n",
      "722                20          10             0.03            0.03  \n",
      "723                20          10             0.03            0.03  \n",
      "...               ...         ...              ...             ...  \n",
      "2261               20          10             0.03            0.03  \n",
      "2262               20          10             0.03            0.03  \n",
      "2263               20          10             0.03            0.03  \n",
      "2264               20          10             0.03            0.03  \n",
      "2265               20          10             0.03            0.03  \n",
      "\n",
      "[2293 rows x 14 columns]\n"
     ]
    }
   ],
   "source": [
    "# Añade la información de la tarifa\n",
    "\n",
    "merge_users=df_format.merge(users, how='inner', on='user_id')\n",
    "merge_plan=merge_users.merge(plans, how='inner', left_on='plan', right_on='plan_name')\n",
    "print(merge_plan[['user_id','month','llamadas','minutos','mensajes','internet','plan','messages_included','mb_per_month_included','minutes_included','usd_monthly_pay','usd_per_gb','usd_per_message','usd_per_minute']].sort_values(by=['user_id','month']))\n",
    "\n"
   ]
  },
  {
   "cell_type": "markdown",
   "metadata": {
    "id": "1IwGo4wg0q1I"
   },
   "source": [
    "[Calcula los ingresos mensuales por usuario (resta el límite del paquete gratuito del número total de llamadas, mensajes de texto y datos; multiplica el resultado por el valor del plan de llamadas; añade la tarifa mensual en función del plan de llamadas). Nota: Dadas las condiciones del plan, ¡esto podría no ser tan trivial como un par de líneas! Así que no pasa nada si dedicas algo de tiempo a ello.]"
   ]
  },
  {
   "cell_type": "code",
   "execution_count": 38,
   "metadata": {
    "id": "5FGCf_c60q1I",
    "scrolled": true
   },
   "outputs": [
    {
     "name": "stdout",
     "output_type": "stream",
     "text": [
      "      user_id  month  llamadas  minutos  mensajes  internet  first_name  \\\n",
      "0        1000     12      11.0    124.0      11.0    1903.0    Anamaria   \n",
      "1        1006     11      15.0     10.0      15.0    2072.0      Jesusa   \n",
      "2        1006     12     139.0     59.0     139.0   32144.0      Jesusa   \n",
      "3        1008     10      21.0    476.0      21.0   17131.0       Emely   \n",
      "4        1008     11      37.0    446.0      37.0   23706.0       Emely   \n",
      "...       ...    ...       ...      ...       ...       ...         ...   \n",
      "2288     1194     11      62.0      0.0      62.0   42904.0      Robert   \n",
      "2289     1194     12      56.0      0.0      56.0   31119.0      Robert   \n",
      "2290     1349     10      76.0      0.0      76.0   13105.0  Florentina   \n",
      "2291     1349     11      72.0      0.0      72.0   17145.0  Florentina   \n",
      "2292     1349     12      61.0      0.0      61.0   13052.0  Florentina   \n",
      "\n",
      "     last_name  age                                    city  ...  \\\n",
      "0        Bauer   45   Atlanta-Sandy Springs-Roswell, GA MSA  ...   \n",
      "1     Bradford   73  San Francisco-Oakland-Berkeley, CA MSA  ...   \n",
      "2     Bradford   73  San Francisco-Oakland-Berkeley, CA MSA  ...   \n",
      "3      Hoffman   53       Orlando-Kissimmee-Sanford, FL MSA  ...   \n",
      "4      Hoffman   53       Orlando-Kissimmee-Sanford, FL MSA  ...   \n",
      "...        ...  ...                                     ...  ...   \n",
      "2288    Mclean   40  San Jose-Sunnyvale-Santa Clara, CA MSA  ...   \n",
      "2289    Mclean   40  San Jose-Sunnyvale-Santa Clara, CA MSA  ...   \n",
      "2290      Diaz   69      Boston-Cambridge-Newton, MA-NH MSA  ...   \n",
      "2291      Diaz   69      Boston-Cambridge-Newton, MA-NH MSA  ...   \n",
      "2292      Diaz   69      Boston-Cambridge-Newton, MA-NH MSA  ...   \n",
      "\n",
      "     usd_per_minute plan_name inc_min  inc_msg  conv_gb  inc_gb  calc_min  \\\n",
      "0              0.01  ultimate     0.0      0.0      2.0     0.0       0.0   \n",
      "1              0.01  ultimate     0.0      0.0      3.0     0.0       0.0   \n",
      "2              0.01  ultimate     0.0      0.0     32.0     2.0       0.0   \n",
      "3              0.01  ultimate     0.0      0.0     17.0     0.0       0.0   \n",
      "4              0.01  ultimate     0.0      0.0     24.0     0.0       0.0   \n",
      "...             ...       ...     ...      ...      ...     ...       ...   \n",
      "2288           0.03      surf     0.0     12.0     42.0    27.0       0.0   \n",
      "2289           0.03      surf     0.0      6.0     31.0    16.0       0.0   \n",
      "2290           0.03      surf     0.0     26.0     13.0     0.0       0.0   \n",
      "2291           0.03      surf     0.0     22.0     17.0     2.0       0.0   \n",
      "2292           0.03      surf     0.0     11.0     13.0     0.0       0.0   \n",
      "\n",
      "      calc_msg  calc_web  usd_plan  \n",
      "0         0.00      14.0     84.00  \n",
      "1         0.00      21.0     91.00  \n",
      "2         0.00     224.0    294.00  \n",
      "3         0.00     119.0    189.00  \n",
      "4         0.00     168.0    238.00  \n",
      "...        ...       ...       ...  \n",
      "2288      0.36     420.0    440.36  \n",
      "2289      0.18     310.0    330.18  \n",
      "2290      0.78     130.0    150.78  \n",
      "2291      0.66     170.0    190.66  \n",
      "2292      0.33     130.0    150.33  \n",
      "\n",
      "[2293 rows x 29 columns]\n"
     ]
    }
   ],
   "source": [
    "# Calcula el ingreso mensual para cada usuario\n",
    "# Calcular el total de llamadas, mensajesy datos para cada ususario\n",
    "\n",
    "merge_plan['minutos']=np.ceil(merge_plan['minutos'])\n",
    "merge_plan['inc_min']=np.maximum(merge_plan['minutos'] - merge_plan['minutes_included'],0)\n",
    "merge_plan['inc_msg']=np.maximum(merge_plan['mensajes'] - merge_plan['messages_included'],0)\n",
    "merge_plan['conv_gb']=np.ceil(merge_plan['internet']/1024)\n",
    "merge_plan['inc_gb']=np.maximum(merge_plan['conv_gb'] - (merge_plan['mb_per_month_included']/1024),0)\n",
    "merge_plan['calc_min']=merge_plan['inc_min'] * merge_plan['usd_per_minute']\n",
    "merge_plan['calc_msg']=merge_plan['inc_msg'] * merge_plan['usd_per_message']\n",
    "merge_plan['calc_web']=merge_plan['conv_gb'] * merge_plan['usd_per_gb']\n",
    "merge_plan['usd_plan']=merge_plan['usd_monthly_pay'] + merge_plan['calc_min'] + merge_plan['calc_msg'] + merge_plan['calc_web']\n",
    "print(merge_plan)\n",
    "\n",
    "\n",
    "\n",
    "\n"
   ]
  },
  {
   "cell_type": "markdown",
   "metadata": {},
   "source": [
    "<div class=\"alert alert-block alert-warning\">\n",
    "<b>Comentario del revisor (1ra Iteración)</b> <a class=“tocSkip”></a>\n",
    "\n",
    "La lógica de cálculo del cobro mensual es correcta en general, solo necesitas ajustar el redondeo como te mencioné antes. Asegúrate de hacer la estimación del cobro por el consumo de internet comparando los datos en GB, además es importante considerar el plan de cada usuario, el costo del plan base y los cargos por consumos adicionales para calcular correctamente el monto final.\n",
    "\n",
    "</div>"
   ]
  },
  {
   "cell_type": "markdown",
   "metadata": {},
   "source": [
    "<div class=\"alert alert-block alert-warning\">\n",
    "<b>Comentario del revisor (2da Iteración)</b> <a class=“tocSkip”></a>\n",
    "\n",
    "2️⃣ Andrea aún no estás haciendo el calculo de consumo de internet de manera adecuada. De acuerdo con el enunciado, el cobro de consumo de internet extra se hacer por cada GB adicional al plan, debes hacer la estimación en esa escala (GB), es decir tomar la columna *internet* y convertirla a GB y luego lo redondeas hacia arriba puedes usar la función `np.ceil`. Entonces el valor redondeado lo debes comparar con los 15GB o 30GB que incluye cada plan (`merge_plan['mb_per_month_included']/1024`), de esta forma la diferencia te dará un número entero, que en el caso de que indique que el usuario consumió más de los GB incluidos en el plan se le haga el cobro respectivo.\n",
    "\n",
    "</div>"
   ]
  },
  {
   "cell_type": "markdown",
   "metadata": {},
   "source": [
    "<div class=\"alert alert-block alert-danger\">\n",
    "<b>Comentario del revisor (3ra Iteración)</b> <a class=“tocSkip”></a>\n",
    "\n",
    "3️⃣ Andrea aún tienes un problema en el cálculo del consumo de internet por esa razón estás obteniendo valores muy altos. El problema está en estás dos líneas\n",
    "    \n",
    "    merge_plan['inc_web']=np.maximum(merge_plan['internet'] - merge_plan['mb_per_month_included'],0)\n",
    "    merge_plan['conv_gb']=np.ceil(merge_plan['mb_per_month_included']/1024)\n",
    "    \n",
    "En este caso estás haciendo la diferencia en MB, pero como te he indicado, la diferencia entre el consumo y lo que incluye el plan debe ser en GB para que se haga el cobro en el caso de que se exceda. Dejame reordenarte tu proceso para que ahora funcione como esperariamos\n",
    "    \n",
    "1. Debes tomar tu columna `internet` y convertirla a GB\n",
    "2. Luego de hacer la conversión usas la función `np.ceil` para hacer el redondeo, de esta forma tendremos el consumo de internet por usuario para cada mes en GB y valores enteros.\n",
    "3. Comparas estos valores con el internet que incluye cada plan en GB (15 GB surf , 30 GB ultimate)\n",
    "4. Si el consumo del usuario es mayor que el que incluye cada plan, se hace el cobro respectivo de acuerdo con el plan contratado.\n",
    "    \n",
    "    \n",
    "    \n",
    "    \n",
    "    \n",
    "    \n",
    "    \n",
    "\n",
    "</div>"
   ]
  },
  {
   "cell_type": "markdown",
   "metadata": {},
   "source": [
    "<div class=\"alert alert-block alert-success\">\n",
    "<b>Comentario del revisor (4ta Iteración)</b> <a class=“tocSkip”></a>\n",
    "\n",
    "Muy bien Andrea, has realizado el cobro correcto para cada usuario\n",
    "\n",
    "</div>"
   ]
  },
  {
   "cell_type": "markdown",
   "metadata": {
    "id": "-jtyHzJb0q1I"
   },
   "source": [
    "## Estudia el comportamiento de usuario"
   ]
  },
  {
   "cell_type": "markdown",
   "metadata": {
    "id": "AxU3Y0N70q1J"
   },
   "source": [
    "[Calcula algunas estadísticas descriptivas para los datos agregados y fusionados que nos sean útiles y que muestren un panorama general captado por los datos. Dibuja gráficos útiles para facilitar la comprensión. Dado que la tarea principal es comparar las tarifas y decidir cuál es más rentable, las estadísticas y gráficas deben calcularse por tarifa.]\n",
    "\n",
    "[En los comentarios hallarás pistas relevantes para las llamadas, pero no las hay para los mensajes e Internet. Sin embargo, el principio del estudio estadístico que se aplica para ellos es el mismo que para las llamadas.]"
   ]
  },
  {
   "cell_type": "markdown",
   "metadata": {
    "id": "vtW4CJEe0q1J"
   },
   "source": [
    "### Llamadas"
   ]
  },
  {
   "cell_type": "code",
   "execution_count": 39,
   "metadata": {
    "id": "Jf5v5--k0q1J"
   },
   "outputs": [
    {
     "data": {
      "image/png": "[encoded data removed]",
      "text/plain": [
       "<Figure size 640x480 with 1 Axes>"
      ]
     },
     "metadata": {},
     "output_type": "display_data"
    },
    {
     "data": {
      "text/html": [
       "<div>\n",
       "<style scoped>\n",
       "    .dataframe tbody tr th:only-of-type {\n",
       "        vertical-align: middle;\n",
       "    }\n",
       "\n",
       "    .dataframe tbody tr th {\n",
       "        vertical-align: top;\n",
       "    }\n",
       "\n",
       "    .dataframe thead th {\n",
       "        text-align: right;\n",
       "    }\n",
       "</style>\n",
       "<table border=\"1\" class=\"dataframe\">\n",
       "  <thead>\n",
       "    <tr style=\"text-align: right;\">\n",
       "      <th>plan</th>\n",
       "      <th>surf</th>\n",
       "      <th>ultimate</th>\n",
       "    </tr>\n",
       "    <tr>\n",
       "      <th>month</th>\n",
       "      <th></th>\n",
       "      <th></th>\n",
       "    </tr>\n",
       "  </thead>\n",
       "  <tbody>\n",
       "    <tr>\n",
       "      <th>1.0</th>\n",
       "      <td>6.766667</td>\n",
       "      <td>6.910714</td>\n",
       "    </tr>\n",
       "    <tr>\n",
       "      <th>2.0</th>\n",
       "      <td>7.303279</td>\n",
       "      <td>6.916667</td>\n",
       "    </tr>\n",
       "    <tr>\n",
       "      <th>3.0</th>\n",
       "      <td>7.106742</td>\n",
       "      <td>6.614130</td>\n",
       "    </tr>\n",
       "    <tr>\n",
       "      <th>4.0</th>\n",
       "      <td>7.191899</td>\n",
       "      <td>7.088176</td>\n",
       "    </tr>\n",
       "    <tr>\n",
       "      <th>5.0</th>\n",
       "      <td>7.173700</td>\n",
       "      <td>7.054491</td>\n",
       "    </tr>\n",
       "    <tr>\n",
       "      <th>6.0</th>\n",
       "      <td>7.251863</td>\n",
       "      <td>7.110522</td>\n",
       "    </tr>\n",
       "    <tr>\n",
       "      <th>7.0</th>\n",
       "      <td>7.124836</td>\n",
       "      <td>7.276061</td>\n",
       "    </tr>\n",
       "    <tr>\n",
       "      <th>8.0</th>\n",
       "      <td>7.124718</td>\n",
       "      <td>7.015709</td>\n",
       "    </tr>\n",
       "    <tr>\n",
       "      <th>9.0</th>\n",
       "      <td>7.128537</td>\n",
       "      <td>7.166857</td>\n",
       "    </tr>\n",
       "    <tr>\n",
       "      <th>10.0</th>\n",
       "      <td>7.120604</td>\n",
       "      <td>7.066706</td>\n",
       "    </tr>\n",
       "    <tr>\n",
       "      <th>11.0</th>\n",
       "      <td>7.160421</td>\n",
       "      <td>7.138889</td>\n",
       "    </tr>\n",
       "    <tr>\n",
       "      <th>12.0</th>\n",
       "      <td>7.239358</td>\n",
       "      <td>7.073878</td>\n",
       "    </tr>\n",
       "  </tbody>\n",
       "</table>\n",
       "</div>"
      ],
      "text/plain": [
       "plan       surf  ultimate\n",
       "month                    \n",
       "1.0    6.766667  6.910714\n",
       "2.0    7.303279  6.916667\n",
       "3.0    7.106742  6.614130\n",
       "4.0    7.191899  7.088176\n",
       "5.0    7.173700  7.054491\n",
       "6.0    7.251863  7.110522\n",
       "7.0    7.124836  7.276061\n",
       "8.0    7.124718  7.015709\n",
       "9.0    7.128537  7.166857\n",
       "10.0   7.120604  7.066706\n",
       "11.0   7.160421  7.138889\n",
       "12.0   7.239358  7.073878"
      ]
     },
     "execution_count": 39,
     "metadata": {},
     "output_type": "execute_result"
    }
   ],
   "source": [
    "# Compara la duración promedio de llamadas por cada plan y por cada mes. Traza un gráfico de barras para visualizarla.\n",
    "\n",
    "merge_calc_pl=calls.merge(users, how='outer', on='user_id')\n",
    "group_calc_pl=merge_calc_pl.groupby(['month','plan'])['duration'].mean().reset_index()\n",
    "pv_pl=group_calc_pl.pivot_table(index='month', columns='plan', values='duration', aggfunc='mean')\n",
    "pv_pl.plot(kind='bar')\n",
    "plt.show()\n",
    "pv_pl"
   ]
  },
  {
   "cell_type": "code",
   "execution_count": 40,
   "metadata": {
    "id": "QoLqW1S_0q1J"
   },
   "outputs": [
    {
     "name": "stdout",
     "output_type": "stream",
     "text": [
      "count    1573.000000\n",
      "mean      428.749523\n",
      "std       234.453150\n",
      "min         0.000000\n",
      "25%       272.000000\n",
      "50%       425.000000\n",
      "75%       576.000000\n",
      "max      1510.000000\n",
      "Name: minutos, dtype: float64\n",
      "\n",
      "count     720.000000\n",
      "mean      430.450000\n",
      "std       240.508762\n",
      "min         0.000000\n",
      "25%       260.000000\n",
      "50%       424.000000\n",
      "75%       565.250000\n",
      "max      1369.000000\n",
      "Name: minutos, dtype: float64\n"
     ]
    },
    {
     "data": {
      "image/png": "[encoded data removed]",
      "text/plain": [
       "<Figure size 640x480 with 1 Axes>"
      ]
     },
     "metadata": {},
     "output_type": "display_data"
    },
    {
     "data": {
      "image/png": "[encoded data removed]",
      "text/plain": [
       "<Figure size 640x480 with 1 Axes>"
      ]
     },
     "metadata": {},
     "output_type": "display_data"
    }
   ],
   "source": [
    "# Compara el número de minutos mensuales que necesitan los usuarios de cada plan. Traza un histograma.\n",
    "df_min_surf=merge_plan[merge_plan['plan'] == 'surf']['minutos']\n",
    "print(df_min_surf.describe())\n",
    "print()\n",
    "df_min_ult = merge_plan[merge_plan['plan'] == 'ultimate']['minutos']\n",
    "print(df_min_ult.describe())\n",
    "\n",
    "x = [df_min_surf, df_min_ult]\n",
    "\n",
    "fig, ax = plt.subplots()\n",
    "ax.hist(x, bins=10, color=['purple', 'black'], edgecolor=\"white\")\n",
    "\n",
    "plt.title('min cosumidos de acuerdo al plan')\n",
    "plt.legend(['surf', 'ultimate'])\n",
    "plt.xlabel('Mint consumidos')\n",
    "plt.ylabel('Frecuencia')\n",
    "\n",
    "plt.show()\n",
    "\n",
    "\n",
    "\n",
    "sns.kdeplot(x = df_min_surf, fill=True, color='orange')\n",
    "sns.kdeplot(x = df_min_ult, fill=True, shade=True, color='green')\n",
    "\n",
    "plt.title('Histograma de densidad de los minutos consumidos según el plan')\n",
    "plt.legend(['surf', 'ultimate'])\n",
    "plt.xlabel('Minutos consumidos')\n",
    "plt.ylabel('Densidad')\n",
    "\n",
    "\n",
    "plt.show()\n"
   ]
  },
  {
   "cell_type": "markdown",
   "metadata": {
    "id": "bLS9T8OH0q1K"
   },
   "source": [
    "[Calcula la media y la variable de la duración de las llamadas para averiguar si los usuarios de los distintos planes se comportan de forma diferente al realizar sus llamadas.]"
   ]
  },
  {
   "cell_type": "code",
   "execution_count": 41,
   "metadata": {
    "id": "oSndbAnt0q1K"
   },
   "outputs": [
    {
     "name": "stdout",
     "output_type": "stream",
     "text": [
      "La media de llamadas con plan surf es: 428.7495232040687\n",
      "La varianza de llamadas con plan surf es: 54933.334591317485\n",
      "La media de llamadas con plan ultimate es: 430.45\n",
      "La varianza de llamadas con plan ultimate es: 57764.125277777785\n"
     ]
    }
   ],
   "source": [
    "# Calcula la media y la varianza de la duración mensual de llamadas.\n",
    "\n",
    "mean_surf = df_min_surf.mean()\n",
    "print(\"La media de llamadas con plan surf es:\",mean_surf)\n",
    "\n",
    "var_surf = np.var(df_min_surf)\n",
    "print(\"La varianza de llamadas con plan surf es:\",var_surf)\n",
    "\n",
    "mean_ultm = df_min_ult.mean()\n",
    "print(\"La media de llamadas con plan ultimate es:\",mean_ultm)\n",
    "\n",
    "var_ultm= np.var(df_min_ult)\n",
    "print(\"La varianza de llamadas con plan ultimate es:\",var_ultm)\n"
   ]
  },
  {
   "cell_type": "code",
   "execution_count": 42,
   "metadata": {
    "id": "nZzoRUKc0q1K"
   },
   "outputs": [
    {
     "data": {
      "image/png": "[encoded data removed]",
      "text/plain": [
       "<Figure size 640x480 with 1 Axes>"
      ]
     },
     "metadata": {},
     "output_type": "display_data"
    }
   ],
   "source": [
    "# Traza un diagrama de caja para visualizar la distribución de la duración mensual de llamadas\n",
    "\n",
    "sns.boxplot(x=\"minutos\", y=\"plan\", data=merge_plan, palette='pastel', saturation=0.9, linewidth=2, fliersize=8, order=['surf','ultimate'])\n",
    "\n",
    "plt.show()"
   ]
  },
  {
   "cell_type": "markdown",
   "metadata": {
    "id": "r627zBO50q1K"
   },
   "source": [
    "[Elabora las conclusiones sobre el comportamiento de los usuarios con respecto a las llamadas. ¿Su comportamiento varía en función del plan?]"
   ]
  },
  {
   "cell_type": "markdown",
   "metadata": {},
   "source": [
    "- Los usuarios de ambos planes (surf y ultimate) tienen un patrón de comportamiento similar en cuanto a la cantidad de llamadas realizadas, ya que las cajas de los diagramas de caja están casi en la misma posición y tienen una gran longitud similar.\n",
    "\n",
    "- surf tiene más valores atípicos que ultimate.  \n"
   ]
  },
  {
   "cell_type": "markdown",
   "metadata": {
    "id": "8idKy8Wh0q1L"
   },
   "source": [
    "### Mensajes"
   ]
  },
  {
   "cell_type": "code",
   "execution_count": 43,
   "metadata": {
    "id": "NXLxiTit0q1L"
   },
   "outputs": [
    {
     "name": "stdout",
     "output_type": "stream",
     "text": [
      "count    1573.000000\n",
      "mean       31.159568\n",
      "std        33.566717\n",
      "min         0.000000\n",
      "25%         3.000000\n",
      "50%        24.000000\n",
      "75%        47.000000\n",
      "max       266.000000\n",
      "Name: mensajes, dtype: float64\n",
      "\n",
      "count    720.000000\n",
      "mean      37.551389\n",
      "std       34.767179\n",
      "min        0.000000\n",
      "25%        7.000000\n",
      "50%       30.000000\n",
      "75%       61.000000\n",
      "max      166.000000\n",
      "Name: mensajes, dtype: float64\n"
     ]
    },
    {
     "data": {
      "image/png": "[encoded data removed]",
      "text/plain": [
       "<Figure size 640x480 with 1 Axes>"
      ]
     },
     "metadata": {},
     "output_type": "display_data"
    }
   ],
   "source": [
    "# Comprara el número de mensajes que tienden a enviar cada mes los usuarios de cada plan\n",
    "\n",
    "df_msg_surf = merge_plan[merge_plan['plan'] == 'surf']['mensajes']\n",
    "print(df_msg_surf.describe())\n",
    "print()\n",
    "df_msg_ult = merge_plan[merge_plan['plan'] == 'ultimate']['mensajes']\n",
    "print(df_msg_ult.describe())\n",
    "\n",
    "x=[df_msg_surf, df_msg_ult]\n",
    "\n",
    "fig, ax = plt.subplots()\n",
    "ax.hist(x, bins=10, color=['orange', 'black'], edgecolor = \"white\")\n",
    "\n",
    "plt.title('msg de acuerdo al plan')\n",
    "plt.legend(['surf', 'ultimate'])\n",
    "plt.xlabel('Mensajes enviados')\n",
    "plt.ylabel('Frecuencia')\n",
    "\n",
    "plt.show()\n"
   ]
  },
  {
   "cell_type": "code",
   "execution_count": 44,
   "metadata": {
    "id": "GRI_R7xF0q1L",
    "scrolled": true
   },
   "outputs": [
    {
     "data": {
      "image/png": "[encoded data removed]",
      "text/plain": [
       "<Figure size 640x480 with 1 Axes>"
      ]
     },
     "metadata": {},
     "output_type": "display_data"
    }
   ],
   "source": [
    "# Compara la cantidad de tráfico de Internet consumido por usuarios por plan\n",
    "\n",
    "sns.kdeplot(x = df_msg_surf, fill = True, color='purple')\n",
    "sns.kdeplot(x = df_msg_ult, fill = True, shade=True, color= 'blue')\n",
    "\n",
    "plt.title('Histograma de densidad de los mensajes enviados según el plan')\n",
    "plt.legend(['surf', 'ultimate'])\n",
    "plt.xlabel('Mensajes enviados')\n",
    "plt.ylabel('Densidad')\n",
    "\n",
    "plt.show()"
   ]
  },
  {
   "cell_type": "code",
   "execution_count": 45,
   "metadata": {},
   "outputs": [
    {
     "name": "stdout",
     "output_type": "stream",
     "text": [
      "La media de llamadas con plan surf es: 31.15956770502225\n",
      "La varianza de llamadas con plan surf es: 1126.008231726662\n",
      "La media de llamadas con plan ultimate es: 37.55138888888889\n",
      "La varianza de llamadas con plan ultimate es: 1207.0779147376543\n"
     ]
    }
   ],
   "source": [
    "# Calcula la media y la varianza de la duración mensual de mensajes\n",
    "mean_msg= df_msg_surf.mean()\n",
    "print(\"La media de llamadas con plan surf es:\",mean_msg)\n",
    "\n",
    "var_surf = np.var(df_msg_surf)\n",
    "print(\"La varianza de llamadas con plan surf es:\",var_surf)\n",
    "\n",
    "mean_ult= df_msg_ult.mean()\n",
    "print(\"La media de llamadas con plan ultimate es:\",mean_ult)\n",
    "\n",
    "var_ult= np.var(df_msg_ult)\n",
    "print(\"La varianza de llamadas con plan ultimate es:\",var_ult)\n"
   ]
  },
  {
   "cell_type": "code",
   "execution_count": 46,
   "metadata": {},
   "outputs": [
    {
     "data": {
      "image/png": "[encoded data removed]",
      "text/plain": [
       "<Figure size 640x480 with 1 Axes>"
      ]
     },
     "metadata": {},
     "output_type": "display_data"
    }
   ],
   "source": [
    "# Traza un diagrama de caja para visualizar la distribución de los mensajes enviados mensualmente\n",
    "sns.boxplot(x = \"mensajes\", y = \"plan\", data = merge_plan, palette= 'pastel',  saturation = 0.9, linewidth = 2,\n",
    "           fliersize = 8, order=['surf', 'ultimate'])\n",
    "\n",
    "\n",
    "plt.show()"
   ]
  },
  {
   "cell_type": "markdown",
   "metadata": {
    "id": "390SSL480q1M"
   },
   "source": [
    "[Elabora las conclusiones sobre el comportamiento de los usuarios con respecto a los mensajes. ¿Su comportamiento varía en función del plan?]"
   ]
  },
  {
   "cell_type": "markdown",
   "metadata": {},
   "source": [
    "- bueno la diferencia salta a la vsita nuestro plan surf se esta llevando la delantera sobre ultimate ... tendra mejores ofertas? \n",
    "\n",
    "- o tendra mejor recepción este plan.\n",
    "\n",
    "- interpretación técnica\n",
    "- se observa que hay una distribución relativamente simétrica de los valores.\n",
    "- detallamos la cantidad de outliers para el plan surf lo que nos indica una mayor variabilidad de los datos.\n",
    "- En terminos generales el plan surf tiene una mayor variabilidad en los datos y una distribución más simétrica, mientras que el plan ultimate tiene una menor variabilidad en los datos."
   ]
  },
  {
   "cell_type": "markdown",
   "metadata": {
    "id": "42YSypXz0q1M"
   },
   "source": [
    "### Internet"
   ]
  },
  {
   "cell_type": "code",
   "execution_count": 47,
   "metadata": {
    "scrolled": true
   },
   "outputs": [
    {
     "name": "stdout",
     "output_type": "stream",
     "text": [
      "count     1573.000000\n",
      "mean     16577.755245\n",
      "std       8021.447514\n",
      "min          0.000000\n",
      "25%      12003.000000\n",
      "50%      16848.000000\n",
      "75%      21022.000000\n",
      "max      70988.000000\n",
      "Name: internet, dtype: float64\n",
      "\n",
      "count      720.000000\n",
      "mean     17234.643056\n",
      "std       7859.103172\n",
      "min          0.000000\n",
      "25%      12681.250000\n",
      "50%      16879.000000\n",
      "75%      21043.000000\n",
      "max      46634.000000\n",
      "Name: internet, dtype: float64\n"
     ]
    },
    {
     "data": {
      "image/png": "[encoded data removed]",
      "text/plain": [
       "<Figure size 640x480 with 1 Axes>"
      ]
     },
     "metadata": {},
     "output_type": "display_data"
    }
   ],
   "source": [
    "# Comprara el número de mensajes que tienden a enviar cada mes los usuarios de cada plan\n",
    "df_web_surf = merge_plan[merge_plan['plan'] == 'surf']['internet']\n",
    "print(df_web_surf.describe())\n",
    "print()\n",
    "df_web_ult = merge_plan[merge_plan['plan'] == 'ultimate']['internet']\n",
    "print(df_web_ult.describe())\n",
    "\n",
    "x=[df_web_surf, df_web_ult]\n",
    "\n",
    "fig, ax = plt.subplots()\n",
    "ax.hist(x, bins=10, color=['blue', 'yellow'], edgecolor = \"white\")\n",
    "\n",
    "plt.title('Distribución de Megabytes usados según el plan del usuario')\n",
    "plt.legend(['surf', 'ultimate'])\n",
    "plt.xlabel('Megabytes consumidos')\n",
    "plt.ylabel('Frecuencia')\n",
    "\n",
    "plt.show()\n"
   ]
  },
  {
   "cell_type": "code",
   "execution_count": 48,
   "metadata": {
    "id": "lSuKPtjh0q1M",
    "scrolled": true
   },
   "outputs": [
    {
     "data": {
      "image/png": "[encoded data removed]",
      "text/plain": [
       "<Figure size 640x480 with 1 Axes>"
      ]
     },
     "metadata": {},
     "output_type": "display_data"
    }
   ],
   "source": [
    "#Gráfico de densidad de los Megabytes consumidos\n",
    "sns.kdeplot(x = df_web_surf, fill = True, color='green')\n",
    "sns.kdeplot(x = df_web_ult, fill = True, shade=True, color= 'blue')\n",
    "\n",
    "plt.title('Histograma de densidad de los Megabytes consumidos según el plan')\n",
    "plt.legend(['surf', 'ultimate'])\n",
    "plt.xlabel('Megabytes consumidos')\n",
    "plt.ylabel('Densidad')\n",
    "\n",
    "\n",
    "plt.show()"
   ]
  },
  {
   "cell_type": "code",
   "execution_count": 49,
   "metadata": {
    "id": "wnh8jYXi0q1N"
   },
   "outputs": [
    {
     "name": "stdout",
     "output_type": "stream",
     "text": [
      "La media de llamadas con plan surf es: 16577.755244755244\n",
      "La varianza de llamadas con plan surf es: 64302715.18040003\n",
      "La media de llamadas con plan ultimate es: 17234.643055555556\n",
      "La varianza de llamadas con plan ultimate es: 61679717.24342399\n"
     ]
    }
   ],
   "source": [
    "\n",
    "# Calculo de media y varianza de los Megabytes consumidos.\n",
    "mean_web_surf= df_web_surf.mean()\n",
    "print(\"La media de llamadas con plan surf es:\",mean_web_surf)\n",
    "\n",
    "var_web_surf = np.var(df_web_surf)\n",
    "print(\"La varianza de llamadas con plan surf es:\",var_web_surf)\n",
    "\n",
    "mean_web_ult = df_web_ult.mean()\n",
    "print(\"La media de llamadas con plan ultimate es:\",mean_web_ult)\n",
    "\n",
    "var_web_ult = np.var(df_web_ult)\n",
    "print(\"La varianza de llamadas con plan ultimate es:\",var_web_ult)"
   ]
  },
  {
   "cell_type": "code",
   "execution_count": 50,
   "metadata": {
    "id": "5VlyJ9ry0q1N"
   },
   "outputs": [
    {
     "data": {
      "image/png": "[encoded data removed]",
      "text/plain": [
       "<Figure size 640x480 with 1 Axes>"
      ]
     },
     "metadata": {},
     "output_type": "display_data"
    }
   ],
   "source": [
    "# Traza un diagrama de caja para visualizar la distribución de los Megabytes consumidos mensualmente\n",
    "sns.boxplot(x = \"internet\", y = \"plan\", data = merge_plan, palette= 'pastel',  saturation = 0.9, linewidth = 2,\n",
    "           fliersize = 8, order=['surf', 'ultimate'])\n",
    "\n",
    "plt.show()\n"
   ]
  },
  {
   "cell_type": "markdown",
   "metadata": {
    "id": "UN9zwuMP0q1N"
   },
   "source": [
    "[Elabora las conclusiones sobre cómo los usuarios tienden a consumir el tráfico de Internet. ¿Su comportamiento varía en función del plan?]"
   ]
  },
  {
   "cell_type": "markdown",
   "metadata": {},
   "source": [
    "- la mayoria de los datos están concentrados en el centro de la distribución.\n",
    "- nuevamente surf en el primer gráfico llevando la delantera.\n",
    "- sin embargo en el diagrama de caja vemos una mayor variabilidad e irregularidad(outliers) con respecto a ultimate.\n",
    "- los usuarios del plan surf tienen un patrón de uso de internet más variable, con picos de uso más alto y frecuente, lo que sugiere que pueden estar utilizando aplicaciones o servicios con mayor requerimiento de datos.\n",
    "- para los usuarios de ultimate tienen un patró de uso de internet más estable y predecible, con menos picos de uso altos y menos frecuentes, lo que sugiere que pueden estar utilizando aplicaciones o servicios que requieren menos datos."
   ]
  },
  {
   "cell_type": "markdown",
   "metadata": {
    "id": "tCijq3260q1N"
   },
   "source": [
    "## Ingreso"
   ]
  },
  {
   "cell_type": "markdown",
   "metadata": {
    "id": "9nq5IAcy0q1O"
   },
   "source": [
    "[Del mismo modo que has estudiado el comportamiento de los usuarios, describe estadísticamente los ingresos de los planes.]"
   ]
  },
  {
   "cell_type": "code",
   "execution_count": 51,
   "metadata": {
    "id": "tz-dq_V00q1O"
   },
   "outputs": [
    {
     "name": "stdout",
     "output_type": "stream",
     "text": [
      "count    1573.000000\n",
      "mean      188.900941\n",
      "std        79.468787\n",
      "min        20.000000\n",
      "25%       140.930000\n",
      "50%       190.420000\n",
      "75%       230.420000\n",
      "max       740.370000\n",
      "Name: usd_plan, dtype: float64\n",
      "\n",
      "count    720.000000\n",
      "mean     191.343056\n",
      "std       53.740973\n",
      "min       70.000000\n",
      "25%      161.000000\n",
      "50%      189.000000\n",
      "75%      217.000000\n",
      "max      392.000000\n",
      "Name: usd_plan, dtype: float64\n"
     ]
    }
   ],
   "source": [
    "df_ing_surf= merge_plan[merge_plan['plan'] == 'surf']['usd_plan']\n",
    "print(df_ing_surf.describe())\n",
    "print()\n",
    "df_ing_ult= merge_plan[merge_plan['plan'] == 'ultimate']['usd_plan']\n",
    "print(df_ing_ult.describe())"
   ]
  },
  {
   "cell_type": "code",
   "execution_count": 52,
   "metadata": {
    "id": "0Y1v8ZUz0q1P",
    "scrolled": true
   },
   "outputs": [
    {
     "data": {
      "image/png": "[encoded data removed]",
      "text/plain": [
       "<Figure size 640x480 with 1 Axes>"
      ]
     },
     "metadata": {},
     "output_type": "display_data"
    }
   ],
   "source": [
    "#Acá procedemos con el gráfico de distribución:\n",
    "\n",
    "x = [df_ing_surf, df_ing_ult]\n",
    "\n",
    "fig, ax = plt.subplots()\n",
    "ax.hist(x, bins=15, color=['blue', 'black'], edgecolor = \"white\")\n",
    "\n",
    "plt.title('Distribución de Ingresos según el plan del usuario')\n",
    "plt.legend(['surf', 'ultimate'])\n",
    "plt.xlabel('Megabytes consumidos')\n",
    "plt.ylabel('Frecuencia')\n",
    "\n",
    "plt.show()"
   ]
  },
  {
   "cell_type": "code",
   "execution_count": 53,
   "metadata": {
    "id": "bYmwxyVh0q1P"
   },
   "outputs": [
    {
     "data": {
      "image/png": "[encoded data removed]",
      "text/plain": [
       "<Figure size 640x480 with 1 Axes>"
      ]
     },
     "metadata": {},
     "output_type": "display_data"
    }
   ],
   "source": [
    "#El histograma anterior se puede ver mejor con a través de un gráfico de densidad.\n",
    "sns.kdeplot(x = df_ing_surf, fill = True, color='purple')\n",
    "sns.kdeplot(x = df_ing_ult, fill = True, shade=True, color= 'black')\n",
    "\n",
    "plt.show()\n"
   ]
  },
  {
   "cell_type": "code",
   "execution_count": 54,
   "metadata": {
    "scrolled": true
   },
   "outputs": [
    {
     "name": "stdout",
     "output_type": "stream",
     "text": [
      "La media de llamadas con plan surf es: 188.90094087730452\n",
      "La varianza de llamadas con plan surf es: 6311.273318885887\n",
      "La media de llamadas con plan ultimate es: 191.34305555555557\n",
      "La varianza de llamadas con plan ultimate es: 2884.0809239969135\n"
     ]
    }
   ],
   "source": [
    "# Calculo de media y varianza de los ingresos.\n",
    "mean_ing_surf= df_ing_surf.mean()\n",
    "print(\"La media de llamadas con plan surf es:\",mean_ing_surf)\n",
    "\n",
    "var_ing_surf = np.var(df_ing_surf)\n",
    "print(\"La varianza de llamadas con plan surf es:\",var_ing_surf)\n",
    "\n",
    "mean_ing_ult = df_ing_ult.mean()\n",
    "print(\"La media de llamadas con plan ultimate es:\",mean_ing_ult)\n",
    "\n",
    "var_ing_ult = np.var(df_ing_ult)\n",
    "print(\"La varianza de llamadas con plan ultimate es:\",var_ing_ult)"
   ]
  },
  {
   "cell_type": "code",
   "execution_count": 55,
   "metadata": {},
   "outputs": [
    {
     "data": {
      "image/png": "[encoded data removed]",
      "text/plain": [
       "<Figure size 640x480 with 1 Axes>"
      ]
     },
     "metadata": {},
     "output_type": "display_data"
    }
   ],
   "source": [
    "sns.boxplot(x = \"usd_plan\", y = \"plan\", data = merge_plan, palette= 'pastel',  saturation = 0.9, linewidth = 2,\n",
    "           fliersize = 8, order=['surf', 'ultimate'])\n",
    "\n",
    "plt.show()"
   ]
  },
  {
   "cell_type": "markdown",
   "metadata": {
    "id": "KAFidcXZ0q1P"
   },
   "source": [
    "[Elabora las conclusiones sobre cómo difiere el ingreso entre los planes.]"
   ]
  },
  {
   "cell_type": "markdown",
   "metadata": {},
   "source": [
    "- el plan ultimate tiene un ingreso promedio más alto que el plan surf.\n",
    "- el plan surf tiene una mayor variabilidad en los ingresos que el ultimate.\n",
    "- el plan ultimate tiene una mayor homogeniedad en los ingresos que el plan surf."
   ]
  },
  {
   "cell_type": "markdown",
   "metadata": {},
   "source": [
    "<div class=\"alert alert-block alert-success\">\n",
    "<b>Comentario del revisor (1ra Iteración)</b> <a class=“tocSkip”></a>\n",
    "\n",
    "Excelente elección para las visualizaciones de datos. Además, calculaste correctamente la información estadística de cada distribución de datos (minutos, mensajes e internet). Esto permite identificar patrones de comportamiento en los usuarios y extraer información valiosa para la compañía.\n",
    "\n",
    "<div class=\"alert alert-block alert-warning\">\n",
    "<b>Comentario del revisor (1ra Iteración)</b> <a class=“tocSkip”></a>\n",
    "\n",
    "Respecto a la información sobre **Ingresos**, seguramente las gráficas y datos que obtuviste cambiarán cuando hagas el ajuste en el cálculo de los cobros mensuales por usuario en cada plan. \n",
    "\n",
    "</div>\n",
    "</div>"
   ]
  },
  {
   "cell_type": "markdown",
   "metadata": {},
   "source": [
    "# efectivamente si tuvo incremento"
   ]
  },
  {
   "cell_type": "markdown",
   "metadata": {
    "id": "ajJ7VKeI0q1Q"
   },
   "source": [
    "## Prueba las hipótesis estadísticas"
   ]
  },
  {
   "cell_type": "markdown",
   "metadata": {
    "id": "AdXAZ-yL0q1Q"
   },
   "source": [
    "[Prueba la hipótesis de que son diferentes los ingresos promedio procedentes de los usuarios de los planes de llamada Ultimate y Surf.]"
   ]
  },
  {
   "cell_type": "markdown",
   "metadata": {
    "id": "IQwa_hsh0q1Q"
   },
   "source": [
    "[Elabora las hipótesis nula y alternativa, escoge la prueba estadística, determina el valor alfa.]"
   ]
  },
  {
   "cell_type": "code",
   "execution_count": 56,
   "metadata": {},
   "outputs": [
    {
     "name": "stdout",
     "output_type": "stream",
     "text": [
      "Estadístico de prueba: 77.67733763996453\n",
      "valor p: 2.348520420381877e-18\n",
      "Las varianzas no son iguales\n"
     ]
    }
   ],
   "source": [
    "# prueba levene\n",
    "\n",
    "stat, p= stats.levene(df_ing_surf, df_ing_ult)\n",
    "\n",
    "print(\"Estadístico de prueba:\", stat)\n",
    "print(\"valor p:\", p)\n",
    "\n",
    "\n",
    "# el valor p es menor que 0.05, rechazamos la hipótesis nula de iguadad de vrianzas \n",
    "\n",
    "if p < 0.05:\n",
    "    print(\"Las varianzas no son iguales\")\n",
    "else:\n",
    "    print(\"Las varianzas son iguales\")"
   ]
  },
  {
   "cell_type": "code",
   "execution_count": 57,
   "metadata": {
    "id": "nFoPNlPq0q1R"
   },
   "outputs": [
    {
     "name": "stdout",
     "output_type": "stream",
     "text": [
      "valor p: 0.38878345864210573\n",
      "\n",
      "No podemos rechazar la hipótesis nula\n"
     ]
    }
   ],
   "source": [
    "# Prueba las hipótesis\n",
    "df_ing_surf # Este es nuestro Dataframe de ingresos de usuarios surf\n",
    "df_ing_ult # Este es nuestro Dataframe de ingresos de usuarios ultimate\n",
    "\n",
    "alpha = 0.05 # Nuestro alpha será de 0.05\n",
    "\n",
    "#Almacenaremos el cálculo de la prueba t en results, considerando que las varianzas son muy diferentes, por ello\n",
    "#usamos equal_var = False. El método a utilizar es st.ttest_ind:\n",
    "\n",
    "results = st.ttest_ind(df_ing_surf, df_ing_ult, equal_var=False) \n",
    "\n",
    "print('valor p:', results.pvalue) # Imprimimos el valor p obtenido\n",
    "print()\n",
    "\n",
    "if (results.pvalue < alpha): \n",
    "    print(\"Rechazamos la hipótesis nula\")\n",
    "else:\n",
    "    print(\"No podemos rechazar la hipótesis nula\")\n"
   ]
  },
  {
   "cell_type": "markdown",
   "metadata": {
    "id": "tCcAruM60q1R"
   },
   "source": [
    "[Prueba la hipótesis de que el ingreso promedio de los usuarios del área NY-NJ es diferente al de los usuarios de otras regiones.]"
   ]
  },
  {
   "cell_type": "markdown",
   "metadata": {
    "id": "LsBgitqj0q1R"
   },
   "source": [
    "[Elabora las hipótesis nula y alternativa, escoge la prueba estadística, determina el valor alfa.]"
   ]
  },
  {
   "cell_type": "code",
   "execution_count": 58,
   "metadata": {
    "id": "Cqcj7wrZ0q1S"
   },
   "outputs": [
    {
     "data": {
      "text/plain": [
       "count    377.000000\n",
       "mean     189.841777\n",
       "std       68.228108\n",
       "min       30.000000\n",
       "25%      150.000000\n",
       "50%      190.000000\n",
       "75%      230.000000\n",
       "max      430.000000\n",
       "Name: usd_plan, dtype: float64"
      ]
     },
     "metadata": {},
     "output_type": "display_data"
    },
    {
     "data": {
      "text/plain": [
       "count    1916.000000\n",
       "mean      189.633523\n",
       "std        73.184895\n",
       "min        20.000000\n",
       "25%       150.000000\n",
       "50%       190.000000\n",
       "75%       230.000000\n",
       "max       740.370000\n",
       "Name: usd_plan, dtype: float64"
      ]
     },
     "metadata": {},
     "output_type": "display_data"
    },
    {
     "name": "stdout",
     "output_type": "stream",
     "text": [
      "La varianza de los ingresos de usuarios de NY-NJ es:  4642.726984905263\n",
      "\n",
      "La varianza de los ingresos de usuarios que no son de NY-NJ es:  5353.233384926926\n",
      "valor p: 0.9573395997318029\n",
      "\n",
      "No podemos rechazar la hipótesis nula\n"
     ]
    }
   ],
   "source": [
    "# Prueba las hipótesis\n",
    "\n",
    "#En este caso la hipótesis nula debería considerar que: \"Los ingresos promedios de los usuarios de NY-NJ son iguales al resto\n",
    "#del país\"\n",
    "\n",
    "\n",
    "#Primero almacenamos los registros de los usuarios de NY-NJ y los que no en dos variables distintas:\n",
    "ny_nj_users = merge_plan[merge_plan['city']=='New York-Newark-Jersey City, NY-NJ-PA MSA']['usd_plan']\n",
    "\n",
    "non_ny_nj_users = merge_plan[merge_plan['city']!='New York-Newark-Jersey City, NY-NJ-PA MSA']['usd_plan']\n",
    "\n",
    "\n",
    "display(ny_nj_users.describe())\n",
    "\n",
    "display(non_ny_nj_users.describe())\n",
    "\n",
    "print(\"La varianza de los ingresos de usuarios de NY-NJ es: \", np.var(ny_nj_users))\n",
    "print()\n",
    "print(\"La varianza de los ingresos de usuarios que no son de NY-NJ es: \", np.var(non_ny_nj_users))\n",
    "\n",
    "\n",
    "# [Elabora las hipótesis nula y alternativa, escoge la prueba estadística, determina el valor alfa.]\n",
    "\n",
    "\n",
    "\n",
    "# Prueba las hipótesis\n",
    "alpha = 0.05\n",
    "\n",
    "#Almacenaremos el cálculo de la prueba t en results, considerando que las varianzas son muy diferentes, por ello\n",
    "#usamos equal_var = False. El método a utilizar es st.ttest_ind:\n",
    "\n",
    "results = st.ttest_ind(ny_nj_users, non_ny_nj_users, equal_var=False)\n",
    "\n",
    "print('valor p:', results.pvalue) # Imprimimos el valor p obtenido\n",
    "print()\n",
    "\n",
    "if (results.pvalue < alpha): \n",
    "    print(\"Rechazamos la hipótesis nula\")\n",
    "else:\n",
    "    print(\"No podemos rechazar la hipótesis nula\")\n"
   ]
  },
  {
   "cell_type": "markdown",
   "metadata": {},
   "source": [
    "<div class=\"alert alert-block alert-success\">\n",
    "<b>Comentario del revisor (1ra Iteración)</b> <a class=“tocSkip”></a>\n",
    "\n",
    "Andrea aplicaste correctamente la prueba de hipótesis comparando la distribución de dos muestras independientes e interpretando de manera acertada el `p-value` obtenido y su relación con la hipótesis nula\n",
    "\n",
    "<div class=\"alert alert-block alert-warning\">\n",
    "<b>Comentario del revisor (1ra Iteración)</b> <a class=“tocSkip”></a>\n",
    "\n",
    "Te recomiendo realizar previamente una prueba de  [Levene](https://www.educaopen.com/digital-lab/blog/educacion-digital/prueba-de-levene) para evaluar la igualdad de las varianzas, lo que te permitirá configurar adecuadamente el parámetro **equla_var** en la función `ttest_ind`. Esto permitirá una interpretación más precisa de los resultados además garantizará que la prueba t sea estadísticamente válida.\n",
    "\n",
    "</div>\n",
    "</div>"
   ]
  },
  {
   "cell_type": "markdown",
   "metadata": {
    "id": "bbTR8UQO0q1T"
   },
   "source": [
    "## Conclusión general\n",
    "\n",
    "[En esta sección final, enumera tus conclusiones importantes. Asegúrate de que estas abarquen todas las decisiones (suposiciones) importantes que adoptaste y que determinaron la forma elegida para procesar y analizar los datos.]"
   ]
  },
  {
   "cell_type": "markdown",
   "metadata": {},
   "source": [
    "- inicialmente realizamos un sondeo general de cada uno de los df; revisando la calidad de la información; depurando la misma; lo anterior se realizó haciendo uso de los métodos duplicated(); isna(); fillna(); entre otros; con el fin de limpiar la información y posteriormente, poder trabajar con los datos; organizados.\n",
    "- luego comprometimos la información de un df con los demás haciendo uso de nuestro amigo merge; para darle mas consistencia e integridad a los datos y visualizar la información de una manera más amplia; para ello utilizamos los diferentes métodos de agrupación; funciones; para  generar gráficos que nos demostrara de una manera mas sencilla y eficiente el compportamiento de la interacción con las tarifas ofertadas.\n",
    "- realizamo uso de pruebas estadísticas que nos permitiera observar un panorama más real del comportamiento de los planes con los usuarios.\n"
   ]
  },
  {
   "cell_type": "markdown",
   "metadata": {},
   "source": [
    "<div class=\"alert alert-block alert-warning\">\n",
    "<b>Comentario del revisor (1ra Iteración)</b> <a class=“tocSkip”></a>\n",
    "\n",
    "Andrea solo estás indicando las etapas de tu proyecto, pero recuerda que un proyecto de análisis de datos, la conclusión busca resumir los hallazgos clave y su impacto en la toma de decisiones. Además de describir los pasos realizados en la limpieza y exploración de datos, se deben incluir los principales insights obtenidos del análisis y su relevancia en el contexto del problema. También es importante mencionar limitaciones del estudio y posibles mejoras para futuros análisis. En este caso, sería útil destacar cómo los gráficos y pruebas estadísticas ayudaron a comprender mejor el comportamiento de las tarifas y usuarios, y qué decisiones o recomendaciones se pueden derivar de estos resultados. Adicionalmente, no olvides dar respuesta a la pregutna inicial del proyecto:\n",
    "    \n",
    "\n",
    "    \"El departamento comercial quiere saber cuál de los planes genera más ingresos para poder ajustar el presupuesto de publicidad\"\n",
    "\n",
    "\n",
    "\n",
    "</div>"
   ]
  },
  {
   "cell_type": "markdown",
   "metadata": {},
   "source": [
    "# en ambas pruebas se rechaza la hipótesis nula, (existe una diferencia estadísticamente significativa entre los ingresos de los usuarios de Surf y Ultimate.\n",
    "# De acuerdo a los resultados propuestos para los ingresos de ambos planes observamos que los ingresos de los usuarios de ultimate son más altos y menos dispersos que los ingresos de los usuarios de Surf.\n",
    "# obervamos que utilizando los métodos y funciones adecuadas se estimo que le plan Ultimate obtuvo mayores ingresos que el plan Surf, ya que su consumo respecto al opositor evidentemente fue de mayor envergadura, con respecto a la media y varianza de las mismas.\n",
    "# Reconfirmamos que el plan ultimate tiene una mayor "
   ]
  },
  {
   "cell_type": "markdown",
   "metadata": {},
   "source": [
    "<div class=\"alert alert-block alert-success\">\n",
    "<b>Comentario del revisor (2da Iteración)</b> <a class=“tocSkip”></a>\n",
    "\n",
    "Perfecto Andrea, has usado la información obtenida para darle respuesta a la pregunta base del proyecto\n",
    "\n",
    "</div>"
   ]
  },
  {
   "cell_type": "code",
   "execution_count": null,
   "metadata": {},
   "outputs": [],
   "source": []
  }
 ],
 "metadata": {
  "ExecuteTimeLog": [
   {
    "duration": 828,
    "start_time": "2021-11-16T09:21:11.304Z"
   },
   {
    "duration": 893,
    "start_time": "2021-11-16T09:21:17.728Z"
   },
   {
    "duration": 1150,
    "start_time": "2021-11-16T09:21:29.568Z"
   },
   {
    "duration": 3,
    "start_time": "2021-11-16T09:24:14.495Z"
   },
   {
    "duration": 120,
    "start_time": "2021-11-16T09:24:46.630Z"
   },
   {
    "duration": 3,
    "start_time": "2021-11-16T09:28:27.882Z"
   },
   {
    "duration": 4,
    "start_time": "2021-11-16T09:29:54.281Z"
   },
   {
    "duration": 3,
    "start_time": "2021-11-16T09:30:45.936Z"
   },
   {
    "duration": 4,
    "start_time": "2021-11-16T09:31:06.300Z"
   },
   {
    "duration": 113,
    "start_time": "2021-11-16T09:31:37.208Z"
   },
   {
    "duration": 143,
    "start_time": "2021-11-16T09:31:48.656Z"
   },
   {
    "duration": 98,
    "start_time": "2021-11-16T09:31:55.678Z"
   },
   {
    "duration": 3,
    "start_time": "2021-11-16T09:32:08.535Z"
   },
   {
    "duration": 111,
    "start_time": "2021-11-16T09:32:10.120Z"
   },
   {
    "duration": 3,
    "start_time": "2021-11-16T09:32:15.732Z"
   },
   {
    "duration": 4,
    "start_time": "2021-11-16T09:32:29.423Z"
   },
   {
    "duration": 3,
    "start_time": "2021-11-16T10:03:03.074Z"
   },
   {
    "duration": 3,
    "start_time": "2021-11-16T10:10:01.288Z"
   },
   {
    "duration": 3,
    "start_time": "2021-11-16T10:10:46.923Z"
   },
   {
    "duration": 121,
    "start_time": "2021-11-16T10:37:46.494Z"
   },
   {
    "duration": 125,
    "start_time": "2021-11-16T10:38:20.632Z"
   },
   {
    "duration": 112,
    "start_time": "2021-11-16T10:46:53.001Z"
   },
   {
    "duration": 110,
    "start_time": "2021-11-16T10:48:25.775Z"
   },
   {
    "duration": 3,
    "start_time": "2021-11-16T10:50:18.720Z"
   },
   {
    "duration": 4,
    "start_time": "2021-11-16T10:50:37.649Z"
   },
   {
    "duration": 2,
    "start_time": "2021-11-16T10:50:51.884Z"
   },
   {
    "duration": 3,
    "start_time": "2021-11-16T10:51:56.237Z"
   },
   {
    "duration": 101,
    "start_time": "2021-11-16T10:53:13.791Z"
   },
   {
    "duration": 3,
    "start_time": "2021-11-16T10:55:59.186Z"
   },
   {
    "duration": 3,
    "start_time": "2021-11-16T10:56:10.751Z"
   },
   {
    "duration": 3,
    "start_time": "2021-11-16T10:56:49.038Z"
   },
   {
    "duration": 3,
    "start_time": "2021-11-16T10:56:49.174Z"
   },
   {
    "duration": 4,
    "start_time": "2021-11-16T10:56:49.414Z"
   },
   {
    "duration": 3,
    "start_time": "2021-11-16T10:56:49.680Z"
   },
   {
    "duration": 3,
    "start_time": "2021-11-16T10:56:50.370Z"
   },
   {
    "duration": 114,
    "start_time": "2021-11-16T10:59:34.518Z"
   },
   {
    "duration": 3,
    "start_time": "2021-11-16T11:01:41.201Z"
   },
   {
    "duration": 116,
    "start_time": "2021-11-16T11:01:48.754Z"
   },
   {
    "duration": 3,
    "start_time": "2021-11-16T11:02:16.685Z"
   },
   {
    "duration": 3,
    "start_time": "2021-11-16T11:02:19.479Z"
   },
   {
    "duration": 3,
    "start_time": "2021-11-16T11:02:47.067Z"
   },
   {
    "duration": 3,
    "start_time": "2021-11-16T11:02:49.353Z"
   },
   {
    "duration": 3,
    "start_time": "2021-11-16T11:03:07.835Z"
   },
   {
    "duration": 3,
    "start_time": "2021-11-16T11:03:07.953Z"
   },
   {
    "duration": 112,
    "start_time": "2021-11-16T11:07:52.072Z"
   },
   {
    "duration": 187,
    "start_time": "2021-11-16T11:09:23.468Z"
   },
   {
    "duration": 4,
    "start_time": "2021-11-16T11:10:01.455Z"
   },
   {
    "duration": 3,
    "start_time": "2021-11-16T11:10:05.069Z"
   },
   {
    "duration": 4,
    "start_time": "2021-11-16T11:10:13.376Z"
   },
   {
    "duration": 3,
    "start_time": "2021-11-16T11:10:14.434Z"
   },
   {
    "duration": 3,
    "start_time": "2021-11-16T11:10:22.853Z"
   },
   {
    "duration": 4,
    "start_time": "2021-11-16T11:27:29.279Z"
   },
   {
    "duration": 4,
    "start_time": "2021-11-16T11:29:08.919Z"
   },
   {
    "duration": 118,
    "start_time": "2021-11-16T11:29:46.703Z"
   },
   {
    "duration": 437,
    "start_time": "2021-11-16T11:36:02.181Z"
   },
   {
    "duration": 157,
    "start_time": "2021-11-16T11:36:14.388Z"
   },
   {
    "duration": 207,
    "start_time": "2021-11-16T11:47:15.898Z"
   },
   {
    "duration": 3,
    "start_time": "2021-11-16T11:53:52.092Z"
   },
   {
    "duration": 3,
    "start_time": "2021-11-16T11:53:52.236Z"
   },
   {
    "duration": 3,
    "start_time": "2021-11-16T11:59:12.005Z"
   },
   {
    "duration": 112,
    "start_time": "2021-11-16T12:00:33.446Z"
   },
   {
    "duration": 3,
    "start_time": "2021-11-16T12:02:14.453Z"
   },
   {
    "duration": 3,
    "start_time": "2021-11-16T12:02:39.512Z"
   },
   {
    "duration": 106,
    "start_time": "2021-11-16T12:03:03.460Z"
   },
   {
    "duration": 3,
    "start_time": "2021-11-17T20:37:21.139Z"
   },
   {
    "duration": 3,
    "start_time": "2021-11-17T20:37:22.229Z"
   },
   {
    "duration": 3,
    "start_time": "2021-11-17T20:38:38.806Z"
   },
   {
    "duration": 3,
    "start_time": "2021-11-17T20:38:41.958Z"
   },
   {
    "duration": 3,
    "start_time": "2021-11-17T20:43:46.551Z"
   },
   {
    "duration": 4,
    "start_time": "2021-11-17T20:58:21.835Z"
   },
   {
    "duration": 3,
    "start_time": "2021-11-17T20:59:21.872Z"
   },
   {
    "duration": 4,
    "start_time": "2021-11-17T20:59:45.352Z"
   },
   {
    "duration": 4,
    "start_time": "2021-11-17T20:59:49.646Z"
   },
   {
    "duration": 159,
    "start_time": "2021-11-17T21:02:26.949Z"
   },
   {
    "duration": 3,
    "start_time": "2021-11-17T21:03:53.461Z"
   },
   {
    "duration": 3,
    "start_time": "2021-11-17T21:03:53.694Z"
   },
   {
    "duration": 3,
    "start_time": "2021-11-17T21:05:28.145Z"
   },
   {
    "duration": 116,
    "start_time": "2021-11-17T21:05:57.787Z"
   },
   {
    "duration": 3,
    "start_time": "2021-11-17T21:06:37.993Z"
   },
   {
    "duration": 3,
    "start_time": "2021-11-17T21:06:38.261Z"
   },
   {
    "duration": 3,
    "start_time": "2021-11-17T21:11:54.358Z"
   },
   {
    "duration": 3,
    "start_time": "2021-11-17T21:12:43.846Z"
   },
   {
    "duration": 4,
    "start_time": "2021-11-17T21:13:08.773Z"
   },
   {
    "duration": 3,
    "start_time": "2021-11-17T21:14:44.441Z"
   },
   {
    "duration": 3,
    "start_time": "2021-11-17T21:15:42.059Z"
   },
   {
    "duration": 4,
    "start_time": "2021-11-17T21:15:51.995Z"
   },
   {
    "duration": 3,
    "start_time": "2021-11-17T21:15:53.923Z"
   },
   {
    "duration": 3,
    "start_time": "2021-11-17T21:15:55.282Z"
   },
   {
    "duration": 3,
    "start_time": "2021-11-17T21:16:28.492Z"
   },
   {
    "duration": 3,
    "start_time": "2021-11-17T21:16:32.603Z"
   },
   {
    "duration": 3,
    "start_time": "2021-11-17T21:17:06.941Z"
   },
   {
    "duration": 98,
    "start_time": "2021-11-17T21:18:05.733Z"
   },
   {
    "duration": 4,
    "start_time": "2021-11-17T21:21:35.255Z"
   },
   {
    "duration": 3,
    "start_time": "2021-11-17T21:21:37.804Z"
   },
   {
    "duration": 4,
    "start_time": "2021-11-17T21:23:06.071Z"
   },
   {
    "duration": 3,
    "start_time": "2021-11-17T21:23:24.799Z"
   },
   {
    "duration": 3,
    "start_time": "2021-11-17T21:23:32.591Z"
   },
   {
    "duration": 98,
    "start_time": "2021-11-17T21:28:31.559Z"
   },
   {
    "duration": 3,
    "start_time": "2021-11-17T21:28:45.448Z"
   },
   {
    "duration": 3,
    "start_time": "2021-11-17T21:29:17.303Z"
   },
   {
    "duration": 3,
    "start_time": "2021-11-17T21:29:29.617Z"
   },
   {
    "duration": 3,
    "start_time": "2021-11-17T21:29:32.681Z"
   },
   {
    "duration": 3,
    "start_time": "2021-11-17T21:36:11.474Z"
   },
   {
    "duration": 3,
    "start_time": "2021-11-17T21:36:14.791Z"
   },
   {
    "duration": 3,
    "start_time": "2021-11-17T21:36:53.943Z"
   },
   {
    "duration": 3,
    "start_time": "2021-11-17T21:36:56.165Z"
   },
   {
    "duration": 4,
    "start_time": "2021-11-17T21:37:16.590Z"
   },
   {
    "duration": 3,
    "start_time": "2021-11-17T21:37:22.702Z"
   },
   {
    "duration": 4,
    "start_time": "2021-11-17T21:38:03.479Z"
   },
   {
    "duration": 3,
    "start_time": "2021-11-17T21:38:08.601Z"
   },
   {
    "duration": 3,
    "start_time": "2021-11-17T21:38:12.928Z"
   },
   {
    "duration": 3,
    "start_time": "2021-11-17T21:38:48.896Z"
   },
   {
    "duration": 2,
    "start_time": "2021-11-17T21:38:49.171Z"
   },
   {
    "duration": 4,
    "start_time": "2021-11-17T21:39:57.889Z"
   },
   {
    "duration": 3,
    "start_time": "2021-11-17T21:39:58.057Z"
   },
   {
    "duration": 3,
    "start_time": "2021-11-17T21:41:20.108Z"
   },
   {
    "duration": 3,
    "start_time": "2021-11-17T21:41:20.629Z"
   },
   {
    "duration": 3,
    "start_time": "2021-11-17T21:42:49.136Z"
   },
   {
    "duration": 3,
    "start_time": "2021-11-17T21:43:15.137Z"
   },
   {
    "duration": 4,
    "start_time": "2021-11-17T21:43:16.766Z"
   },
   {
    "duration": 4,
    "start_time": "2021-11-17T21:43:31.711Z"
   },
   {
    "duration": 3,
    "start_time": "2021-11-17T21:43:36.312Z"
   },
   {
    "duration": 4,
    "start_time": "2021-11-17T21:45:08.825Z"
   },
   {
    "duration": 4,
    "start_time": "2021-11-17T21:45:10.119Z"
   },
   {
    "duration": 4,
    "start_time": "2021-11-17T21:45:13.748Z"
   },
   {
    "duration": 3,
    "start_time": "2021-11-17T21:45:22.219Z"
   },
   {
    "duration": 3,
    "start_time": "2021-11-17T21:45:33.412Z"
   },
   {
    "duration": 2,
    "start_time": "2021-11-17T21:46:01.885Z"
   },
   {
    "duration": 3,
    "start_time": "2021-11-17T21:46:03.628Z"
   },
   {
    "duration": 107,
    "start_time": "2021-11-17T21:47:32.512Z"
   },
   {
    "duration": 103,
    "start_time": "2021-11-17T21:50:36.243Z"
   },
   {
    "duration": 3,
    "start_time": "2021-11-18T06:28:31.440Z"
   },
   {
    "duration": 3,
    "start_time": "2021-11-18T06:29:00.168Z"
   },
   {
    "duration": 3,
    "start_time": "2021-11-18T06:31:27.008Z"
   },
   {
    "duration": 2,
    "start_time": "2021-11-18T06:35:34.288Z"
   },
   {
    "duration": 2,
    "start_time": "2021-11-18T06:38:04.527Z"
   },
   {
    "duration": 2,
    "start_time": "2025-02-25T17:48:04.738Z"
   },
   {
    "duration": 168,
    "start_time": "2025-02-26T18:46:11.773Z"
   },
   {
    "duration": 2,
    "start_time": "2025-02-26T18:46:12.097Z"
   },
   {
    "duration": 2,
    "start_time": "2025-02-26T18:47:52.555Z"
   },
   {
    "duration": 304,
    "start_time": "2025-02-26T18:48:03.461Z"
   },
   {
    "duration": 204,
    "start_time": "2025-02-26T18:48:04.322Z"
   },
   {
    "duration": 3,
    "start_time": "2025-02-26T18:49:00.163Z"
   },
   {
    "duration": 9,
    "start_time": "2025-02-26T18:49:09.728Z"
   },
   {
    "duration": 10,
    "start_time": "2025-02-26T18:49:41.691Z"
   },
   {
    "duration": 5,
    "start_time": "2025-02-26T18:51:14.745Z"
   },
   {
    "duration": 34,
    "start_time": "2025-02-26T18:52:23.965Z"
   },
   {
    "duration": 13,
    "start_time": "2025-02-26T18:52:29.947Z"
   },
   {
    "duration": 8,
    "start_time": "2025-02-26T18:55:36.523Z"
   },
   {
    "duration": 8,
    "start_time": "2025-02-26T18:55:53.637Z"
   },
   {
    "duration": 5,
    "start_time": "2025-02-26T18:59:57.321Z"
   },
   {
    "duration": 3,
    "start_time": "2025-02-26T19:00:52.541Z"
   },
   {
    "duration": 3,
    "start_time": "2025-02-26T19:04:21.547Z"
   },
   {
    "duration": 5,
    "start_time": "2025-02-26T19:04:58.480Z"
   },
   {
    "duration": 6,
    "start_time": "2025-02-26T19:05:18.084Z"
   },
   {
    "duration": 10,
    "start_time": "2025-02-26T19:08:04.540Z"
   },
   {
    "duration": 7,
    "start_time": "2025-02-26T19:08:18.139Z"
   },
   {
    "duration": 5,
    "start_time": "2025-02-26T19:08:21.451Z"
   },
   {
    "duration": 3,
    "start_time": "2025-02-26T19:08:21.672Z"
   },
   {
    "duration": 7,
    "start_time": "2025-02-26T19:11:05.202Z"
   },
   {
    "duration": 9,
    "start_time": "2025-02-26T19:11:22.031Z"
   },
   {
    "duration": 16,
    "start_time": "2025-02-26T19:13:01.820Z"
   },
   {
    "duration": 7,
    "start_time": "2025-02-26T19:13:29.811Z"
   },
   {
    "duration": 12,
    "start_time": "2025-02-26T19:16:32.307Z"
   },
   {
    "duration": 31,
    "start_time": "2025-02-26T19:16:48.387Z"
   },
   {
    "duration": 16,
    "start_time": "2025-02-26T19:18:14.396Z"
   },
   {
    "duration": 22,
    "start_time": "2025-02-26T19:21:17.257Z"
   },
   {
    "duration": 12,
    "start_time": "2025-02-26T19:21:37.813Z"
   },
   {
    "duration": 6,
    "start_time": "2025-02-26T19:22:03.097Z"
   },
   {
    "duration": 23,
    "start_time": "2025-02-26T19:23:38.018Z"
   },
   {
    "duration": 23,
    "start_time": "2025-02-26T19:25:32.408Z"
   },
   {
    "duration": 17,
    "start_time": "2025-02-26T19:25:49.648Z"
   },
   {
    "duration": 16,
    "start_time": "2025-02-26T19:26:18.900Z"
   },
   {
    "duration": 6,
    "start_time": "2025-02-26T19:26:28.267Z"
   },
   {
    "duration": 7,
    "start_time": "2025-02-26T19:27:19.055Z"
   },
   {
    "duration": 25,
    "start_time": "2025-02-26T19:28:19.681Z"
   },
   {
    "duration": 19,
    "start_time": "2025-02-26T19:28:38.387Z"
   },
   {
    "duration": 18,
    "start_time": "2025-02-26T19:29:02.573Z"
   },
   {
    "duration": 31,
    "start_time": "2025-02-26T19:29:22.342Z"
   },
   {
    "duration": 44,
    "start_time": "2025-02-26T19:29:26.720Z"
   },
   {
    "duration": 7,
    "start_time": "2025-02-26T19:29:48.884Z"
   },
   {
    "duration": 329,
    "start_time": "2025-02-26T22:29:38.039Z"
   },
   {
    "duration": 219,
    "start_time": "2025-02-26T22:29:38.375Z"
   },
   {
    "duration": 11,
    "start_time": "2025-02-26T22:29:39.006Z"
   },
   {
    "duration": 12,
    "start_time": "2025-02-26T22:29:39.160Z"
   },
   {
    "duration": 6,
    "start_time": "2025-02-26T22:29:39.975Z"
   },
   {
    "duration": 5,
    "start_time": "2025-02-26T22:29:40.147Z"
   },
   {
    "duration": 9,
    "start_time": "2025-02-26T22:29:41.395Z"
   },
   {
    "duration": 8,
    "start_time": "2025-02-26T22:29:41.549Z"
   },
   {
    "duration": 6,
    "start_time": "2025-02-26T22:29:42.452Z"
   },
   {
    "duration": 2,
    "start_time": "2025-02-26T22:29:42.654Z"
   },
   {
    "duration": 5,
    "start_time": "2025-02-26T22:29:42.977Z"
   },
   {
    "duration": 6,
    "start_time": "2025-02-26T22:29:43.409Z"
   },
   {
    "duration": 7,
    "start_time": "2025-02-26T22:29:46.276Z"
   },
   {
    "duration": 10,
    "start_time": "2025-02-26T22:29:46.438Z"
   },
   {
    "duration": 16,
    "start_time": "2025-02-26T22:29:48.616Z"
   },
   {
    "duration": 7,
    "start_time": "2025-02-26T22:29:49.416Z"
   },
   {
    "duration": 13,
    "start_time": "2025-02-26T22:29:53.736Z"
   },
   {
    "duration": 30,
    "start_time": "2025-02-26T22:29:53.975Z"
   },
   {
    "duration": 26,
    "start_time": "2025-02-26T22:29:54.832Z"
   },
   {
    "duration": 13,
    "start_time": "2025-02-26T22:29:55.229Z"
   },
   {
    "duration": 6,
    "start_time": "2025-02-26T22:29:56.004Z"
   },
   {
    "duration": 17,
    "start_time": "2025-02-26T22:29:58.849Z"
   },
   {
    "duration": 17,
    "start_time": "2025-02-26T22:30:00.851Z"
   },
   {
    "duration": 13,
    "start_time": "2025-02-26T22:30:01.241Z"
   },
   {
    "duration": 8,
    "start_time": "2025-02-26T22:30:01.460Z"
   },
   {
    "duration": 35,
    "start_time": "2025-02-26T22:30:06.401Z"
   },
   {
    "duration": 21,
    "start_time": "2025-02-26T22:30:09.167Z"
   },
   {
    "duration": 8,
    "start_time": "2025-02-27T02:14:39.375Z"
   },
   {
    "duration": 509,
    "start_time": "2025-02-27T02:30:00.795Z"
   },
   {
    "duration": 39,
    "start_time": "2025-02-27T02:30:23.355Z"
   },
   {
    "duration": 40,
    "start_time": "2025-02-27T02:30:33.178Z"
   },
   {
    "duration": 39,
    "start_time": "2025-02-27T02:31:04.340Z"
   },
   {
    "duration": 17,
    "start_time": "2025-02-27T02:33:59.033Z"
   },
   {
    "duration": 3,
    "start_time": "2025-02-27T02:37:55.451Z"
   },
   {
    "duration": 20,
    "start_time": "2025-02-27T02:37:58.060Z"
   },
   {
    "duration": 11,
    "start_time": "2025-02-27T02:37:58.426Z"
   },
   {
    "duration": 6,
    "start_time": "2025-02-27T02:38:11.980Z"
   },
   {
    "duration": 15,
    "start_time": "2025-02-27T02:38:12.833Z"
   },
   {
    "duration": 65,
    "start_time": "2025-02-27T02:38:13.471Z"
   },
   {
    "duration": 14,
    "start_time": "2025-02-27T02:38:13.825Z"
   },
   {
    "duration": 7,
    "start_time": "2025-02-27T02:38:14.382Z"
   },
   {
    "duration": 32,
    "start_time": "2025-02-27T02:38:16.447Z"
   },
   {
    "duration": 19,
    "start_time": "2025-02-27T02:38:17.426Z"
   },
   {
    "duration": 10,
    "start_time": "2025-02-27T02:38:17.838Z"
   },
   {
    "duration": 43,
    "start_time": "2025-02-27T02:38:18.193Z"
   },
   {
    "duration": 17,
    "start_time": "2025-02-27T02:38:20.581Z"
   },
   {
    "duration": 21,
    "start_time": "2025-02-27T02:44:18.215Z"
   },
   {
    "duration": 24,
    "start_time": "2025-02-27T02:55:32.209Z"
   },
   {
    "duration": 197,
    "start_time": "2025-02-27T02:55:50.672Z"
   },
   {
    "duration": 22,
    "start_time": "2025-02-27T02:56:55.397Z"
   },
   {
    "duration": 4,
    "start_time": "2025-02-27T02:59:33.319Z"
   },
   {
    "duration": 20,
    "start_time": "2025-02-27T02:59:36.056Z"
   },
   {
    "duration": 9,
    "start_time": "2025-02-27T02:59:36.562Z"
   },
   {
    "duration": 42,
    "start_time": "2025-02-27T02:59:37.018Z"
   },
   {
    "duration": 19,
    "start_time": "2025-02-27T02:59:37.232Z"
   },
   {
    "duration": 20,
    "start_time": "2025-02-27T02:59:37.268Z"
   },
   {
    "duration": 23,
    "start_time": "2025-02-27T02:59:37.440Z"
   },
   {
    "duration": 5,
    "start_time": "2025-02-27T02:59:37.814Z"
   },
   {
    "duration": 14,
    "start_time": "2025-02-27T03:08:46.952Z"
   },
   {
    "duration": 14,
    "start_time": "2025-02-27T03:09:45.118Z"
   },
   {
    "duration": 2,
    "start_time": "2025-02-27T03:11:30.560Z"
   },
   {
    "duration": 158,
    "start_time": "2025-02-27T03:11:30.861Z"
   },
   {
    "duration": 9,
    "start_time": "2025-02-27T03:11:31.510Z"
   },
   {
    "duration": 7,
    "start_time": "2025-02-27T03:11:31.673Z"
   },
   {
    "duration": 5,
    "start_time": "2025-02-27T03:11:32.468Z"
   },
   {
    "duration": 5,
    "start_time": "2025-02-27T03:11:32.628Z"
   },
   {
    "duration": 9,
    "start_time": "2025-02-27T03:11:33.660Z"
   },
   {
    "duration": 9,
    "start_time": "2025-02-27T03:11:33.821Z"
   },
   {
    "duration": 6,
    "start_time": "2025-02-27T03:11:34.648Z"
   },
   {
    "duration": 3,
    "start_time": "2025-02-27T03:11:34.816Z"
   },
   {
    "duration": 5,
    "start_time": "2025-02-27T03:11:34.985Z"
   },
   {
    "duration": 6,
    "start_time": "2025-02-27T03:11:35.170Z"
   },
   {
    "duration": 6,
    "start_time": "2025-02-27T03:11:35.918Z"
   },
   {
    "duration": 9,
    "start_time": "2025-02-27T03:11:36.620Z"
   },
   {
    "duration": 15,
    "start_time": "2025-02-27T03:11:37.113Z"
   },
   {
    "duration": 7,
    "start_time": "2025-02-27T03:11:37.283Z"
   },
   {
    "duration": 13,
    "start_time": "2025-02-27T03:11:38.114Z"
   },
   {
    "duration": 32,
    "start_time": "2025-02-27T03:11:38.539Z"
   },
   {
    "duration": 3,
    "start_time": "2025-02-27T03:11:38.892Z"
   },
   {
    "duration": 29,
    "start_time": "2025-02-27T03:11:40.795Z"
   },
   {
    "duration": 12,
    "start_time": "2025-02-27T03:11:42.215Z"
   },
   {
    "duration": 8,
    "start_time": "2025-02-27T03:11:42.961Z"
   },
   {
    "duration": 16,
    "start_time": "2025-02-27T03:11:44.879Z"
   },
   {
    "duration": 17,
    "start_time": "2025-02-27T03:11:46.778Z"
   },
   {
    "duration": 13,
    "start_time": "2025-02-27T03:11:48.727Z"
   },
   {
    "duration": 7,
    "start_time": "2025-02-27T03:11:49.825Z"
   },
   {
    "duration": 36,
    "start_time": "2025-02-27T03:11:52.335Z"
   },
   {
    "duration": 4,
    "start_time": "2025-02-27T03:11:53.378Z"
   },
   {
    "duration": 19,
    "start_time": "2025-02-27T03:11:54.828Z"
   },
   {
    "duration": 8,
    "start_time": "2025-02-27T03:11:57.085Z"
   },
   {
    "duration": 90,
    "start_time": "2025-02-27T03:11:59.036Z"
   },
   {
    "duration": 15,
    "start_time": "2025-02-27T03:11:59.889Z"
   },
   {
    "duration": 18,
    "start_time": "2025-02-27T03:12:00.442Z"
   },
   {
    "duration": 21,
    "start_time": "2025-02-27T03:12:01.145Z"
   },
   {
    "duration": 14,
    "start_time": "2025-02-27T03:12:02.144Z"
   },
   {
    "duration": 20,
    "start_time": "2025-02-27T03:15:35.780Z"
   },
   {
    "duration": 16,
    "start_time": "2025-02-27T03:16:13.628Z"
   },
   {
    "duration": 17,
    "start_time": "2025-02-27T03:23:19.421Z"
   },
   {
    "duration": 18,
    "start_time": "2025-02-27T03:23:48.225Z"
   },
   {
    "duration": 15,
    "start_time": "2025-02-27T03:24:17.542Z"
   },
   {
    "duration": 25,
    "start_time": "2025-02-27T03:37:55.291Z"
   },
   {
    "duration": 155,
    "start_time": "2025-02-27T03:38:26.430Z"
   },
   {
    "duration": 8,
    "start_time": "2025-02-27T03:38:32.711Z"
   },
   {
    "duration": 6,
    "start_time": "2025-02-27T03:38:44.849Z"
   },
   {
    "duration": 8,
    "start_time": "2025-02-27T03:38:45.757Z"
   },
   {
    "duration": 4,
    "start_time": "2025-02-27T03:38:49.667Z"
   },
   {
    "duration": 9,
    "start_time": "2025-02-27T03:38:54.890Z"
   },
   {
    "duration": 9,
    "start_time": "2025-02-27T03:38:55.408Z"
   },
   {
    "duration": 6,
    "start_time": "2025-02-27T03:38:56.507Z"
   },
   {
    "duration": 21,
    "start_time": "2025-02-27T03:39:07.221Z"
   },
   {
    "duration": 114,
    "start_time": "2025-02-27T03:39:32.537Z"
   },
   {
    "duration": 24,
    "start_time": "2025-02-27T03:41:42.204Z"
   },
   {
    "duration": 21,
    "start_time": "2025-02-27T03:42:50.630Z"
   },
   {
    "duration": 15,
    "start_time": "2025-02-27T03:48:13.570Z"
   },
   {
    "duration": 9,
    "start_time": "2025-02-27T03:48:21.931Z"
   },
   {
    "duration": 18,
    "start_time": "2025-02-27T03:48:37.023Z"
   },
   {
    "duration": 2,
    "start_time": "2025-02-27T03:49:09.613Z"
   },
   {
    "duration": 159,
    "start_time": "2025-02-27T03:49:10.562Z"
   },
   {
    "duration": 10,
    "start_time": "2025-02-27T03:49:12.471Z"
   },
   {
    "duration": 7,
    "start_time": "2025-02-27T03:50:56.889Z"
   },
   {
    "duration": 5,
    "start_time": "2025-02-27T03:50:57.742Z"
   },
   {
    "duration": 4,
    "start_time": "2025-02-27T03:50:57.906Z"
   },
   {
    "duration": 9,
    "start_time": "2025-02-27T03:50:58.994Z"
   },
   {
    "duration": 9,
    "start_time": "2025-02-27T03:50:59.161Z"
   },
   {
    "duration": 6,
    "start_time": "2025-02-27T03:51:00.098Z"
   },
   {
    "duration": 3,
    "start_time": "2025-02-27T03:51:00.288Z"
   },
   {
    "duration": 6,
    "start_time": "2025-02-27T03:51:00.515Z"
   },
   {
    "duration": 5,
    "start_time": "2025-02-27T03:51:00.708Z"
   },
   {
    "duration": 6,
    "start_time": "2025-02-27T03:51:01.487Z"
   },
   {
    "duration": 10,
    "start_time": "2025-02-27T03:51:01.671Z"
   },
   {
    "duration": 15,
    "start_time": "2025-02-27T03:51:02.204Z"
   },
   {
    "duration": 7,
    "start_time": "2025-02-27T03:51:02.389Z"
   },
   {
    "duration": 15,
    "start_time": "2025-02-27T03:51:03.286Z"
   },
   {
    "duration": 31,
    "start_time": "2025-02-27T03:51:03.453Z"
   },
   {
    "duration": 3,
    "start_time": "2025-02-27T03:51:03.629Z"
   },
   {
    "duration": 24,
    "start_time": "2025-02-27T03:51:04.167Z"
   },
   {
    "duration": 16,
    "start_time": "2025-02-27T03:51:04.514Z"
   },
   {
    "duration": 6,
    "start_time": "2025-02-27T03:51:04.697Z"
   },
   {
    "duration": 15,
    "start_time": "2025-02-27T03:51:05.527Z"
   },
   {
    "duration": 17,
    "start_time": "2025-02-27T03:51:06.170Z"
   },
   {
    "duration": 16,
    "start_time": "2025-02-27T03:51:06.464Z"
   },
   {
    "duration": 8,
    "start_time": "2025-02-27T03:51:06.605Z"
   },
   {
    "duration": 35,
    "start_time": "2025-02-27T03:51:07.355Z"
   },
   {
    "duration": 4,
    "start_time": "2025-02-27T03:51:07.509Z"
   },
   {
    "duration": 22,
    "start_time": "2025-02-27T03:51:08.384Z"
   },
   {
    "duration": 9,
    "start_time": "2025-02-27T03:51:08.923Z"
   },
   {
    "duration": 40,
    "start_time": "2025-02-27T03:51:09.245Z"
   },
   {
    "duration": 17,
    "start_time": "2025-02-27T03:51:09.429Z"
   },
   {
    "duration": 22,
    "start_time": "2025-02-27T03:51:09.605Z"
   },
   {
    "duration": 25,
    "start_time": "2025-02-27T03:51:09.799Z"
   },
   {
    "duration": 14,
    "start_time": "2025-02-27T03:51:10.172Z"
   },
   {
    "duration": 21,
    "start_time": "2025-02-27T03:51:10.359Z"
   },
   {
    "duration": 3,
    "start_time": "2025-02-27T03:51:10.739Z"
   },
   {
    "duration": 330,
    "start_time": "2025-02-27T13:37:03.827Z"
   },
   {
    "duration": 233,
    "start_time": "2025-02-27T13:37:04.159Z"
   },
   {
    "duration": 10,
    "start_time": "2025-02-27T13:37:04.809Z"
   },
   {
    "duration": 178,
    "start_time": "2025-02-27T13:37:04.975Z"
   },
   {
    "duration": 6,
    "start_time": "2025-02-27T13:37:05.765Z"
   },
   {
    "duration": 6,
    "start_time": "2025-02-27T13:37:05.938Z"
   },
   {
    "duration": 9,
    "start_time": "2025-02-27T13:37:06.986Z"
   },
   {
    "duration": 12,
    "start_time": "2025-02-27T13:37:07.169Z"
   },
   {
    "duration": 5,
    "start_time": "2025-02-27T13:37:08.054Z"
   },
   {
    "duration": 4,
    "start_time": "2025-02-27T13:37:08.234Z"
   },
   {
    "duration": 7,
    "start_time": "2025-02-27T13:37:08.421Z"
   },
   {
    "duration": 6,
    "start_time": "2025-02-27T13:37:08.573Z"
   },
   {
    "duration": 7,
    "start_time": "2025-02-27T13:37:09.234Z"
   },
   {
    "duration": 8,
    "start_time": "2025-02-27T13:37:09.405Z"
   },
   {
    "duration": 16,
    "start_time": "2025-02-27T13:37:09.976Z"
   },
   {
    "duration": 7,
    "start_time": "2025-02-27T13:37:10.075Z"
   },
   {
    "duration": 12,
    "start_time": "2025-02-27T13:37:10.907Z"
   },
   {
    "duration": 32,
    "start_time": "2025-02-27T13:37:11.066Z"
   },
   {
    "duration": 4,
    "start_time": "2025-02-27T13:37:11.233Z"
   },
   {
    "duration": 28,
    "start_time": "2025-02-27T13:37:11.754Z"
   },
   {
    "duration": 13,
    "start_time": "2025-02-27T13:37:12.118Z"
   },
   {
    "duration": 7,
    "start_time": "2025-02-27T13:37:12.271Z"
   },
   {
    "duration": 16,
    "start_time": "2025-02-27T13:37:13.101Z"
   },
   {
    "duration": 18,
    "start_time": "2025-02-27T13:37:13.794Z"
   },
   {
    "duration": 15,
    "start_time": "2025-02-27T13:37:14.119Z"
   },
   {
    "duration": 7,
    "start_time": "2025-02-27T13:37:14.289Z"
   },
   {
    "duration": 36,
    "start_time": "2025-02-27T13:37:15.166Z"
   },
   {
    "duration": 4,
    "start_time": "2025-02-27T13:37:15.348Z"
   },
   {
    "duration": 21,
    "start_time": "2025-02-27T13:37:15.852Z"
   },
   {
    "duration": 14,
    "start_time": "2025-02-27T13:37:16.362Z"
   },
   {
    "duration": 48,
    "start_time": "2025-02-27T13:37:16.726Z"
   },
   {
    "duration": 17,
    "start_time": "2025-02-27T13:37:16.909Z"
   },
   {
    "duration": 21,
    "start_time": "2025-02-27T13:37:17.097Z"
   },
   {
    "duration": 28,
    "start_time": "2025-02-27T13:37:17.274Z"
   },
   {
    "duration": 15,
    "start_time": "2025-02-27T13:37:17.624Z"
   },
   {
    "duration": 21,
    "start_time": "2025-02-27T13:37:17.794Z"
   },
   {
    "duration": 2,
    "start_time": "2025-02-27T13:37:18.147Z"
   },
   {
    "duration": 2,
    "start_time": "2025-02-27T13:37:18.914Z"
   },
   {
    "duration": 2,
    "start_time": "2025-02-27T13:37:19.777Z"
   },
   {
    "duration": 440,
    "start_time": "2025-02-27T14:14:40.249Z"
   },
   {
    "duration": 4,
    "start_time": "2025-02-27T14:20:01.120Z"
   },
   {
    "duration": 42,
    "start_time": "2025-02-27T14:21:34.735Z"
   },
   {
    "duration": 3,
    "start_time": "2025-02-27T14:22:34.888Z"
   },
   {
    "duration": 7,
    "start_time": "2025-02-27T15:17:00.411Z"
   },
   {
    "duration": 41,
    "start_time": "2025-02-27T15:17:01.218Z"
   },
   {
    "duration": 17,
    "start_time": "2025-02-27T15:17:01.386Z"
   },
   {
    "duration": 21,
    "start_time": "2025-02-27T15:17:01.554Z"
   },
   {
    "duration": 22,
    "start_time": "2025-02-27T15:17:01.696Z"
   },
   {
    "duration": 22,
    "start_time": "2025-02-27T15:18:14.463Z"
   },
   {
    "duration": 3,
    "start_time": "2025-02-27T15:37:34.022Z"
   },
   {
    "duration": 161,
    "start_time": "2025-02-27T15:37:34.420Z"
   },
   {
    "duration": 11,
    "start_time": "2025-02-27T15:37:35.179Z"
   },
   {
    "duration": 12,
    "start_time": "2025-02-27T15:37:35.406Z"
   },
   {
    "duration": 8,
    "start_time": "2025-02-27T15:37:45.120Z"
   },
   {
    "duration": 5,
    "start_time": "2025-02-27T15:37:47.081Z"
   },
   {
    "duration": 5,
    "start_time": "2025-02-27T15:37:47.331Z"
   },
   {
    "duration": 9,
    "start_time": "2025-02-27T15:37:48.734Z"
   },
   {
    "duration": 8,
    "start_time": "2025-02-27T15:37:48.978Z"
   },
   {
    "duration": 6,
    "start_time": "2025-02-27T15:37:50.425Z"
   },
   {
    "duration": 3,
    "start_time": "2025-02-27T15:37:50.717Z"
   },
   {
    "duration": 4,
    "start_time": "2025-02-27T15:37:51.025Z"
   },
   {
    "duration": 5,
    "start_time": "2025-02-27T15:37:51.457Z"
   },
   {
    "duration": 5,
    "start_time": "2025-02-27T15:37:53.382Z"
   },
   {
    "duration": 9,
    "start_time": "2025-02-27T15:37:53.735Z"
   },
   {
    "duration": 16,
    "start_time": "2025-02-27T15:37:54.239Z"
   },
   {
    "duration": 6,
    "start_time": "2025-02-27T15:37:54.470Z"
   },
   {
    "duration": 13,
    "start_time": "2025-02-27T15:37:55.839Z"
   },
   {
    "duration": 28,
    "start_time": "2025-02-27T15:37:56.073Z"
   },
   {
    "duration": 3,
    "start_time": "2025-02-27T15:37:56.294Z"
   },
   {
    "duration": 25,
    "start_time": "2025-02-27T15:37:57.012Z"
   },
   {
    "duration": 15,
    "start_time": "2025-02-27T15:37:57.510Z"
   },
   {
    "duration": 7,
    "start_time": "2025-02-27T15:37:57.778Z"
   },
   {
    "duration": 16,
    "start_time": "2025-02-27T15:37:59.016Z"
   },
   {
    "duration": 17,
    "start_time": "2025-02-27T15:37:59.779Z"
   },
   {
    "duration": 13,
    "start_time": "2025-02-27T15:38:00.143Z"
   },
   {
    "duration": 7,
    "start_time": "2025-02-27T15:38:00.330Z"
   },
   {
    "duration": 37,
    "start_time": "2025-02-27T15:38:01.410Z"
   },
   {
    "duration": 3,
    "start_time": "2025-02-27T15:38:01.874Z"
   },
   {
    "duration": 21,
    "start_time": "2025-02-27T15:38:02.685Z"
   },
   {
    "duration": 9,
    "start_time": "2025-02-27T15:38:04.162Z"
   },
   {
    "duration": 91,
    "start_time": "2025-02-27T15:38:05.656Z"
   },
   {
    "duration": 17,
    "start_time": "2025-02-27T15:38:06.043Z"
   },
   {
    "duration": 20,
    "start_time": "2025-02-27T15:38:06.414Z"
   },
   {
    "duration": 22,
    "start_time": "2025-02-27T15:38:07.553Z"
   },
   {
    "duration": 14,
    "start_time": "2025-02-27T15:38:08.750Z"
   },
   {
    "duration": 19,
    "start_time": "2025-02-27T15:38:09.170Z"
   },
   {
    "duration": 51,
    "start_time": "2025-02-27T15:38:59.481Z"
   },
   {
    "duration": 3,
    "start_time": "2025-02-27T15:52:06.176Z"
   },
   {
    "duration": 173,
    "start_time": "2025-02-27T15:52:06.504Z"
   },
   {
    "duration": 9,
    "start_time": "2025-02-27T15:52:10.984Z"
   },
   {
    "duration": 7,
    "start_time": "2025-02-27T15:52:13.294Z"
   },
   {
    "duration": 6,
    "start_time": "2025-02-27T15:52:15.348Z"
   },
   {
    "duration": 5,
    "start_time": "2025-02-27T15:52:17.732Z"
   },
   {
    "duration": 44,
    "start_time": "2025-02-27T16:17:40.222Z"
   },
   {
    "duration": 73,
    "start_time": "2025-02-27T16:20:59.981Z"
   },
   {
    "duration": 15,
    "start_time": "2025-02-27T16:21:36.343Z"
   },
   {
    "duration": 18,
    "start_time": "2025-02-27T16:46:37.793Z"
   },
   {
    "duration": 17,
    "start_time": "2025-02-27T17:17:02.211Z"
   },
   {
    "duration": 18,
    "start_time": "2025-02-27T17:23:03.487Z"
   },
   {
    "duration": 20,
    "start_time": "2025-02-27T17:24:40.357Z"
   },
   {
    "duration": 16,
    "start_time": "2025-02-27T17:33:58.588Z"
   },
   {
    "duration": 20,
    "start_time": "2025-02-27T17:34:22.008Z"
   },
   {
    "duration": 134,
    "start_time": "2025-02-27T17:34:40.483Z"
   },
   {
    "duration": 44,
    "start_time": "2025-02-27T17:39:50.444Z"
   },
   {
    "duration": 43,
    "start_time": "2025-02-27T17:40:10.421Z"
   },
   {
    "duration": 48,
    "start_time": "2025-02-27T17:40:38.372Z"
   },
   {
    "duration": 439,
    "start_time": "2025-02-27T17:43:57.642Z"
   },
   {
    "duration": 35,
    "start_time": "2025-02-27T17:44:09.893Z"
   },
   {
    "duration": 62,
    "start_time": "2025-02-27T17:46:10.323Z"
   },
   {
    "duration": 57,
    "start_time": "2025-02-27T17:51:29.213Z"
   },
   {
    "duration": 34,
    "start_time": "2025-02-27T17:51:46.893Z"
   },
   {
    "duration": 25,
    "start_time": "2025-02-27T17:54:12.349Z"
   },
   {
    "duration": 14,
    "start_time": "2025-02-27T17:54:54.970Z"
   },
   {
    "duration": 68,
    "start_time": "2025-02-27T17:56:35.834Z"
   },
   {
    "duration": 31,
    "start_time": "2025-02-27T17:57:24.070Z"
   },
   {
    "duration": 26,
    "start_time": "2025-02-27T18:02:09.524Z"
   },
   {
    "duration": 2,
    "start_time": "2025-02-27T18:03:03.698Z"
   },
   {
    "duration": 160,
    "start_time": "2025-02-27T18:03:03.963Z"
   },
   {
    "duration": 9,
    "start_time": "2025-02-27T18:03:04.552Z"
   },
   {
    "duration": 8,
    "start_time": "2025-02-27T18:03:04.699Z"
   },
   {
    "duration": 5,
    "start_time": "2025-02-27T18:03:05.459Z"
   },
   {
    "duration": 5,
    "start_time": "2025-02-27T18:03:05.626Z"
   },
   {
    "duration": 11,
    "start_time": "2025-02-27T18:03:06.530Z"
   },
   {
    "duration": 9,
    "start_time": "2025-02-27T18:03:06.684Z"
   },
   {
    "duration": 5,
    "start_time": "2025-02-27T18:03:07.444Z"
   },
   {
    "duration": 9,
    "start_time": "2025-02-27T18:03:07.606Z"
   },
   {
    "duration": 5,
    "start_time": "2025-02-27T18:03:07.771Z"
   },
   {
    "duration": 5,
    "start_time": "2025-02-27T18:03:07.929Z"
   },
   {
    "duration": 6,
    "start_time": "2025-02-27T18:03:08.575Z"
   },
   {
    "duration": 10,
    "start_time": "2025-02-27T18:03:08.741Z"
   },
   {
    "duration": 15,
    "start_time": "2025-02-27T18:03:09.244Z"
   },
   {
    "duration": 7,
    "start_time": "2025-02-27T18:03:09.419Z"
   },
   {
    "duration": 12,
    "start_time": "2025-02-27T18:03:10.253Z"
   },
   {
    "duration": 28,
    "start_time": "2025-02-27T18:03:10.436Z"
   },
   {
    "duration": 3,
    "start_time": "2025-02-27T18:03:10.598Z"
   },
   {
    "duration": 23,
    "start_time": "2025-02-27T18:03:11.099Z"
   },
   {
    "duration": 12,
    "start_time": "2025-02-27T18:03:11.442Z"
   },
   {
    "duration": 6,
    "start_time": "2025-02-27T18:03:11.612Z"
   },
   {
    "duration": 16,
    "start_time": "2025-02-27T18:03:12.619Z"
   },
   {
    "duration": 17,
    "start_time": "2025-02-27T18:03:13.282Z"
   },
   {
    "duration": 14,
    "start_time": "2025-02-27T18:03:13.612Z"
   },
   {
    "duration": 7,
    "start_time": "2025-02-27T18:03:13.786Z"
   },
   {
    "duration": 38,
    "start_time": "2025-02-27T18:03:14.565Z"
   },
   {
    "duration": 3,
    "start_time": "2025-02-27T18:03:14.730Z"
   },
   {
    "duration": 20,
    "start_time": "2025-02-27T18:03:15.202Z"
   },
   {
    "duration": 8,
    "start_time": "2025-02-27T18:03:15.687Z"
   },
   {
    "duration": 32,
    "start_time": "2025-02-27T18:03:16.120Z"
   },
   {
    "duration": 14,
    "start_time": "2025-02-27T18:03:16.337Z"
   },
   {
    "duration": 16,
    "start_time": "2025-02-27T18:03:20.208Z"
   },
   {
    "duration": 21,
    "start_time": "2025-02-27T18:03:35.336Z"
   },
   {
    "duration": 22,
    "start_time": "2025-02-27T18:03:37.987Z"
   },
   {
    "duration": 26,
    "start_time": "2025-02-27T18:06:27.194Z"
   },
   {
    "duration": 16,
    "start_time": "2025-02-27T18:06:52.951Z"
   },
   {
    "duration": 3,
    "start_time": "2025-02-27T18:08:07.116Z"
   },
   {
    "duration": 155,
    "start_time": "2025-02-27T18:08:07.734Z"
   },
   {
    "duration": 10,
    "start_time": "2025-02-27T18:08:08.559Z"
   },
   {
    "duration": 8,
    "start_time": "2025-02-27T18:08:08.741Z"
   },
   {
    "duration": 5,
    "start_time": "2025-02-27T18:08:09.449Z"
   },
   {
    "duration": 5,
    "start_time": "2025-02-27T18:08:09.588Z"
   },
   {
    "duration": 8,
    "start_time": "2025-02-27T18:08:10.489Z"
   },
   {
    "duration": 9,
    "start_time": "2025-02-27T18:08:10.632Z"
   },
   {
    "duration": 5,
    "start_time": "2025-02-27T18:08:11.408Z"
   },
   {
    "duration": 2,
    "start_time": "2025-02-27T18:08:11.564Z"
   },
   {
    "duration": 6,
    "start_time": "2025-02-27T18:08:11.730Z"
   },
   {
    "duration": 6,
    "start_time": "2025-02-27T18:08:11.885Z"
   },
   {
    "duration": 6,
    "start_time": "2025-02-27T18:08:12.551Z"
   },
   {
    "duration": 9,
    "start_time": "2025-02-27T18:08:12.686Z"
   },
   {
    "duration": 17,
    "start_time": "2025-02-27T18:08:13.158Z"
   },
   {
    "duration": 7,
    "start_time": "2025-02-27T18:08:13.330Z"
   },
   {
    "duration": 13,
    "start_time": "2025-02-27T18:08:14.217Z"
   },
   {
    "duration": 26,
    "start_time": "2025-02-27T18:08:14.381Z"
   },
   {
    "duration": 3,
    "start_time": "2025-02-27T18:08:14.548Z"
   },
   {
    "duration": 25,
    "start_time": "2025-02-27T18:08:15.082Z"
   },
   {
    "duration": 12,
    "start_time": "2025-02-27T18:08:15.420Z"
   },
   {
    "duration": 6,
    "start_time": "2025-02-27T18:08:15.576Z"
   },
   {
    "duration": 15,
    "start_time": "2025-02-27T18:08:16.531Z"
   },
   {
    "duration": 23,
    "start_time": "2025-02-27T18:08:17.223Z"
   },
   {
    "duration": 16,
    "start_time": "2025-02-27T18:08:17.609Z"
   },
   {
    "duration": 6,
    "start_time": "2025-02-27T18:08:17.795Z"
   },
   {
    "duration": 32,
    "start_time": "2025-02-27T18:08:19.670Z"
   },
   {
    "duration": 3,
    "start_time": "2025-02-27T18:08:19.856Z"
   },
   {
    "duration": 20,
    "start_time": "2025-02-27T18:08:20.592Z"
   },
   {
    "duration": 8,
    "start_time": "2025-02-27T18:08:21.297Z"
   },
   {
    "duration": 112,
    "start_time": "2025-02-27T18:08:22.054Z"
   },
   {
    "duration": 15,
    "start_time": "2025-02-27T18:08:22.319Z"
   },
   {
    "duration": 15,
    "start_time": "2025-02-27T18:08:22.917Z"
   },
   {
    "duration": 20,
    "start_time": "2025-02-27T18:08:23.310Z"
   },
   {
    "duration": 22,
    "start_time": "2025-02-27T18:08:23.843Z"
   },
   {
    "duration": 16,
    "start_time": "2025-02-27T18:08:24.472Z"
   },
   {
    "duration": 22,
    "start_time": "2025-02-27T18:08:26.337Z"
   },
   {
    "duration": 3,
    "start_time": "2025-02-27T18:10:09.690Z"
   },
   {
    "duration": 467,
    "start_time": "2025-02-27T18:10:22.854Z"
   },
   {
    "duration": 156,
    "start_time": "2025-02-27T18:10:23.946Z"
   },
   {
    "duration": 8,
    "start_time": "2025-02-27T18:10:24.579Z"
   },
   {
    "duration": 8,
    "start_time": "2025-02-27T18:10:24.727Z"
   },
   {
    "duration": 6,
    "start_time": "2025-02-27T18:10:25.478Z"
   },
   {
    "duration": 5,
    "start_time": "2025-02-27T18:10:25.659Z"
   },
   {
    "duration": 10,
    "start_time": "2025-02-27T18:10:26.601Z"
   },
   {
    "duration": 8,
    "start_time": "2025-02-27T18:10:26.784Z"
   },
   {
    "duration": 7,
    "start_time": "2025-02-27T18:10:27.572Z"
   },
   {
    "duration": 3,
    "start_time": "2025-02-27T18:10:27.727Z"
   },
   {
    "duration": 6,
    "start_time": "2025-02-27T18:10:27.897Z"
   },
   {
    "duration": 5,
    "start_time": "2025-02-27T18:10:28.046Z"
   },
   {
    "duration": 6,
    "start_time": "2025-02-27T18:10:28.688Z"
   },
   {
    "duration": 11,
    "start_time": "2025-02-27T18:10:28.859Z"
   },
   {
    "duration": 17,
    "start_time": "2025-02-27T18:10:29.320Z"
   },
   {
    "duration": 7,
    "start_time": "2025-02-27T18:10:29.770Z"
   },
   {
    "duration": 12,
    "start_time": "2025-02-27T18:10:30.578Z"
   },
   {
    "duration": 27,
    "start_time": "2025-02-27T18:10:30.738Z"
   },
   {
    "duration": 4,
    "start_time": "2025-02-27T18:10:30.890Z"
   },
   {
    "duration": 24,
    "start_time": "2025-02-27T18:10:31.394Z"
   },
   {
    "duration": 12,
    "start_time": "2025-02-27T18:10:31.721Z"
   },
   {
    "duration": 6,
    "start_time": "2025-02-27T18:10:31.892Z"
   },
   {
    "duration": 15,
    "start_time": "2025-02-27T18:10:32.753Z"
   },
   {
    "duration": 18,
    "start_time": "2025-02-27T18:10:34.012Z"
   },
   {
    "duration": 14,
    "start_time": "2025-02-27T18:10:34.343Z"
   },
   {
    "duration": 7,
    "start_time": "2025-02-27T18:10:34.518Z"
   },
   {
    "duration": 34,
    "start_time": "2025-02-27T18:10:35.402Z"
   },
   {
    "duration": 3,
    "start_time": "2025-02-27T18:10:35.585Z"
   },
   {
    "duration": 21,
    "start_time": "2025-02-27T18:10:36.093Z"
   },
   {
    "duration": 9,
    "start_time": "2025-02-27T18:10:36.586Z"
   },
   {
    "duration": 30,
    "start_time": "2025-02-27T18:10:36.942Z"
   },
   {
    "duration": 11,
    "start_time": "2025-02-27T18:10:37.115Z"
   },
   {
    "duration": 16,
    "start_time": "2025-02-27T18:10:37.315Z"
   },
   {
    "duration": 20,
    "start_time": "2025-02-27T18:10:37.491Z"
   },
   {
    "duration": 21,
    "start_time": "2025-02-27T18:10:37.821Z"
   },
   {
    "duration": 17,
    "start_time": "2025-02-27T18:10:37.992Z"
   },
   {
    "duration": 32,
    "start_time": "2025-02-27T18:10:38.839Z"
   },
   {
    "duration": 3,
    "start_time": "2025-02-27T18:10:41.244Z"
   },
   {
    "duration": 2,
    "start_time": "2025-02-27T18:10:41.471Z"
   },
   {
    "duration": 314,
    "start_time": "2025-02-27T18:12:57.934Z"
   },
   {
    "duration": 10,
    "start_time": "2025-02-27T18:13:46.936Z"
   },
   {
    "duration": 154,
    "start_time": "2025-02-27T18:14:20.128Z"
   },
   {
    "duration": 509,
    "start_time": "2025-02-27T18:14:54.677Z"
   },
   {
    "duration": 5,
    "start_time": "2025-02-27T18:15:25.142Z"
   },
   {
    "duration": 95,
    "start_time": "2025-02-27T18:15:42.145Z"
   },
   {
    "duration": 148,
    "start_time": "2025-02-27T18:24:40.513Z"
   },
   {
    "duration": 268,
    "start_time": "2025-02-27T18:25:07.667Z"
   },
   {
    "duration": 56,
    "start_time": "2025-02-27T18:29:31.521Z"
   },
   {
    "duration": 4,
    "start_time": "2025-02-27T18:31:17.574Z"
   },
   {
    "duration": 91,
    "start_time": "2025-02-27T18:31:32.343Z"
   },
   {
    "duration": 150,
    "start_time": "2025-02-27T18:32:38.020Z"
   },
   {
    "duration": 285,
    "start_time": "2025-02-27T18:33:04.624Z"
   },
   {
    "duration": 5,
    "start_time": "2025-02-27T18:33:25.900Z"
   },
   {
    "duration": 94,
    "start_time": "2025-02-27T18:33:42.577Z"
   },
   {
    "duration": 10,
    "start_time": "2025-02-27T18:34:10.297Z"
   },
   {
    "duration": 154,
    "start_time": "2025-02-27T18:34:28.675Z"
   },
   {
    "duration": 147,
    "start_time": "2025-02-27T18:34:44.592Z"
   },
   {
    "duration": 207,
    "start_time": "2025-02-27T18:34:51.168Z"
   },
   {
    "duration": 150,
    "start_time": "2025-02-27T18:48:41.062Z"
   },
   {
    "duration": 280,
    "start_time": "2025-02-27T18:48:41.779Z"
   },
   {
    "duration": 5,
    "start_time": "2025-02-27T18:48:42.487Z"
   },
   {
    "duration": 98,
    "start_time": "2025-02-27T18:48:43.498Z"
   },
   {
    "duration": 4,
    "start_time": "2025-02-27T19:02:05.997Z"
   },
   {
    "duration": 97,
    "start_time": "2025-02-27T19:02:33.036Z"
   },
   {
    "duration": 5,
    "start_time": "2025-02-27T19:10:45.289Z"
   },
   {
    "duration": 16,
    "start_time": "2025-02-27T19:12:26.467Z"
   },
   {
    "duration": 8,
    "start_time": "2025-02-28T17:01:35.713Z"
   },
   {
    "duration": 830,
    "start_time": "2025-02-28T17:03:04.918Z"
   },
   {
    "duration": 162,
    "start_time": "2025-02-28T17:03:05.750Z"
   },
   {
    "duration": 9,
    "start_time": "2025-02-28T17:03:05.916Z"
   },
   {
    "duration": 10,
    "start_time": "2025-02-28T17:03:05.928Z"
   },
   {
    "duration": 5,
    "start_time": "2025-02-28T17:03:05.939Z"
   },
   {
    "duration": 5,
    "start_time": "2025-02-28T17:03:05.946Z"
   },
   {
    "duration": 8,
    "start_time": "2025-02-28T17:03:05.953Z"
   },
   {
    "duration": 8,
    "start_time": "2025-02-28T17:03:05.963Z"
   },
   {
    "duration": 5,
    "start_time": "2025-02-28T17:03:05.973Z"
   },
   {
    "duration": 44,
    "start_time": "2025-02-28T17:03:05.981Z"
   },
   {
    "duration": 6,
    "start_time": "2025-02-28T17:03:06.027Z"
   },
   {
    "duration": 5,
    "start_time": "2025-02-28T17:03:06.034Z"
   },
   {
    "duration": 6,
    "start_time": "2025-02-28T17:03:06.041Z"
   },
   {
    "duration": 9,
    "start_time": "2025-02-28T17:03:06.048Z"
   },
   {
    "duration": 15,
    "start_time": "2025-02-28T17:03:06.059Z"
   },
   {
    "duration": 7,
    "start_time": "2025-02-28T17:03:06.075Z"
   },
   {
    "duration": 45,
    "start_time": "2025-02-28T17:03:06.084Z"
   },
   {
    "duration": 32,
    "start_time": "2025-02-28T17:03:06.131Z"
   },
   {
    "duration": 3,
    "start_time": "2025-02-28T17:03:06.165Z"
   },
   {
    "duration": 25,
    "start_time": "2025-02-28T17:03:06.169Z"
   },
   {
    "duration": 36,
    "start_time": "2025-02-28T17:03:06.196Z"
   },
   {
    "duration": 6,
    "start_time": "2025-02-28T17:03:06.234Z"
   },
   {
    "duration": 16,
    "start_time": "2025-02-28T17:03:06.242Z"
   },
   {
    "duration": 17,
    "start_time": "2025-02-28T17:03:06.260Z"
   },
   {
    "duration": 45,
    "start_time": "2025-02-28T17:03:06.279Z"
   },
   {
    "duration": 7,
    "start_time": "2025-02-28T17:03:06.326Z"
   },
   {
    "duration": 36,
    "start_time": "2025-02-28T17:03:06.334Z"
   },
   {
    "duration": 3,
    "start_time": "2025-02-28T17:03:06.374Z"
   },
   {
    "duration": 45,
    "start_time": "2025-02-28T17:03:06.379Z"
   },
   {
    "duration": 10,
    "start_time": "2025-02-28T17:03:06.426Z"
   },
   {
    "duration": 32,
    "start_time": "2025-02-28T17:03:06.437Z"
   },
   {
    "duration": 13,
    "start_time": "2025-02-28T17:03:06.471Z"
   },
   {
    "duration": 40,
    "start_time": "2025-02-28T17:03:06.486Z"
   },
   {
    "duration": 22,
    "start_time": "2025-02-28T17:03:06.527Z"
   },
   {
    "duration": 20,
    "start_time": "2025-02-28T17:03:06.550Z"
   },
   {
    "duration": 16,
    "start_time": "2025-02-28T17:03:06.572Z"
   },
   {
    "duration": 46,
    "start_time": "2025-02-28T17:03:06.589Z"
   },
   {
    "duration": 265,
    "start_time": "2025-02-28T17:03:06.637Z"
   },
   {
    "duration": 452,
    "start_time": "2025-02-28T17:03:06.904Z"
   },
   {
    "duration": 4,
    "start_time": "2025-02-28T17:03:07.358Z"
   },
   {
    "duration": 107,
    "start_time": "2025-02-28T17:03:07.364Z"
   },
   {
    "duration": 188,
    "start_time": "2025-02-28T17:03:07.473Z"
   },
   {
    "duration": 338,
    "start_time": "2025-02-28T17:03:07.664Z"
   },
   {
    "duration": 4,
    "start_time": "2025-02-28T17:03:08.004Z"
   },
   {
    "duration": 99,
    "start_time": "2025-02-28T17:03:08.010Z"
   },
   {
    "duration": 169,
    "start_time": "2025-02-28T17:03:08.111Z"
   },
   {
    "duration": 284,
    "start_time": "2025-02-28T17:03:08.282Z"
   },
   {
    "duration": 5,
    "start_time": "2025-02-28T17:03:08.568Z"
   },
   {
    "duration": 114,
    "start_time": "2025-02-28T17:03:08.576Z"
   },
   {
    "duration": 10,
    "start_time": "2025-02-28T17:03:08.692Z"
   },
   {
    "duration": 160,
    "start_time": "2025-02-28T17:03:08.704Z"
   },
   {
    "duration": 294,
    "start_time": "2025-02-28T17:03:08.865Z"
   },
   {
    "duration": 5,
    "start_time": "2025-02-28T17:03:09.161Z"
   },
   {
    "duration": 170,
    "start_time": "2025-02-28T17:03:09.167Z"
   },
   {
    "duration": 5,
    "start_time": "2025-02-28T17:03:09.340Z"
   },
   {
    "duration": 14,
    "start_time": "2025-02-28T17:03:09.347Z"
   },
   {
    "duration": 11,
    "start_time": "2025-02-28T17:06:04.287Z"
   },
   {
    "duration": 156,
    "start_time": "2025-02-28T18:08:43.922Z"
   },
   {
    "duration": 2489,
    "start_time": "2025-02-28T18:08:59.749Z"
   },
   {
    "duration": 210,
    "start_time": "2025-02-28T18:09:02.240Z"
   },
   {
    "duration": 9,
    "start_time": "2025-02-28T18:09:02.451Z"
   },
   {
    "duration": 9,
    "start_time": "2025-02-28T18:09:02.462Z"
   },
   {
    "duration": 5,
    "start_time": "2025-02-28T18:09:02.473Z"
   },
   {
    "duration": 5,
    "start_time": "2025-02-28T18:09:02.479Z"
   },
   {
    "duration": 9,
    "start_time": "2025-02-28T18:09:04.171Z"
   },
   {
    "duration": 9,
    "start_time": "2025-02-28T18:09:04.381Z"
   },
   {
    "duration": 5,
    "start_time": "2025-02-28T18:09:05.963Z"
   },
   {
    "duration": 3,
    "start_time": "2025-02-28T18:09:06.144Z"
   },
   {
    "duration": 6,
    "start_time": "2025-02-28T18:09:06.318Z"
   },
   {
    "duration": 6,
    "start_time": "2025-02-28T18:09:06.483Z"
   },
   {
    "duration": 8,
    "start_time": "2025-02-28T18:09:07.717Z"
   },
   {
    "duration": 9,
    "start_time": "2025-02-28T18:09:08.181Z"
   },
   {
    "duration": 16,
    "start_time": "2025-02-28T18:09:10.000Z"
   },
   {
    "duration": 6,
    "start_time": "2025-02-28T18:09:10.653Z"
   },
   {
    "duration": 13,
    "start_time": "2025-02-28T18:09:13.917Z"
   },
   {
    "duration": 40,
    "start_time": "2025-02-28T18:09:14.687Z"
   },
   {
    "duration": 3,
    "start_time": "2025-02-28T18:09:14.839Z"
   },
   {
    "duration": 5,
    "start_time": "2025-02-28T18:09:15.216Z"
   },
   {
    "duration": 4,
    "start_time": "2025-02-28T18:14:00.218Z"
   },
   {
    "duration": 3,
    "start_time": "2025-02-28T18:15:17.749Z"
   },
   {
    "duration": 155,
    "start_time": "2025-02-28T18:15:18.079Z"
   },
   {
    "duration": 8,
    "start_time": "2025-02-28T18:15:18.690Z"
   },
   {
    "duration": 8,
    "start_time": "2025-02-28T18:15:18.877Z"
   },
   {
    "duration": 5,
    "start_time": "2025-02-28T18:15:19.675Z"
   },
   {
    "duration": 5,
    "start_time": "2025-02-28T18:15:19.841Z"
   },
   {
    "duration": 8,
    "start_time": "2025-02-28T18:15:20.827Z"
   },
   {
    "duration": 8,
    "start_time": "2025-02-28T18:15:21.017Z"
   },
   {
    "duration": 5,
    "start_time": "2025-02-28T18:15:21.909Z"
   },
   {
    "duration": 3,
    "start_time": "2025-02-28T18:15:22.093Z"
   },
   {
    "duration": 5,
    "start_time": "2025-02-28T18:15:22.274Z"
   },
   {
    "duration": 6,
    "start_time": "2025-02-28T18:15:22.426Z"
   },
   {
    "duration": 6,
    "start_time": "2025-02-28T18:15:23.124Z"
   },
   {
    "duration": 11,
    "start_time": "2025-02-28T18:15:23.294Z"
   },
   {
    "duration": 15,
    "start_time": "2025-02-28T18:15:23.811Z"
   },
   {
    "duration": 7,
    "start_time": "2025-02-28T18:15:23.986Z"
   },
   {
    "duration": 14,
    "start_time": "2025-02-28T18:15:24.796Z"
   },
   {
    "duration": 28,
    "start_time": "2025-02-28T18:15:24.982Z"
   },
   {
    "duration": 4,
    "start_time": "2025-02-28T18:15:25.141Z"
   },
   {
    "duration": 6,
    "start_time": "2025-02-28T18:15:25.552Z"
   },
   {
    "duration": 25,
    "start_time": "2025-02-28T18:15:30.074Z"
   },
   {
    "duration": 12,
    "start_time": "2025-02-28T18:15:30.382Z"
   },
   {
    "duration": 6,
    "start_time": "2025-02-28T18:15:30.556Z"
   },
   {
    "duration": 17,
    "start_time": "2025-02-28T18:15:31.352Z"
   },
   {
    "duration": 16,
    "start_time": "2025-02-28T18:15:32.008Z"
   },
   {
    "duration": 14,
    "start_time": "2025-02-28T18:15:32.344Z"
   },
   {
    "duration": 7,
    "start_time": "2025-02-28T18:15:32.513Z"
   },
   {
    "duration": 43,
    "start_time": "2025-02-28T18:15:33.354Z"
   },
   {
    "duration": 4,
    "start_time": "2025-02-28T18:15:33.534Z"
   },
   {
    "duration": 4,
    "start_time": "2025-02-28T18:15:33.892Z"
   },
   {
    "duration": 20,
    "start_time": "2025-02-28T18:15:45.651Z"
   },
   {
    "duration": 8,
    "start_time": "2025-02-28T18:15:47.861Z"
   },
   {
    "duration": 32,
    "start_time": "2025-02-28T18:15:48.285Z"
   },
   {
    "duration": 13,
    "start_time": "2025-02-28T18:15:48.495Z"
   },
   {
    "duration": 14,
    "start_time": "2025-02-28T18:15:48.674Z"
   },
   {
    "duration": 15,
    "start_time": "2025-02-28T18:15:48.888Z"
   },
   {
    "duration": 21,
    "start_time": "2025-02-28T18:15:49.245Z"
   },
   {
    "duration": 2570,
    "start_time": "2025-03-02T10:34:58.076Z"
   },
   {
    "duration": 210,
    "start_time": "2025-03-02T10:35:00.648Z"
   },
   {
    "duration": 2526,
    "start_time": "2025-03-02T20:24:21.619Z"
   },
   {
    "duration": 206,
    "start_time": "2025-03-02T20:24:24.147Z"
   },
   {
    "duration": 11,
    "start_time": "2025-03-02T20:24:24.355Z"
   },
   {
    "duration": 9,
    "start_time": "2025-03-02T20:24:24.369Z"
   },
   {
    "duration": 5,
    "start_time": "2025-03-02T20:24:24.379Z"
   },
   {
    "duration": 5,
    "start_time": "2025-03-02T20:24:24.576Z"
   },
   {
    "duration": 15,
    "start_time": "2025-03-02T20:24:33.511Z"
   },
   {
    "duration": 17,
    "start_time": "2025-03-02T20:24:33.649Z"
   },
   {
    "duration": 7,
    "start_time": "2025-03-02T20:24:34.881Z"
   },
   {
    "duration": 5,
    "start_time": "2025-03-02T20:24:35.112Z"
   },
   {
    "duration": 7,
    "start_time": "2025-03-02T20:24:36.058Z"
   },
   {
    "duration": 6,
    "start_time": "2025-03-02T20:24:36.269Z"
   },
   {
    "duration": 21,
    "start_time": "2025-03-02T20:24:42.338Z"
   },
   {
    "duration": 10,
    "start_time": "2025-03-02T20:24:42.520Z"
   },
   {
    "duration": 22,
    "start_time": "2025-03-02T20:25:31.300Z"
   },
   {
    "duration": 7,
    "start_time": "2025-03-02T20:25:31.511Z"
   },
   {
    "duration": 15,
    "start_time": "2025-03-02T20:25:33.079Z"
   },
   {
    "duration": 35,
    "start_time": "2025-03-02T20:25:33.580Z"
   },
   {
    "duration": 4,
    "start_time": "2025-03-02T20:25:33.783Z"
   },
   {
    "duration": 5,
    "start_time": "2025-03-02T20:25:34.145Z"
   },
   {
    "duration": 5,
    "start_time": "2025-03-02T20:26:12.940Z"
   },
   {
    "duration": 5,
    "start_time": "2025-03-02T20:26:26.103Z"
   },
   {
    "duration": 3,
    "start_time": "2025-03-02T20:26:44.297Z"
   },
   {
    "duration": 6,
    "start_time": "2025-03-02T20:30:12.488Z"
   },
   {
    "duration": 4,
    "start_time": "2025-03-02T20:36:17.805Z"
   },
   {
    "duration": 5,
    "start_time": "2025-03-02T20:36:45.948Z"
   },
   {
    "duration": 5,
    "start_time": "2025-03-02T20:37:37.225Z"
   },
   {
    "duration": 3,
    "start_time": "2025-03-02T20:37:46.597Z"
   },
   {
    "duration": 168,
    "start_time": "2025-03-02T20:37:46.961Z"
   },
   {
    "duration": 167,
    "start_time": "2025-03-02T20:37:50.888Z"
   },
   {
    "duration": 10,
    "start_time": "2025-03-02T20:37:52.194Z"
   },
   {
    "duration": 9,
    "start_time": "2025-03-02T20:37:52.405Z"
   },
   {
    "duration": 6,
    "start_time": "2025-03-02T20:37:54.783Z"
   },
   {
    "duration": 5,
    "start_time": "2025-03-02T20:37:55.578Z"
   },
   {
    "duration": 10,
    "start_time": "2025-03-02T20:37:58.686Z"
   },
   {
    "duration": 9,
    "start_time": "2025-03-02T20:37:59.592Z"
   },
   {
    "duration": 7,
    "start_time": "2025-03-02T20:38:03.056Z"
   },
   {
    "duration": 4,
    "start_time": "2025-03-02T20:38:04.037Z"
   },
   {
    "duration": 8,
    "start_time": "2025-03-02T20:38:04.812Z"
   },
   {
    "duration": 7,
    "start_time": "2025-03-02T20:38:05.934Z"
   },
   {
    "duration": 6,
    "start_time": "2025-03-02T20:38:10.761Z"
   },
   {
    "duration": 9,
    "start_time": "2025-03-02T20:38:11.239Z"
   },
   {
    "duration": 16,
    "start_time": "2025-03-02T20:38:14.823Z"
   },
   {
    "duration": 7,
    "start_time": "2025-03-02T20:38:16.136Z"
   },
   {
    "duration": 17,
    "start_time": "2025-03-02T20:38:21.728Z"
   },
   {
    "duration": 31,
    "start_time": "2025-03-02T20:38:21.946Z"
   },
   {
    "duration": 3,
    "start_time": "2025-03-02T20:38:24.051Z"
   },
   {
    "duration": 5,
    "start_time": "2025-03-02T20:38:25.759Z"
   },
   {
    "duration": 2,
    "start_time": "2025-03-02T20:42:19.072Z"
   },
   {
    "duration": 5,
    "start_time": "2025-03-02T20:43:31.696Z"
   },
   {
    "duration": 282,
    "start_time": "2025-03-02T20:47:23.684Z"
   },
   {
    "duration": 7,
    "start_time": "2025-03-02T20:47:33.017Z"
   },
   {
    "duration": 24,
    "start_time": "2025-03-02T20:48:52.509Z"
   },
   {
    "duration": 13,
    "start_time": "2025-03-02T20:48:52.997Z"
   },
   {
    "duration": 7,
    "start_time": "2025-03-02T20:48:53.255Z"
   },
   {
    "duration": 18,
    "start_time": "2025-03-02T20:48:54.594Z"
   },
   {
    "duration": 23,
    "start_time": "2025-03-02T20:48:55.619Z"
   },
   {
    "duration": 16,
    "start_time": "2025-03-02T20:48:56.119Z"
   },
   {
    "duration": 8,
    "start_time": "2025-03-02T20:48:56.339Z"
   },
   {
    "duration": 47,
    "start_time": "2025-03-02T20:48:57.453Z"
   },
   {
    "duration": 4,
    "start_time": "2025-03-02T20:48:57.687Z"
   },
   {
    "duration": 7,
    "start_time": "2025-03-02T20:48:58.204Z"
   },
   {
    "duration": 27,
    "start_time": "2025-03-02T20:48:58.983Z"
   },
   {
    "duration": 20,
    "start_time": "2025-03-02T20:51:24.522Z"
   },
   {
    "duration": 14,
    "start_time": "2025-03-02T20:51:24.825Z"
   },
   {
    "duration": 21,
    "start_time": "2025-03-02T20:51:37.940Z"
   },
   {
    "duration": 3,
    "start_time": "2025-03-02T20:51:59.480Z"
   },
   {
    "duration": 167,
    "start_time": "2025-03-02T20:51:59.821Z"
   },
   {
    "duration": 9,
    "start_time": "2025-03-02T20:52:00.518Z"
   },
   {
    "duration": 8,
    "start_time": "2025-03-02T20:52:00.706Z"
   },
   {
    "duration": 6,
    "start_time": "2025-03-02T20:52:01.533Z"
   },
   {
    "duration": 7,
    "start_time": "2025-03-02T20:52:01.728Z"
   },
   {
    "duration": 11,
    "start_time": "2025-03-02T20:52:02.898Z"
   },
   {
    "duration": 10,
    "start_time": "2025-03-02T20:52:03.073Z"
   },
   {
    "duration": 7,
    "start_time": "2025-03-02T20:52:03.912Z"
   },
   {
    "duration": 3,
    "start_time": "2025-03-02T20:52:04.135Z"
   },
   {
    "duration": 5,
    "start_time": "2025-03-02T20:52:21.114Z"
   },
   {
    "duration": 7,
    "start_time": "2025-03-02T20:52:21.285Z"
   },
   {
    "duration": 5,
    "start_time": "2025-03-02T20:53:43.482Z"
   },
   {
    "duration": 202,
    "start_time": "2025-03-02T20:53:43.829Z"
   },
   {
    "duration": 8,
    "start_time": "2025-03-02T20:53:44.520Z"
   },
   {
    "duration": 8,
    "start_time": "2025-03-02T20:53:44.690Z"
   },
   {
    "duration": 6,
    "start_time": "2025-03-02T20:53:45.639Z"
   },
   {
    "duration": 7,
    "start_time": "2025-03-02T20:53:45.832Z"
   },
   {
    "duration": 11,
    "start_time": "2025-03-02T20:53:47.295Z"
   },
   {
    "duration": 9,
    "start_time": "2025-03-02T20:53:47.488Z"
   },
   {
    "duration": 8,
    "start_time": "2025-03-02T20:53:48.826Z"
   },
   {
    "duration": 3,
    "start_time": "2025-03-02T20:53:49.015Z"
   },
   {
    "duration": 5,
    "start_time": "2025-03-02T20:53:49.200Z"
   },
   {
    "duration": 6,
    "start_time": "2025-03-02T20:53:49.380Z"
   },
   {
    "duration": 5,
    "start_time": "2025-03-02T20:53:50.168Z"
   },
   {
    "duration": 10,
    "start_time": "2025-03-02T20:53:50.359Z"
   },
   {
    "duration": 18,
    "start_time": "2025-03-02T20:53:51.650Z"
   },
   {
    "duration": 7,
    "start_time": "2025-03-02T20:53:52.694Z"
   },
   {
    "duration": 14,
    "start_time": "2025-03-02T20:53:54.582Z"
   },
   {
    "duration": 38,
    "start_time": "2025-03-02T20:53:54.790Z"
   },
   {
    "duration": 3,
    "start_time": "2025-03-02T20:53:55.295Z"
   },
   {
    "duration": 5,
    "start_time": "2025-03-02T20:54:00.392Z"
   },
   {
    "duration": 38,
    "start_time": "2025-03-02T20:55:58.680Z"
   },
   {
    "duration": 54,
    "start_time": "2025-03-02T20:56:52.194Z"
   },
   {
    "duration": 4,
    "start_time": "2025-03-02T20:56:59.390Z"
   },
   {
    "duration": 160,
    "start_time": "2025-03-02T20:57:00.111Z"
   },
   {
    "duration": 14,
    "start_time": "2025-03-02T20:57:00.838Z"
   },
   {
    "duration": 9,
    "start_time": "2025-03-02T20:57:01.371Z"
   },
   {
    "duration": 6,
    "start_time": "2025-03-02T20:57:04.334Z"
   },
   {
    "duration": 6,
    "start_time": "2025-03-02T20:57:04.550Z"
   },
   {
    "duration": 11,
    "start_time": "2025-03-02T20:57:07.008Z"
   },
   {
    "duration": 11,
    "start_time": "2025-03-02T20:57:07.235Z"
   },
   {
    "duration": 8,
    "start_time": "2025-03-02T20:57:08.607Z"
   },
   {
    "duration": 4,
    "start_time": "2025-03-02T20:57:09.419Z"
   },
   {
    "duration": 9,
    "start_time": "2025-03-02T20:57:10.014Z"
   },
   {
    "duration": 5,
    "start_time": "2025-03-02T20:57:10.206Z"
   },
   {
    "duration": 8,
    "start_time": "2025-03-02T20:57:11.936Z"
   },
   {
    "duration": 10,
    "start_time": "2025-03-02T20:57:12.125Z"
   },
   {
    "duration": 16,
    "start_time": "2025-03-02T20:57:13.404Z"
   },
   {
    "duration": 7,
    "start_time": "2025-03-02T20:57:14.188Z"
   },
   {
    "duration": 16,
    "start_time": "2025-03-02T20:57:15.970Z"
   },
   {
    "duration": 27,
    "start_time": "2025-03-02T20:57:16.669Z"
   },
   {
    "duration": 47,
    "start_time": "2025-03-02T20:57:17.575Z"
   },
   {
    "duration": 4,
    "start_time": "2025-03-02T20:59:02.855Z"
   },
   {
    "duration": 5,
    "start_time": "2025-03-02T20:59:12.555Z"
   },
   {
    "duration": 32,
    "start_time": "2025-03-02T20:59:30.564Z"
   },
   {
    "duration": 13,
    "start_time": "2025-03-02T20:59:30.909Z"
   },
   {
    "duration": 7,
    "start_time": "2025-03-02T20:59:31.079Z"
   },
   {
    "duration": 17,
    "start_time": "2025-03-02T20:59:31.968Z"
   },
   {
    "duration": 18,
    "start_time": "2025-03-02T20:59:32.687Z"
   },
   {
    "duration": 17,
    "start_time": "2025-03-02T20:59:33.048Z"
   },
   {
    "duration": 7,
    "start_time": "2025-03-02T20:59:33.221Z"
   },
   {
    "duration": 32,
    "start_time": "2025-03-02T20:59:34.406Z"
   },
   {
    "duration": 4,
    "start_time": "2025-03-02T20:59:34.592Z"
   },
   {
    "duration": 6,
    "start_time": "2025-03-02T20:59:34.934Z"
   },
   {
    "duration": 5,
    "start_time": "2025-03-02T21:00:21.292Z"
   },
   {
    "duration": 5,
    "start_time": "2025-03-02T21:00:37.350Z"
   },
   {
    "duration": 5,
    "start_time": "2025-03-02T21:00:55.673Z"
   },
   {
    "duration": 5,
    "start_time": "2025-03-02T21:01:10.838Z"
   },
   {
    "duration": 3,
    "start_time": "2025-03-02T21:01:19.097Z"
   },
   {
    "duration": 158,
    "start_time": "2025-03-02T21:01:19.449Z"
   },
   {
    "duration": 10,
    "start_time": "2025-03-02T21:01:20.113Z"
   },
   {
    "duration": 9,
    "start_time": "2025-03-02T21:01:20.302Z"
   },
   {
    "duration": 7,
    "start_time": "2025-03-02T21:01:21.149Z"
   },
   {
    "duration": 6,
    "start_time": "2025-03-02T21:01:21.325Z"
   },
   {
    "duration": 9,
    "start_time": "2025-03-02T21:01:22.349Z"
   },
   {
    "duration": 12,
    "start_time": "2025-03-02T21:01:22.525Z"
   },
   {
    "duration": 6,
    "start_time": "2025-03-02T21:01:23.431Z"
   },
   {
    "duration": 4,
    "start_time": "2025-03-02T21:01:23.599Z"
   },
   {
    "duration": 7,
    "start_time": "2025-03-02T21:01:23.783Z"
   },
   {
    "duration": 6,
    "start_time": "2025-03-02T21:01:23.967Z"
   },
   {
    "duration": 7,
    "start_time": "2025-03-02T21:01:24.703Z"
   },
   {
    "duration": 9,
    "start_time": "2025-03-02T21:01:24.916Z"
   },
   {
    "duration": 21,
    "start_time": "2025-03-02T21:01:25.455Z"
   },
   {
    "duration": 8,
    "start_time": "2025-03-02T21:01:25.865Z"
   },
   {
    "duration": 13,
    "start_time": "2025-03-02T21:01:27.440Z"
   },
   {
    "duration": 33,
    "start_time": "2025-03-02T21:01:27.603Z"
   },
   {
    "duration": 6,
    "start_time": "2025-03-02T21:01:29.773Z"
   },
   {
    "duration": 29,
    "start_time": "2025-03-02T21:01:31.070Z"
   },
   {
    "duration": 15,
    "start_time": "2025-03-02T21:01:31.808Z"
   },
   {
    "duration": 11,
    "start_time": "2025-03-02T21:01:31.963Z"
   },
   {
    "duration": 25,
    "start_time": "2025-03-02T21:01:33.199Z"
   },
   {
    "duration": 23,
    "start_time": "2025-03-02T21:01:33.839Z"
   },
   {
    "duration": 16,
    "start_time": "2025-03-02T21:01:34.576Z"
   },
   {
    "duration": 8,
    "start_time": "2025-03-02T21:01:34.775Z"
   },
   {
    "duration": 40,
    "start_time": "2025-03-02T21:01:36.320Z"
   },
   {
    "duration": 5,
    "start_time": "2025-03-02T21:01:37.805Z"
   },
   {
    "duration": 4,
    "start_time": "2025-03-02T21:01:44.723Z"
   },
   {
    "duration": 5,
    "start_time": "2025-03-02T21:02:05.347Z"
   },
   {
    "duration": 5,
    "start_time": "2025-03-02T21:02:27.763Z"
   },
   {
    "duration": 20,
    "start_time": "2025-03-02T21:02:28.285Z"
   },
   {
    "duration": 10,
    "start_time": "2025-03-02T21:02:29.113Z"
   },
   {
    "duration": 32,
    "start_time": "2025-03-02T21:02:29.791Z"
   },
   {
    "duration": 12,
    "start_time": "2025-03-02T21:02:29.988Z"
   },
   {
    "duration": 14,
    "start_time": "2025-03-02T21:02:30.182Z"
   },
   {
    "duration": 19,
    "start_time": "2025-03-02T21:02:30.405Z"
   },
   {
    "duration": 21,
    "start_time": "2025-03-02T21:02:31.335Z"
   },
   {
    "duration": 22,
    "start_time": "2025-03-02T21:13:30.292Z"
   },
   {
    "duration": 15,
    "start_time": "2025-03-02T21:13:50.803Z"
   },
   {
    "duration": 15,
    "start_time": "2025-03-02T21:13:51.012Z"
   },
   {
    "duration": 21,
    "start_time": "2025-03-02T21:13:52.221Z"
   },
   {
    "duration": 22,
    "start_time": "2025-03-02T21:14:03.009Z"
   },
   {
    "duration": 17,
    "start_time": "2025-03-02T21:14:04.312Z"
   },
   {
    "duration": 27,
    "start_time": "2025-03-02T21:14:23.647Z"
   },
   {
    "duration": 203,
    "start_time": "2025-03-02T21:14:44.782Z"
   },
   {
    "duration": 477,
    "start_time": "2025-03-02T21:14:44.987Z"
   },
   {
    "duration": 5,
    "start_time": "2025-03-02T21:14:59.943Z"
   },
   {
    "duration": 92,
    "start_time": "2025-03-02T21:15:02.787Z"
   },
   {
    "duration": 145,
    "start_time": "2025-03-02T21:15:11.467Z"
   },
   {
    "duration": 305,
    "start_time": "2025-03-02T21:15:13.318Z"
   },
   {
    "duration": 4,
    "start_time": "2025-03-02T21:15:30.262Z"
   },
   {
    "duration": 87,
    "start_time": "2025-03-02T21:15:31.491Z"
   },
   {
    "duration": 151,
    "start_time": "2025-03-02T21:15:51.092Z"
   },
   {
    "duration": 358,
    "start_time": "2025-03-02T21:16:10.151Z"
   },
   {
    "duration": 4,
    "start_time": "2025-03-02T21:16:10.868Z"
   },
   {
    "duration": 93,
    "start_time": "2025-03-02T21:16:18.149Z"
   },
   {
    "duration": 11,
    "start_time": "2025-03-02T21:16:20.717Z"
   },
   {
    "duration": 150,
    "start_time": "2025-03-02T21:16:21.010Z"
   },
   {
    "duration": 272,
    "start_time": "2025-03-02T21:16:21.237Z"
   },
   {
    "duration": 5,
    "start_time": "2025-03-02T21:16:22.758Z"
   },
   {
    "duration": 90,
    "start_time": "2025-03-02T21:16:23.676Z"
   },
   {
    "duration": 4,
    "start_time": "2025-03-02T21:17:37.323Z"
   },
   {
    "duration": 3,
    "start_time": "2025-03-02T21:32:41.575Z"
   },
   {
    "duration": 154,
    "start_time": "2025-03-02T21:32:41.927Z"
   },
   {
    "duration": 8,
    "start_time": "2025-03-02T21:32:42.914Z"
   },
   {
    "duration": 7,
    "start_time": "2025-03-02T21:32:43.577Z"
   },
   {
    "duration": 7,
    "start_time": "2025-03-02T21:32:44.407Z"
   },
   {
    "duration": 5,
    "start_time": "2025-03-02T21:32:44.577Z"
   },
   {
    "duration": 8,
    "start_time": "2025-03-02T21:32:45.621Z"
   },
   {
    "duration": 8,
    "start_time": "2025-03-02T21:32:45.801Z"
   },
   {
    "duration": 5,
    "start_time": "2025-03-02T21:32:46.660Z"
   },
   {
    "duration": 3,
    "start_time": "2025-03-02T21:32:46.835Z"
   },
   {
    "duration": 5,
    "start_time": "2025-03-02T21:32:46.976Z"
   },
   {
    "duration": 5,
    "start_time": "2025-03-02T21:32:47.153Z"
   },
   {
    "duration": 6,
    "start_time": "2025-03-02T21:32:47.851Z"
   },
   {
    "duration": 8,
    "start_time": "2025-03-02T21:32:48.036Z"
   },
   {
    "duration": 16,
    "start_time": "2025-03-02T21:32:48.573Z"
   },
   {
    "duration": 7,
    "start_time": "2025-03-02T21:32:48.757Z"
   },
   {
    "duration": 12,
    "start_time": "2025-03-02T21:32:49.619Z"
   },
   {
    "duration": 28,
    "start_time": "2025-03-02T21:32:49.809Z"
   },
   {
    "duration": 6,
    "start_time": "2025-03-02T21:32:50.366Z"
   },
   {
    "duration": 24,
    "start_time": "2025-03-02T21:32:50.913Z"
   },
   {
    "duration": 13,
    "start_time": "2025-03-02T21:32:51.313Z"
   },
   {
    "duration": 6,
    "start_time": "2025-03-02T21:32:51.464Z"
   },
   {
    "duration": 15,
    "start_time": "2025-03-02T21:32:52.384Z"
   },
   {
    "duration": 16,
    "start_time": "2025-03-02T21:32:53.151Z"
   },
   {
    "duration": 14,
    "start_time": "2025-03-02T21:32:53.545Z"
   },
   {
    "duration": 7,
    "start_time": "2025-03-02T21:32:53.742Z"
   },
   {
    "duration": 30,
    "start_time": "2025-03-02T21:32:54.675Z"
   },
   {
    "duration": 5,
    "start_time": "2025-03-02T21:32:55.220Z"
   },
   {
    "duration": 20,
    "start_time": "2025-03-02T21:32:55.757Z"
   },
   {
    "duration": 8,
    "start_time": "2025-03-02T21:32:56.468Z"
   },
   {
    "duration": 30,
    "start_time": "2025-03-02T21:32:56.840Z"
   },
   {
    "duration": 11,
    "start_time": "2025-03-02T21:32:57.017Z"
   },
   {
    "duration": 11,
    "start_time": "2025-03-02T21:32:57.181Z"
   },
   {
    "duration": 14,
    "start_time": "2025-03-02T21:32:57.370Z"
   },
   {
    "duration": 20,
    "start_time": "2025-03-02T21:32:57.545Z"
   },
   {
    "duration": 21,
    "start_time": "2025-03-02T21:32:58.312Z"
   },
   {
    "duration": 16,
    "start_time": "2025-03-02T21:32:58.494Z"
   },
   {
    "duration": 22,
    "start_time": "2025-03-02T21:32:58.849Z"
   },
   {
    "duration": 191,
    "start_time": "2025-03-02T21:32:59.760Z"
   },
   {
    "duration": 475,
    "start_time": "2025-03-02T21:32:59.953Z"
   },
   {
    "duration": 4,
    "start_time": "2025-03-02T21:33:00.442Z"
   },
   {
    "duration": 106,
    "start_time": "2025-03-02T21:33:00.475Z"
   },
   {
    "duration": 160,
    "start_time": "2025-03-02T21:33:01.238Z"
   },
   {
    "duration": 382,
    "start_time": "2025-03-02T21:33:01.434Z"
   },
   {
    "duration": 5,
    "start_time": "2025-03-02T21:33:01.818Z"
   },
   {
    "duration": 100,
    "start_time": "2025-03-02T21:33:01.825Z"
   },
   {
    "duration": 148,
    "start_time": "2025-03-02T21:33:02.570Z"
   },
   {
    "duration": 275,
    "start_time": "2025-03-02T21:33:02.755Z"
   },
   {
    "duration": 13,
    "start_time": "2025-03-02T21:33:03.032Z"
   },
   {
    "duration": 92,
    "start_time": "2025-03-02T21:33:03.133Z"
   },
   {
    "duration": 10,
    "start_time": "2025-03-02T21:33:04.018Z"
   },
   {
    "duration": 144,
    "start_time": "2025-03-02T21:33:04.201Z"
   },
   {
    "duration": 222,
    "start_time": "2025-03-02T21:33:04.382Z"
   },
   {
    "duration": 4,
    "start_time": "2025-03-02T21:33:04.607Z"
   },
   {
    "duration": 89,
    "start_time": "2025-03-02T21:33:04.736Z"
   },
   {
    "duration": 5,
    "start_time": "2025-03-02T21:33:06.168Z"
   },
   {
    "duration": 14,
    "start_time": "2025-03-02T21:33:06.701Z"
   },
   {
    "duration": 17,
    "start_time": "2025-03-02T21:44:12.571Z"
   },
   {
    "duration": 2,
    "start_time": "2025-03-02T21:44:43.362Z"
   },
   {
    "duration": 3,
    "start_time": "2025-03-02T21:45:17.696Z"
   },
   {
    "duration": 151,
    "start_time": "2025-03-02T21:45:18.713Z"
   },
   {
    "duration": 9,
    "start_time": "2025-03-02T21:45:19.274Z"
   },
   {
    "duration": 7,
    "start_time": "2025-03-02T21:45:19.479Z"
   },
   {
    "duration": 5,
    "start_time": "2025-03-02T21:45:20.261Z"
   },
   {
    "duration": 4,
    "start_time": "2025-03-02T21:45:20.420Z"
   },
   {
    "duration": 8,
    "start_time": "2025-03-02T21:45:21.379Z"
   },
   {
    "duration": 9,
    "start_time": "2025-03-02T21:45:21.540Z"
   },
   {
    "duration": 6,
    "start_time": "2025-03-02T21:45:22.342Z"
   },
   {
    "duration": 3,
    "start_time": "2025-03-02T21:45:22.519Z"
   },
   {
    "duration": 5,
    "start_time": "2025-03-02T21:45:22.677Z"
   },
   {
    "duration": 5,
    "start_time": "2025-03-02T21:45:22.864Z"
   },
   {
    "duration": 6,
    "start_time": "2025-03-02T21:45:23.490Z"
   },
   {
    "duration": 8,
    "start_time": "2025-03-02T21:45:23.637Z"
   },
   {
    "duration": 15,
    "start_time": "2025-03-02T21:45:24.095Z"
   },
   {
    "duration": 6,
    "start_time": "2025-03-02T21:45:24.247Z"
   },
   {
    "duration": 13,
    "start_time": "2025-03-02T21:45:25.059Z"
   },
   {
    "duration": 29,
    "start_time": "2025-03-02T21:45:25.219Z"
   },
   {
    "duration": 5,
    "start_time": "2025-03-02T21:45:25.741Z"
   },
   {
    "duration": 25,
    "start_time": "2025-03-02T21:45:26.224Z"
   },
   {
    "duration": 14,
    "start_time": "2025-03-02T21:45:26.520Z"
   },
   {
    "duration": 7,
    "start_time": "2025-03-02T21:45:26.670Z"
   },
   {
    "duration": 17,
    "start_time": "2025-03-02T21:45:27.417Z"
   },
   {
    "duration": 17,
    "start_time": "2025-03-02T21:45:28.038Z"
   },
   {
    "duration": 14,
    "start_time": "2025-03-02T21:45:28.330Z"
   },
   {
    "duration": 6,
    "start_time": "2025-03-02T21:45:28.490Z"
   },
   {
    "duration": 28,
    "start_time": "2025-03-02T21:45:29.269Z"
   },
   {
    "duration": 6,
    "start_time": "2025-03-02T21:45:29.725Z"
   },
   {
    "duration": 20,
    "start_time": "2025-03-02T21:45:30.188Z"
   },
   {
    "duration": 7,
    "start_time": "2025-03-02T21:45:31.087Z"
   },
   {
    "duration": 27,
    "start_time": "2025-03-02T21:45:31.498Z"
   },
   {
    "duration": 9,
    "start_time": "2025-03-02T21:45:31.545Z"
   },
   {
    "duration": 13,
    "start_time": "2025-03-02T21:45:31.801Z"
   },
   {
    "duration": 16,
    "start_time": "2025-03-02T21:45:31.837Z"
   },
   {
    "duration": 20,
    "start_time": "2025-03-02T21:45:32.139Z"
   },
   {
    "duration": 20,
    "start_time": "2025-03-02T21:45:32.748Z"
   },
   {
    "duration": 17,
    "start_time": "2025-03-02T21:45:33.031Z"
   },
   {
    "duration": 19,
    "start_time": "2025-03-02T21:45:33.363Z"
   },
   {
    "duration": 192,
    "start_time": "2025-03-02T21:45:34.023Z"
   },
   {
    "duration": 521,
    "start_time": "2025-03-02T21:45:34.262Z"
   },
   {
    "duration": 5,
    "start_time": "2025-03-02T21:45:34.878Z"
   },
   {
    "duration": 96,
    "start_time": "2025-03-02T21:45:34.973Z"
   },
   {
    "duration": 143,
    "start_time": "2025-03-02T21:45:35.822Z"
   },
   {
    "duration": 343,
    "start_time": "2025-03-02T21:45:36.029Z"
   },
   {
    "duration": 5,
    "start_time": "2025-03-02T21:45:36.374Z"
   },
   {
    "duration": 87,
    "start_time": "2025-03-02T21:45:36.549Z"
   },
   {
    "duration": 154,
    "start_time": "2025-03-02T21:45:39.124Z"
   },
   {
    "duration": 285,
    "start_time": "2025-03-02T21:45:39.331Z"
   },
   {
    "duration": 4,
    "start_time": "2025-03-02T21:45:39.618Z"
   },
   {
    "duration": 92,
    "start_time": "2025-03-02T21:45:40.013Z"
   },
   {
    "duration": 9,
    "start_time": "2025-03-02T21:45:40.993Z"
   },
   {
    "duration": 145,
    "start_time": "2025-03-02T21:45:41.169Z"
   },
   {
    "duration": 196,
    "start_time": "2025-03-02T21:45:41.407Z"
   },
   {
    "duration": 5,
    "start_time": "2025-03-02T21:45:41.643Z"
   },
   {
    "duration": 90,
    "start_time": "2025-03-02T21:45:41.916Z"
   },
   {
    "duration": 4,
    "start_time": "2025-03-02T21:45:47.223Z"
   },
   {
    "duration": 4,
    "start_time": "2025-03-02T21:48:24.652Z"
   },
   {
    "duration": 7,
    "start_time": "2025-03-03T13:00:01.135Z"
   },
   {
    "duration": 2562,
    "start_time": "2025-03-03T13:16:25.496Z"
   },
   {
    "duration": 222,
    "start_time": "2025-03-03T13:16:28.061Z"
   },
   {
    "duration": 10,
    "start_time": "2025-03-03T13:16:28.285Z"
   },
   {
    "duration": 9,
    "start_time": "2025-03-03T13:16:28.297Z"
   },
   {
    "duration": 5,
    "start_time": "2025-03-03T13:16:28.308Z"
   },
   {
    "duration": 4,
    "start_time": "2025-03-03T13:16:28.315Z"
   },
   {
    "duration": 9,
    "start_time": "2025-03-03T13:16:28.698Z"
   },
   {
    "duration": 9,
    "start_time": "2025-03-03T13:16:28.858Z"
   },
   {
    "duration": 6,
    "start_time": "2025-03-03T13:16:29.693Z"
   },
   {
    "duration": 3,
    "start_time": "2025-03-03T13:16:29.865Z"
   },
   {
    "duration": 5,
    "start_time": "2025-03-03T13:16:30.026Z"
   },
   {
    "duration": 6,
    "start_time": "2025-03-03T13:16:30.200Z"
   },
   {
    "duration": 8,
    "start_time": "2025-03-03T13:16:30.889Z"
   },
   {
    "duration": 9,
    "start_time": "2025-03-03T13:16:31.062Z"
   },
   {
    "duration": 16,
    "start_time": "2025-03-03T13:16:31.565Z"
   },
   {
    "duration": 7,
    "start_time": "2025-03-03T13:16:31.740Z"
   },
   {
    "duration": 13,
    "start_time": "2025-03-03T13:16:32.578Z"
   },
   {
    "duration": 33,
    "start_time": "2025-03-03T13:16:32.745Z"
   },
   {
    "duration": 5,
    "start_time": "2025-03-03T13:16:33.432Z"
   },
   {
    "duration": 26,
    "start_time": "2025-03-03T13:16:46.564Z"
   },
   {
    "duration": 12,
    "start_time": "2025-03-03T13:16:48.018Z"
   },
   {
    "duration": 6,
    "start_time": "2025-03-03T13:17:16.938Z"
   },
   {
    "duration": 21,
    "start_time": "2025-03-03T13:17:17.562Z"
   },
   {
    "duration": 13,
    "start_time": "2025-03-03T13:17:18.214Z"
   },
   {
    "duration": 6,
    "start_time": "2025-03-03T13:17:18.404Z"
   },
   {
    "duration": 16,
    "start_time": "2025-03-03T13:17:19.188Z"
   },
   {
    "duration": 17,
    "start_time": "2025-03-03T13:17:19.861Z"
   },
   {
    "duration": 14,
    "start_time": "2025-03-03T13:17:20.198Z"
   },
   {
    "duration": 6,
    "start_time": "2025-03-03T13:17:20.372Z"
   },
   {
    "duration": 35,
    "start_time": "2025-03-03T13:17:21.245Z"
   },
   {
    "duration": 5,
    "start_time": "2025-03-03T13:17:21.979Z"
   },
   {
    "duration": 21,
    "start_time": "2025-03-03T13:17:35.963Z"
   },
   {
    "duration": 9,
    "start_time": "2025-03-03T13:17:42.636Z"
   },
   {
    "duration": 32,
    "start_time": "2025-03-03T13:17:43.655Z"
   },
   {
    "duration": 10,
    "start_time": "2025-03-03T13:17:44.321Z"
   },
   {
    "duration": 16,
    "start_time": "2025-03-03T13:17:44.939Z"
   },
   {
    "duration": 16,
    "start_time": "2025-03-03T13:17:45.621Z"
   },
   {
    "duration": 23,
    "start_time": "2025-03-03T13:17:46.413Z"
   },
   {
    "duration": 21,
    "start_time": "2025-03-03T13:17:55.619Z"
   },
   {
    "duration": 17,
    "start_time": "2025-03-03T13:17:56.403Z"
   },
   {
    "duration": 22,
    "start_time": "2025-03-03T13:17:57.926Z"
   },
   {
    "duration": 212,
    "start_time": "2025-03-03T13:19:14.103Z"
   },
   {
    "duration": 547,
    "start_time": "2025-03-03T13:19:14.317Z"
   },
   {
    "duration": 5,
    "start_time": "2025-03-03T13:19:14.866Z"
   },
   {
    "duration": 111,
    "start_time": "2025-03-03T13:19:14.872Z"
   },
   {
    "duration": 161,
    "start_time": "2025-03-03T13:19:15.444Z"
   },
   {
    "duration": 273,
    "start_time": "2025-03-03T13:19:15.618Z"
   },
   {
    "duration": 4,
    "start_time": "2025-03-03T13:19:16.064Z"
   },
   {
    "duration": 90,
    "start_time": "2025-03-03T13:19:16.349Z"
   },
   {
    "duration": 146,
    "start_time": "2025-03-03T13:19:17.088Z"
   },
   {
    "duration": 291,
    "start_time": "2025-03-03T13:19:17.284Z"
   },
   {
    "duration": 5,
    "start_time": "2025-03-03T13:19:17.577Z"
   },
   {
    "duration": 96,
    "start_time": "2025-03-03T13:19:17.656Z"
   },
   {
    "duration": 11,
    "start_time": "2025-03-03T13:19:18.655Z"
   },
   {
    "duration": 148,
    "start_time": "2025-03-03T13:19:18.845Z"
   },
   {
    "duration": 227,
    "start_time": "2025-03-03T13:19:19.042Z"
   },
   {
    "duration": 4,
    "start_time": "2025-03-03T13:19:19.271Z"
   },
   {
    "duration": 93,
    "start_time": "2025-03-03T13:19:19.418Z"
   },
   {
    "duration": 5,
    "start_time": "2025-03-03T13:19:37.547Z"
   },
   {
    "duration": 5,
    "start_time": "2025-03-03T13:19:37.754Z"
   },
   {
    "duration": 84,
    "start_time": "2025-03-03T13:19:38.441Z"
   },
   {
    "duration": 3,
    "start_time": "2025-03-03T13:30:29.783Z"
   },
   {
    "duration": 159,
    "start_time": "2025-03-03T13:30:30.118Z"
   },
   {
    "duration": 8,
    "start_time": "2025-03-03T13:30:30.713Z"
   },
   {
    "duration": 7,
    "start_time": "2025-03-03T13:30:30.871Z"
   },
   {
    "duration": 5,
    "start_time": "2025-03-03T13:30:31.630Z"
   },
   {
    "duration": 5,
    "start_time": "2025-03-03T13:30:31.780Z"
   },
   {
    "duration": 9,
    "start_time": "2025-03-03T13:30:32.725Z"
   },
   {
    "duration": 8,
    "start_time": "2025-03-03T13:30:32.881Z"
   },
   {
    "duration": 5,
    "start_time": "2025-03-03T13:30:33.683Z"
   },
   {
    "duration": 4,
    "start_time": "2025-03-03T13:30:33.848Z"
   },
   {
    "duration": 5,
    "start_time": "2025-03-03T13:30:34.001Z"
   },
   {
    "duration": 5,
    "start_time": "2025-03-03T13:30:34.157Z"
   },
   {
    "duration": 6,
    "start_time": "2025-03-03T13:30:34.807Z"
   },
   {
    "duration": 11,
    "start_time": "2025-03-03T13:30:34.943Z"
   },
   {
    "duration": 16,
    "start_time": "2025-03-03T13:30:35.711Z"
   },
   {
    "duration": 7,
    "start_time": "2025-03-03T13:30:35.916Z"
   },
   {
    "duration": 14,
    "start_time": "2025-03-03T13:30:36.842Z"
   },
   {
    "duration": 32,
    "start_time": "2025-03-03T13:30:37.034Z"
   },
   {
    "duration": 5,
    "start_time": "2025-03-03T13:30:37.902Z"
   },
   {
    "duration": 25,
    "start_time": "2025-03-03T13:30:38.722Z"
   },
   {
    "duration": 12,
    "start_time": "2025-03-03T13:30:39.350Z"
   },
   {
    "duration": 6,
    "start_time": "2025-03-03T13:30:39.578Z"
   },
   {
    "duration": 15,
    "start_time": "2025-03-03T13:30:41.002Z"
   },
   {
    "duration": 17,
    "start_time": "2025-03-03T13:30:41.966Z"
   },
   {
    "duration": 19,
    "start_time": "2025-03-03T13:30:42.423Z"
   },
   {
    "duration": 7,
    "start_time": "2025-03-03T13:30:42.667Z"
   },
   {
    "duration": 32,
    "start_time": "2025-03-03T13:30:43.719Z"
   },
   {
    "duration": 4,
    "start_time": "2025-03-03T13:30:44.552Z"
   },
   {
    "duration": 21,
    "start_time": "2025-03-03T13:30:45.233Z"
   },
   {
    "duration": 8,
    "start_time": "2025-03-03T13:30:46.218Z"
   },
   {
    "duration": 30,
    "start_time": "2025-03-03T13:30:47.091Z"
   },
   {
    "duration": 11,
    "start_time": "2025-03-03T13:30:47.320Z"
   },
   {
    "duration": 13,
    "start_time": "2025-03-03T13:30:47.619Z"
   },
   {
    "duration": 15,
    "start_time": "2025-03-03T13:30:47.879Z"
   },
   {
    "duration": 19,
    "start_time": "2025-03-03T13:30:48.197Z"
   },
   {
    "duration": 18,
    "start_time": "2025-03-03T13:36:24.511Z"
   },
   {
    "duration": 19,
    "start_time": "2025-03-03T13:43:05.178Z"
   },
   {
    "duration": 19,
    "start_time": "2025-03-03T13:43:11.665Z"
   },
   {
    "duration": 4,
    "start_time": "2025-03-03T13:44:06.434Z"
   },
   {
    "duration": 162,
    "start_time": "2025-03-03T13:44:06.782Z"
   },
   {
    "duration": 8,
    "start_time": "2025-03-03T13:44:07.440Z"
   },
   {
    "duration": 7,
    "start_time": "2025-03-03T13:44:07.595Z"
   },
   {
    "duration": 6,
    "start_time": "2025-03-03T13:44:08.368Z"
   },
   {
    "duration": 4,
    "start_time": "2025-03-03T13:44:08.551Z"
   },
   {
    "duration": 9,
    "start_time": "2025-03-03T13:44:09.573Z"
   },
   {
    "duration": 8,
    "start_time": "2025-03-03T13:44:09.754Z"
   },
   {
    "duration": 6,
    "start_time": "2025-03-03T13:44:10.598Z"
   },
   {
    "duration": 3,
    "start_time": "2025-03-03T13:44:10.767Z"
   },
   {
    "duration": 6,
    "start_time": "2025-03-03T13:44:10.924Z"
   },
   {
    "duration": 7,
    "start_time": "2025-03-03T13:44:11.100Z"
   },
   {
    "duration": 5,
    "start_time": "2025-03-03T13:44:11.721Z"
   },
   {
    "duration": 8,
    "start_time": "2025-03-03T13:44:11.888Z"
   },
   {
    "duration": 16,
    "start_time": "2025-03-03T13:44:12.384Z"
   },
   {
    "duration": 6,
    "start_time": "2025-03-03T13:44:12.541Z"
   },
   {
    "duration": 13,
    "start_time": "2025-03-03T13:44:13.373Z"
   },
   {
    "duration": 32,
    "start_time": "2025-03-03T13:44:13.553Z"
   },
   {
    "duration": 5,
    "start_time": "2025-03-03T13:44:14.228Z"
   },
   {
    "duration": 24,
    "start_time": "2025-03-03T13:44:14.750Z"
   },
   {
    "duration": 12,
    "start_time": "2025-03-03T13:44:15.076Z"
   },
   {
    "duration": 6,
    "start_time": "2025-03-03T13:44:15.235Z"
   },
   {
    "duration": 15,
    "start_time": "2025-03-03T13:44:16.056Z"
   },
   {
    "duration": 19,
    "start_time": "2025-03-03T13:44:16.776Z"
   },
   {
    "duration": 14,
    "start_time": "2025-03-03T13:44:17.137Z"
   },
   {
    "duration": 6,
    "start_time": "2025-03-03T13:44:17.308Z"
   },
   {
    "duration": 32,
    "start_time": "2025-03-03T13:44:18.219Z"
   },
   {
    "duration": 4,
    "start_time": "2025-03-03T13:44:18.920Z"
   },
   {
    "duration": 23,
    "start_time": "2025-03-03T13:44:19.468Z"
   },
   {
    "duration": 7,
    "start_time": "2025-03-03T13:44:20.192Z"
   },
   {
    "duration": 32,
    "start_time": "2025-03-03T13:44:20.534Z"
   },
   {
    "duration": 11,
    "start_time": "2025-03-03T13:44:20.709Z"
   },
   {
    "duration": 10,
    "start_time": "2025-03-03T13:44:20.882Z"
   },
   {
    "duration": 14,
    "start_time": "2025-03-03T13:44:21.039Z"
   },
   {
    "duration": 19,
    "start_time": "2025-03-03T13:44:21.214Z"
   },
   {
    "duration": 24,
    "start_time": "2025-03-03T13:44:21.961Z"
   },
   {
    "duration": 17,
    "start_time": "2025-03-03T13:44:22.167Z"
   },
   {
    "duration": 21,
    "start_time": "2025-03-03T13:44:23.570Z"
   },
   {
    "duration": 16,
    "start_time": "2025-03-03T13:45:20.805Z"
   },
   {
    "duration": 19,
    "start_time": "2025-03-03T13:45:44.087Z"
   },
   {
    "duration": 194,
    "start_time": "2025-03-03T13:45:45.095Z"
   },
   {
    "duration": 492,
    "start_time": "2025-03-03T13:45:45.291Z"
   },
   {
    "duration": 5,
    "start_time": "2025-03-03T13:45:45.785Z"
   },
   {
    "duration": 102,
    "start_time": "2025-03-03T13:45:45.793Z"
   },
   {
    "duration": 154,
    "start_time": "2025-03-03T13:45:46.423Z"
   },
   {
    "duration": 315,
    "start_time": "2025-03-03T13:45:46.579Z"
   },
   {
    "duration": 5,
    "start_time": "2025-03-03T13:45:46.904Z"
   },
   {
    "duration": 92,
    "start_time": "2025-03-03T13:45:46.918Z"
   },
   {
    "duration": 150,
    "start_time": "2025-03-03T13:45:47.584Z"
   },
   {
    "duration": 324,
    "start_time": "2025-03-03T13:45:47.757Z"
   },
   {
    "duration": 4,
    "start_time": "2025-03-03T13:45:48.084Z"
   },
   {
    "duration": 116,
    "start_time": "2025-03-03T13:45:48.089Z"
   },
   {
    "duration": 10,
    "start_time": "2025-03-03T13:45:48.925Z"
   },
   {
    "duration": 150,
    "start_time": "2025-03-03T13:45:49.088Z"
   },
   {
    "duration": 231,
    "start_time": "2025-03-03T13:45:49.240Z"
   },
   {
    "duration": 4,
    "start_time": "2025-03-03T13:45:49.474Z"
   },
   {
    "duration": 93,
    "start_time": "2025-03-03T13:45:49.563Z"
   },
   {
    "duration": 5,
    "start_time": "2025-03-03T13:45:50.946Z"
   },
   {
    "duration": 5,
    "start_time": "2025-03-03T13:45:51.156Z"
   },
   {
    "duration": 14,
    "start_time": "2025-03-03T13:45:52.086Z"
   },
   {
    "duration": 757,
    "start_time": "2025-03-03T22:47:36.389Z"
   },
   {
    "duration": 211,
    "start_time": "2025-03-03T22:47:37.148Z"
   },
   {
    "duration": 9,
    "start_time": "2025-03-03T22:47:37.361Z"
   },
   {
    "duration": 9,
    "start_time": "2025-03-03T22:47:37.373Z"
   },
   {
    "duration": 5,
    "start_time": "2025-03-03T22:47:37.383Z"
   },
   {
    "duration": 4,
    "start_time": "2025-03-03T22:47:37.390Z"
   },
   {
    "duration": 20,
    "start_time": "2025-03-03T22:47:37.396Z"
   },
   {
    "duration": 10,
    "start_time": "2025-03-03T22:47:37.417Z"
   },
   {
    "duration": 5,
    "start_time": "2025-03-03T22:47:37.428Z"
   },
   {
    "duration": 2,
    "start_time": "2025-03-03T22:47:37.437Z"
   },
   {
    "duration": 5,
    "start_time": "2025-03-03T22:47:37.441Z"
   },
   {
    "duration": 4,
    "start_time": "2025-03-03T22:47:37.448Z"
   },
   {
    "duration": 6,
    "start_time": "2025-03-03T22:47:37.454Z"
   },
   {
    "duration": 8,
    "start_time": "2025-03-03T22:47:37.462Z"
   },
   {
    "duration": 52,
    "start_time": "2025-03-03T22:47:37.472Z"
   },
   {
    "duration": 6,
    "start_time": "2025-03-03T22:47:37.525Z"
   },
   {
    "duration": 12,
    "start_time": "2025-03-03T22:47:37.533Z"
   },
   {
    "duration": 32,
    "start_time": "2025-03-03T22:47:37.546Z"
   },
   {
    "duration": 33,
    "start_time": "2025-03-03T22:47:37.580Z"
   },
   {
    "duration": 26,
    "start_time": "2025-03-03T22:47:37.614Z"
   },
   {
    "duration": 12,
    "start_time": "2025-03-03T22:47:37.641Z"
   },
   {
    "duration": 6,
    "start_time": "2025-03-03T22:47:37.654Z"
   },
   {
    "duration": 15,
    "start_time": "2025-03-03T22:47:37.662Z"
   },
   {
    "duration": 45,
    "start_time": "2025-03-03T22:47:37.678Z"
   },
   {
    "duration": 14,
    "start_time": "2025-03-03T22:47:37.724Z"
   },
   {
    "duration": 7,
    "start_time": "2025-03-03T22:47:37.739Z"
   },
   {
    "duration": 33,
    "start_time": "2025-03-03T22:47:37.748Z"
   },
   {
    "duration": 26,
    "start_time": "2025-03-03T22:47:37.786Z"
   },
   {
    "duration": 20,
    "start_time": "2025-03-03T22:47:37.814Z"
   },
   {
    "duration": 8,
    "start_time": "2025-03-03T22:47:37.835Z"
   },
   {
    "duration": 33,
    "start_time": "2025-03-03T22:47:37.844Z"
   },
   {
    "duration": 39,
    "start_time": "2025-03-03T22:47:37.879Z"
   },
   {
    "duration": 14,
    "start_time": "2025-03-03T22:47:37.920Z"
   },
   {
    "duration": 15,
    "start_time": "2025-03-03T22:47:37.935Z"
   },
   {
    "duration": 21,
    "start_time": "2025-03-03T22:47:37.951Z"
   },
   {
    "duration": 49,
    "start_time": "2025-03-03T22:47:37.974Z"
   },
   {
    "duration": 20,
    "start_time": "2025-03-03T22:47:38.025Z"
   },
   {
    "duration": 19,
    "start_time": "2025-03-03T22:47:38.047Z"
   },
   {
    "duration": 274,
    "start_time": "2025-03-03T22:47:38.068Z"
   },
   {
    "duration": 471,
    "start_time": "2025-03-03T22:47:38.343Z"
   },
   {
    "duration": 5,
    "start_time": "2025-03-03T22:47:38.816Z"
   },
   {
    "duration": 106,
    "start_time": "2025-03-03T22:47:38.825Z"
   },
   {
    "duration": 148,
    "start_time": "2025-03-03T22:47:38.933Z"
   },
   {
    "duration": 335,
    "start_time": "2025-03-03T22:47:39.083Z"
   },
   {
    "duration": 4,
    "start_time": "2025-03-03T22:47:39.420Z"
   },
   {
    "duration": 100,
    "start_time": "2025-03-03T22:47:39.426Z"
   },
   {
    "duration": 153,
    "start_time": "2025-03-03T22:47:39.527Z"
   },
   {
    "duration": 305,
    "start_time": "2025-03-03T22:47:39.682Z"
   },
   {
    "duration": 5,
    "start_time": "2025-03-03T22:47:39.988Z"
   },
   {
    "duration": 107,
    "start_time": "2025-03-03T22:47:39.994Z"
   },
   {
    "duration": 14,
    "start_time": "2025-03-03T22:47:40.105Z"
   },
   {
    "duration": 163,
    "start_time": "2025-03-03T22:47:40.121Z"
   },
   {
    "duration": 269,
    "start_time": "2025-03-03T22:47:40.286Z"
   },
   {
    "duration": 5,
    "start_time": "2025-03-03T22:47:40.557Z"
   },
   {
    "duration": 173,
    "start_time": "2025-03-03T22:47:40.563Z"
   },
   {
    "duration": 5,
    "start_time": "2025-03-03T22:47:40.737Z"
   },
   {
    "duration": 5,
    "start_time": "2025-03-03T22:47:40.743Z"
   },
   {
    "duration": 13,
    "start_time": "2025-03-03T22:47:40.750Z"
   },
   {
    "duration": 25,
    "start_time": "2025-03-03T22:48:32.061Z"
   },
   {
    "duration": 18,
    "start_time": "2025-03-03T22:48:43.308Z"
   },
   {
    "duration": 18,
    "start_time": "2025-03-03T22:50:05.460Z"
   },
   {
    "duration": 19,
    "start_time": "2025-03-03T22:50:09.494Z"
   },
   {
    "duration": 2771,
    "start_time": "2025-03-04T00:20:45.384Z"
   },
   {
    "duration": 240,
    "start_time": "2025-03-04T00:20:48.158Z"
   },
   {
    "duration": 10,
    "start_time": "2025-03-04T00:20:48.400Z"
   },
   {
    "duration": 10,
    "start_time": "2025-03-04T00:20:48.413Z"
   },
   {
    "duration": 6,
    "start_time": "2025-03-04T00:20:48.426Z"
   },
   {
    "duration": 6,
    "start_time": "2025-03-04T00:20:48.434Z"
   },
   {
    "duration": 9,
    "start_time": "2025-03-04T00:20:48.837Z"
   },
   {
    "duration": 9,
    "start_time": "2025-03-04T00:20:48.989Z"
   },
   {
    "duration": 6,
    "start_time": "2025-03-04T00:20:49.771Z"
   },
   {
    "duration": 3,
    "start_time": "2025-03-04T00:20:49.928Z"
   },
   {
    "duration": 5,
    "start_time": "2025-03-04T00:20:50.083Z"
   },
   {
    "duration": 7,
    "start_time": "2025-03-04T00:20:50.251Z"
   },
   {
    "duration": 7,
    "start_time": "2025-03-04T00:20:50.985Z"
   },
   {
    "duration": 11,
    "start_time": "2025-03-04T00:20:51.171Z"
   },
   {
    "duration": 16,
    "start_time": "2025-03-04T00:20:51.723Z"
   },
   {
    "duration": 7,
    "start_time": "2025-03-04T00:20:51.904Z"
   },
   {
    "duration": 13,
    "start_time": "2025-03-04T00:20:52.793Z"
   },
   {
    "duration": 36,
    "start_time": "2025-03-04T00:20:52.971Z"
   },
   {
    "duration": 5,
    "start_time": "2025-03-04T00:20:53.690Z"
   },
   {
    "duration": 27,
    "start_time": "2025-03-04T00:20:54.367Z"
   },
   {
    "duration": 13,
    "start_time": "2025-03-04T00:20:54.757Z"
   },
   {
    "duration": 7,
    "start_time": "2025-03-04T00:20:54.953Z"
   },
   {
    "duration": 18,
    "start_time": "2025-03-04T00:20:55.879Z"
   },
   {
    "duration": 18,
    "start_time": "2025-03-04T00:20:56.672Z"
   },
   {
    "duration": 14,
    "start_time": "2025-03-04T00:20:57.034Z"
   },
   {
    "duration": 8,
    "start_time": "2025-03-04T00:20:57.212Z"
   },
   {
    "duration": 37,
    "start_time": "2025-03-04T00:20:58.110Z"
   },
   {
    "duration": 5,
    "start_time": "2025-03-04T00:20:58.874Z"
   },
   {
    "duration": 21,
    "start_time": "2025-03-04T00:20:59.531Z"
   },
   {
    "duration": 11,
    "start_time": "2025-03-04T00:21:00.355Z"
   },
   {
    "duration": 49,
    "start_time": "2025-03-04T00:21:00.762Z"
   },
   {
    "duration": 11,
    "start_time": "2025-03-04T00:21:00.969Z"
   },
   {
    "duration": 22,
    "start_time": "2025-03-04T00:21:01.152Z"
   },
   {
    "duration": 17,
    "start_time": "2025-03-04T00:21:01.377Z"
   },
   {
    "duration": 23,
    "start_time": "2025-03-04T00:21:01.882Z"
   },
   {
    "duration": 23,
    "start_time": "2025-03-04T00:21:05.024Z"
   },
   {
    "duration": 20,
    "start_time": "2025-03-04T00:21:05.233Z"
   },
   {
    "duration": 21,
    "start_time": "2025-03-04T00:21:07.471Z"
   },
   {
    "duration": 19,
    "start_time": "2025-03-04T00:55:38.296Z"
   },
   {
    "duration": 2,
    "start_time": "2025-03-04T00:56:04.861Z"
   },
   {
    "duration": 159,
    "start_time": "2025-03-04T00:56:05.185Z"
   },
   {
    "duration": 9,
    "start_time": "2025-03-04T00:56:05.863Z"
   },
   {
    "duration": 7,
    "start_time": "2025-03-04T00:56:06.032Z"
   },
   {
    "duration": 5,
    "start_time": "2025-03-04T00:56:06.828Z"
   },
   {
    "duration": 7,
    "start_time": "2025-03-04T00:56:07.007Z"
   },
   {
    "duration": 8,
    "start_time": "2025-03-04T00:56:07.994Z"
   },
   {
    "duration": 8,
    "start_time": "2025-03-04T00:56:08.171Z"
   },
   {
    "duration": 5,
    "start_time": "2025-03-04T00:56:09.025Z"
   },
   {
    "duration": 3,
    "start_time": "2025-03-04T00:56:09.184Z"
   },
   {
    "duration": 6,
    "start_time": "2025-03-04T00:56:09.354Z"
   },
   {
    "duration": 5,
    "start_time": "2025-03-04T00:56:09.524Z"
   },
   {
    "duration": 6,
    "start_time": "2025-03-04T00:56:10.174Z"
   },
   {
    "duration": 9,
    "start_time": "2025-03-04T00:56:10.351Z"
   },
   {
    "duration": 16,
    "start_time": "2025-03-04T00:56:10.882Z"
   },
   {
    "duration": 7,
    "start_time": "2025-03-04T00:56:11.073Z"
   },
   {
    "duration": 14,
    "start_time": "2025-03-04T00:56:11.937Z"
   },
   {
    "duration": 29,
    "start_time": "2025-03-04T00:56:12.114Z"
   },
   {
    "duration": 5,
    "start_time": "2025-03-04T00:56:12.776Z"
   },
   {
    "duration": 24,
    "start_time": "2025-03-04T00:56:13.783Z"
   },
   {
    "duration": 12,
    "start_time": "2025-03-04T00:56:14.461Z"
   },
   {
    "duration": 18,
    "start_time": "2025-03-04T00:56:14.690Z"
   },
   {
    "duration": 15,
    "start_time": "2025-03-04T00:56:15.625Z"
   },
   {
    "duration": 16,
    "start_time": "2025-03-04T00:56:16.370Z"
   },
   {
    "duration": 14,
    "start_time": "2025-03-04T00:56:16.684Z"
   },
   {
    "duration": 6,
    "start_time": "2025-03-04T00:56:16.868Z"
   },
   {
    "duration": 34,
    "start_time": "2025-03-04T00:56:17.694Z"
   },
   {
    "duration": 4,
    "start_time": "2025-03-04T00:56:18.384Z"
   },
   {
    "duration": 20,
    "start_time": "2025-03-04T00:56:18.913Z"
   },
   {
    "duration": 8,
    "start_time": "2025-03-04T00:56:19.666Z"
   },
   {
    "duration": 31,
    "start_time": "2025-03-04T00:56:20.040Z"
   },
   {
    "duration": 10,
    "start_time": "2025-03-04T00:56:20.203Z"
   },
   {
    "duration": 15,
    "start_time": "2025-03-04T00:56:20.380Z"
   },
   {
    "duration": 15,
    "start_time": "2025-03-04T00:56:20.557Z"
   },
   {
    "duration": 21,
    "start_time": "2025-03-04T00:56:20.732Z"
   },
   {
    "duration": 21,
    "start_time": "2025-03-04T00:56:23.051Z"
   },
   {
    "duration": 17,
    "start_time": "2025-03-04T00:56:23.949Z"
   },
   {
    "duration": 23,
    "start_time": "2025-03-04T00:56:39.845Z"
   },
   {
    "duration": 20,
    "start_time": "2025-03-04T00:56:40.932Z"
   },
   {
    "duration": 238,
    "start_time": "2025-03-04T00:56:53.080Z"
   },
   {
    "duration": 496,
    "start_time": "2025-03-04T00:56:53.320Z"
   },
   {
    "duration": 4,
    "start_time": "2025-03-04T00:57:01.612Z"
   },
   {
    "duration": 97,
    "start_time": "2025-03-04T00:57:01.775Z"
   },
   {
    "duration": 145,
    "start_time": "2025-03-04T00:57:04.257Z"
   },
   {
    "duration": 288,
    "start_time": "2025-03-04T00:57:05.026Z"
   },
   {
    "duration": 5,
    "start_time": "2025-03-04T00:57:08.830Z"
   },
   {
    "duration": 88,
    "start_time": "2025-03-04T00:57:10.008Z"
   },
   {
    "duration": 147,
    "start_time": "2025-03-04T00:57:13.808Z"
   },
   {
    "duration": 232,
    "start_time": "2025-03-04T00:57:15.168Z"
   },
   {
    "duration": 5,
    "start_time": "2025-03-04T00:57:17.456Z"
   },
   {
    "duration": 95,
    "start_time": "2025-03-04T00:57:18.611Z"
   },
   {
    "duration": 9,
    "start_time": "2025-03-04T00:57:25.514Z"
   },
   {
    "duration": 158,
    "start_time": "2025-03-04T00:57:34.497Z"
   },
   {
    "duration": 201,
    "start_time": "2025-03-04T00:57:35.463Z"
   },
   {
    "duration": 4,
    "start_time": "2025-03-04T00:57:35.666Z"
   },
   {
    "duration": 163,
    "start_time": "2025-03-04T00:57:37.262Z"
   },
   {
    "duration": 5,
    "start_time": "2025-03-04T00:59:02.024Z"
   },
   {
    "duration": 5,
    "start_time": "2025-03-04T00:59:02.134Z"
   },
   {
    "duration": 15,
    "start_time": "2025-03-04T00:59:02.628Z"
   },
   {
    "duration": 2582,
    "start_time": "2025-03-04T12:18:42.001Z"
   },
   {
    "duration": 235,
    "start_time": "2025-03-04T12:18:44.585Z"
   },
   {
    "duration": 10,
    "start_time": "2025-03-04T12:18:44.821Z"
   },
   {
    "duration": 10,
    "start_time": "2025-03-04T12:18:44.833Z"
   },
   {
    "duration": 6,
    "start_time": "2025-03-04T12:18:44.844Z"
   },
   {
    "duration": 4,
    "start_time": "2025-03-04T12:18:44.852Z"
   },
   {
    "duration": 8,
    "start_time": "2025-03-04T12:18:44.858Z"
   },
   {
    "duration": 8,
    "start_time": "2025-03-04T12:18:44.867Z"
   },
   {
    "duration": 5,
    "start_time": "2025-03-04T12:18:44.877Z"
   },
   {
    "duration": 3,
    "start_time": "2025-03-04T12:18:44.886Z"
   },
   {
    "duration": 48,
    "start_time": "2025-03-04T12:18:44.890Z"
   },
   {
    "duration": 5,
    "start_time": "2025-03-04T12:18:44.939Z"
   },
   {
    "duration": 8,
    "start_time": "2025-03-04T12:18:44.946Z"
   },
   {
    "duration": 9,
    "start_time": "2025-03-04T12:18:44.955Z"
   },
   {
    "duration": 17,
    "start_time": "2025-03-04T12:18:44.965Z"
   },
   {
    "duration": 7,
    "start_time": "2025-03-04T12:18:44.983Z"
   },
   {
    "duration": 48,
    "start_time": "2025-03-04T12:18:44.992Z"
   },
   {
    "duration": 36,
    "start_time": "2025-03-04T12:18:45.042Z"
   },
   {
    "duration": 5,
    "start_time": "2025-03-04T12:18:45.080Z"
   },
   {
    "duration": 46,
    "start_time": "2025-03-04T12:18:45.087Z"
   },
   {
    "duration": 12,
    "start_time": "2025-03-04T12:18:45.135Z"
   },
   {
    "duration": 6,
    "start_time": "2025-03-04T12:18:45.148Z"
   },
   {
    "duration": 16,
    "start_time": "2025-03-04T12:18:45.156Z"
   },
   {
    "duration": 17,
    "start_time": "2025-03-04T12:18:45.174Z"
   },
   {
    "duration": 43,
    "start_time": "2025-03-04T12:18:45.193Z"
   },
   {
    "duration": 9,
    "start_time": "2025-03-04T12:18:45.237Z"
   },
   {
    "duration": 37,
    "start_time": "2025-03-04T12:18:45.249Z"
   },
   {
    "duration": 4,
    "start_time": "2025-03-04T12:18:45.290Z"
   },
   {
    "duration": 41,
    "start_time": "2025-03-04T12:18:45.296Z"
   },
   {
    "duration": 7,
    "start_time": "2025-03-04T12:18:45.339Z"
   },
   {
    "duration": 32,
    "start_time": "2025-03-04T12:18:45.347Z"
   },
   {
    "duration": 11,
    "start_time": "2025-03-04T12:18:45.381Z"
   },
   {
    "duration": 38,
    "start_time": "2025-03-04T12:18:45.393Z"
   },
   {
    "duration": 15,
    "start_time": "2025-03-04T12:18:45.433Z"
   },
   {
    "duration": 23,
    "start_time": "2025-03-04T12:18:45.450Z"
   },
   {
    "duration": 20,
    "start_time": "2025-03-04T12:18:45.475Z"
   },
   {
    "duration": 40,
    "start_time": "2025-03-04T12:18:45.497Z"
   },
   {
    "duration": 20,
    "start_time": "2025-03-04T12:18:45.539Z"
   },
   {
    "duration": 19,
    "start_time": "2025-03-04T12:18:45.561Z"
   },
   {
    "duration": 231,
    "start_time": "2025-03-04T12:18:45.581Z"
   },
   {
    "duration": 498,
    "start_time": "2025-03-04T12:18:45.814Z"
   },
   {
    "duration": 5,
    "start_time": "2025-03-04T12:18:46.314Z"
   },
   {
    "duration": 155,
    "start_time": "2025-03-04T12:18:46.320Z"
   },
   {
    "duration": 152,
    "start_time": "2025-03-04T12:18:46.476Z"
   },
   {
    "duration": 291,
    "start_time": "2025-03-04T12:18:46.631Z"
   },
   {
    "duration": 5,
    "start_time": "2025-03-04T12:18:46.931Z"
   },
   {
    "duration": 103,
    "start_time": "2025-03-04T12:18:46.938Z"
   },
   {
    "duration": 164,
    "start_time": "2025-03-04T12:18:47.043Z"
   },
   {
    "duration": 307,
    "start_time": "2025-03-04T12:18:47.209Z"
   },
   {
    "duration": 15,
    "start_time": "2025-03-04T12:18:47.518Z"
   },
   {
    "duration": 108,
    "start_time": "2025-03-04T12:18:47.534Z"
   },
   {
    "duration": 21,
    "start_time": "2025-03-04T12:18:47.643Z"
   },
   {
    "duration": 160,
    "start_time": "2025-03-04T12:18:47.666Z"
   },
   {
    "duration": 261,
    "start_time": "2025-03-04T12:18:47.831Z"
   },
   {
    "duration": 5,
    "start_time": "2025-03-04T12:18:48.094Z"
   },
   {
    "duration": 132,
    "start_time": "2025-03-04T12:18:48.101Z"
   },
   {
    "duration": 6,
    "start_time": "2025-03-04T12:18:48.237Z"
   },
   {
    "duration": 4,
    "start_time": "2025-03-04T12:18:48.245Z"
   },
   {
    "duration": 14,
    "start_time": "2025-03-04T12:18:48.251Z"
   },
   {
    "duration": 5,
    "start_time": "2025-03-04T12:20:27.844Z"
   },
   {
    "duration": 7,
    "start_time": "2025-03-04T12:21:45.635Z"
   },
   {
    "duration": 2611,
    "start_time": "2025-03-04T12:31:57.258Z"
   },
   {
    "duration": 257,
    "start_time": "2025-03-04T12:31:59.871Z"
   },
   {
    "duration": 10,
    "start_time": "2025-03-04T12:32:00.130Z"
   },
   {
    "duration": 11,
    "start_time": "2025-03-04T12:32:00.142Z"
   },
   {
    "duration": 5,
    "start_time": "2025-03-04T12:32:00.154Z"
   },
   {
    "duration": 5,
    "start_time": "2025-03-04T12:32:00.160Z"
   },
   {
    "duration": 9,
    "start_time": "2025-03-04T12:32:00.598Z"
   },
   {
    "duration": 7,
    "start_time": "2025-03-04T12:32:00.770Z"
   },
   {
    "duration": 5,
    "start_time": "2025-03-04T12:32:01.620Z"
   },
   {
    "duration": 4,
    "start_time": "2025-03-04T12:32:01.816Z"
   },
   {
    "duration": 5,
    "start_time": "2025-03-04T12:32:01.981Z"
   },
   {
    "duration": 6,
    "start_time": "2025-03-04T12:32:02.172Z"
   },
   {
    "duration": 7,
    "start_time": "2025-03-04T12:32:02.858Z"
   },
   {
    "duration": 10,
    "start_time": "2025-03-04T12:32:03.034Z"
   },
   {
    "duration": 17,
    "start_time": "2025-03-04T12:32:03.578Z"
   },
   {
    "duration": 6,
    "start_time": "2025-03-04T12:32:03.763Z"
   },
   {
    "duration": 14,
    "start_time": "2025-03-04T12:32:04.945Z"
   },
   {
    "duration": 33,
    "start_time": "2025-03-04T12:32:05.153Z"
   },
   {
    "duration": 5,
    "start_time": "2025-03-04T12:32:05.971Z"
   },
   {
    "duration": 25,
    "start_time": "2025-03-04T12:32:07.154Z"
   },
   {
    "duration": 12,
    "start_time": "2025-03-04T12:32:07.634Z"
   },
   {
    "duration": 6,
    "start_time": "2025-03-04T12:32:07.860Z"
   },
   {
    "duration": 17,
    "start_time": "2025-03-04T12:32:09.094Z"
   },
   {
    "duration": 16,
    "start_time": "2025-03-04T12:32:10.008Z"
   },
   {
    "duration": 14,
    "start_time": "2025-03-04T12:32:10.485Z"
   },
   {
    "duration": 7,
    "start_time": "2025-03-04T12:32:10.738Z"
   },
   {
    "duration": 38,
    "start_time": "2025-03-04T12:32:12.007Z"
   },
   {
    "duration": 4,
    "start_time": "2025-03-04T12:32:12.864Z"
   },
   {
    "duration": 20,
    "start_time": "2025-03-04T12:32:14.181Z"
   },
   {
    "duration": 9,
    "start_time": "2025-03-04T12:32:15.579Z"
   },
   {
    "duration": 33,
    "start_time": "2025-03-04T12:32:16.014Z"
   },
   {
    "duration": 11,
    "start_time": "2025-03-04T12:32:16.224Z"
   },
   {
    "duration": 15,
    "start_time": "2025-03-04T12:32:16.424Z"
   },
   {
    "duration": 16,
    "start_time": "2025-03-04T12:32:16.489Z"
   },
   {
    "duration": 24,
    "start_time": "2025-03-04T12:32:16.680Z"
   },
   {
    "duration": 22,
    "start_time": "2025-03-04T12:32:18.507Z"
   },
   {
    "duration": 16,
    "start_time": "2025-03-04T12:32:19.302Z"
   },
   {
    "duration": 21,
    "start_time": "2025-03-04T12:32:20.901Z"
   },
   {
    "duration": 219,
    "start_time": "2025-03-04T12:32:29.585Z"
   },
   {
    "duration": 490,
    "start_time": "2025-03-04T12:32:29.807Z"
   },
   {
    "duration": 4,
    "start_time": "2025-03-04T12:32:30.306Z"
   },
   {
    "duration": 103,
    "start_time": "2025-03-04T12:32:30.453Z"
   },
   {
    "duration": 148,
    "start_time": "2025-03-04T12:32:31.291Z"
   },
   {
    "duration": 316,
    "start_time": "2025-03-04T12:32:31.517Z"
   },
   {
    "duration": 6,
    "start_time": "2025-03-04T12:32:31.835Z"
   },
   {
    "duration": 88,
    "start_time": "2025-03-04T12:32:31.944Z"
   },
   {
    "duration": 212,
    "start_time": "2025-03-04T12:32:32.895Z"
   },
   {
    "duration": 271,
    "start_time": "2025-03-04T12:32:33.116Z"
   },
   {
    "duration": 17,
    "start_time": "2025-03-04T12:32:33.389Z"
   },
   {
    "duration": 94,
    "start_time": "2025-03-04T12:32:33.581Z"
   },
   {
    "duration": 10,
    "start_time": "2025-03-04T12:32:34.726Z"
   },
   {
    "duration": 153,
    "start_time": "2025-03-04T12:32:34.942Z"
   },
   {
    "duration": 247,
    "start_time": "2025-03-04T12:32:35.162Z"
   },
   {
    "duration": 5,
    "start_time": "2025-03-04T12:32:35.429Z"
   },
   {
    "duration": 95,
    "start_time": "2025-03-04T12:32:35.674Z"
   },
   {
    "duration": 4,
    "start_time": "2025-03-04T12:32:37.876Z"
   },
   {
    "duration": 5,
    "start_time": "2025-03-04T12:32:38.142Z"
   },
   {
    "duration": 16,
    "start_time": "2025-03-04T12:32:38.897Z"
   }
  ],
  "colab": {
   "provenance": []
  },
  "kernelspec": {
   "display_name": "Python 3 (ipykernel)",
   "language": "python",
   "name": "python3"
  },
  "language_info": {
   "codemirror_mode": {
    "name": "ipython",
    "version": 3
   },
   "file_extension": ".py",
   "mimetype": "text/x-python",
   "name": "python",
   "nbconvert_exporter": "python",
   "pygments_lexer": "ipython3",
   "version": "3.9.19"
  },
  "toc": {
   "base_numbering": 1,
   "nav_menu": {},
   "number_sections": true,
   "sideBar": true,
   "skip_h1_title": false,
   "title_cell": "Table of Contents",
   "title_sidebar": "Contents",
   "toc_cell": false,
   "toc_position": {
    "height": "calc(100% - 180px)",
    "left": "10px",
    "top": "150px",
    "width": "165px"
   },
   "toc_section_display": true,
   "toc_window_display": true
  }
 },
 "nbformat": 4,
 "nbformat_minor": 1
}
